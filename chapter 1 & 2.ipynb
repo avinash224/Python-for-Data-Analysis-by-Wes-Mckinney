{
 "cells": [
  {
   "cell_type": "markdown",
   "id": "6564256e",
   "metadata": {},
   "source": [
    "# Python for Data Analysis, 2nd Edition\n",
    "\n",
    "Python for Data Analysis by Wes McKinney (O’Reilly). Copyright 2017 Wes McKinney, 978-1-491-95766-0."
   ]
  },
  {
   "cell_type": "markdown",
   "id": "15a14772",
   "metadata": {},
   "source": [
    "### Notes\n",
    "\n",
    "##### chapter 1 : priliminaries\n",
    "- Python is a scripting languages, as it can be used to quickly write small programs, or scripts to automate other tasks\n",
    "- came in existence around 1991\n",
    "- As Python is an interpreted programming language, in general most Python code will run substantially slower than code written in a compiled language like Java or C++. \n",
    "- Python has global interpreter lock (GIL), a mechanism that prevents the interpreter from executing more than one Python instruction at a time. Thus, it is difficult but not impossible to build highly concurrent, multithreaded applications, particularly applications with many CPU-bound threads.\n",
    "- Essential python libraries: NUMPY, PANDAS, MATPLOTLIB, SCIPY, SCIKIT-LEARN, STATSMODEL\n",
    "- Ipython encourages an execute-explore workflow instead of the typical edit-compile-run workflow of many other programming languages.\n",
    "- In 2014, Fernando and the IPython team announced the Jupyter project. The IPython web notebook became the Jupyter notebook, with support now for over 40 programming languages. The IPython system can now be used as a kernel (a programming language mode) for using Python with Jupyter\n",
    "- some of the IDEs for python:\n",
    "        - PyDev (free), an IDE built on the Eclipse platform\n",
    "        - PyCharm from JetBrains (subscription-based for commercial users, free for open source developers)\n",
    "        - Python Tools for Visual Studio (for Windows users)\n",
    "        - Spyder (free), an IDE currently shipped with Anaconda\n",
    "        - Komodo IDE (commercial)\n",
    "\n",
    "\n",
    "   \n"
   ]
  },
  {
   "cell_type": "markdown",
   "id": "c40da525",
   "metadata": {},
   "source": [
    "#### Chapter 2. Python Language Basics, IPython, and Jupyter Notebooks\n",
    "##### 2.1 Ipython Basics - \n",
    "You can launch the IPython shell on the command line just like launching the regular Python interpreter except with the ipython command."
   ]
  },
  {
   "cell_type": "code",
   "execution_count": 7,
   "id": "0668a32b",
   "metadata": {},
   "outputs": [
    {
     "data": {
      "text/plain": [
       "{0: -1.5623758502060672,\n",
       " 1: 0.7608148272193457,\n",
       " 2: 0.4371544306027187,\n",
       " 3: 0.021762237637156134,\n",
       " 4: 0.2906943665112698,\n",
       " 5: 0.07395583541569202,\n",
       " 6: -0.723852566419829}"
      ]
     },
     "execution_count": 7,
     "metadata": {},
     "output_type": "execute_result"
    }
   ],
   "source": [
    "import numpy as np \n",
    "data = {i: np.random.randn() for i in range(7)}\n",
    "data"
   ]
  },
  {
   "cell_type": "markdown",
   "id": "8f3fe3c8",
   "metadata": {},
   "source": [
    "Many kinds of Python objects are formatted to be more readable, or      pretty-printed, which is distinct from normal      printing with print"
   ]
  },
  {
   "cell_type": "code",
   "execution_count": 8,
   "id": "9c06637c",
   "metadata": {},
   "outputs": [
    {
     "name": "stdout",
     "output_type": "stream",
     "text": [
      "{0: -1.5623758502060672, 1: 0.7608148272193457, 2: 0.4371544306027187, 3: 0.021762237637156134, 4: 0.2906943665112698, 5: 0.07395583541569202, 6: -0.723852566419829}\n"
     ]
    }
   ],
   "source": [
    "print(data) #print - normal printing "
   ]
  },
  {
   "cell_type": "markdown",
   "id": "6ddb4368",
   "metadata": {},
   "source": [
    "jupter file extension => .ipynb format -  self-contained file format that contains all of the content (including      any evaluated code output) currently in the notebook."
   ]
  },
  {
   "cell_type": "markdown",
   "id": "1f0513e7",
   "metadata": {},
   "source": [
    "##### 2.2 Tab Completion - major imporvement over the standard python shell \n",
    "- variable \n",
    "- modules (package has its subpackages which maybe termed as modules)\n",
    "- in jupyter, it appears in the form of drop-down list (instead of showing a list of to select from avaialbel options)\n",
    "- file path \n",
    "- function arguments "
   ]
  },
  {
   "cell_type": "markdown",
   "id": "4161ad85",
   "metadata": {},
   "source": [
    "##### 2.3 Introspection \n",
    "- a.k.a object introspection \n",
    "- ? = before or after an object will display some general information \n",
    "- ?? = will also show functions source code if possible \n",
    "- in case of if the doc string is defined, it will also be displayed "
   ]
  },
  {
   "cell_type": "code",
   "execution_count": 9,
   "id": "809d95a5",
   "metadata": {},
   "outputs": [],
   "source": [
    "?print"
   ]
  },
  {
   "cell_type": "code",
   "execution_count": 10,
   "id": "618710db",
   "metadata": {},
   "outputs": [],
   "source": [
    "def add_2 (num1, num2):\n",
    "    \"\"\"\n",
    "    fucntion returns sum of two numeric values \n",
    "    \"\"\"\n",
    "    return num1+num2"
   ]
  },
  {
   "cell_type": "code",
   "execution_count": 11,
   "id": "86d4e416",
   "metadata": {},
   "outputs": [],
   "source": [
    "? add_2"
   ]
  },
  {
   "cell_type": "code",
   "execution_count": 12,
   "id": "f35db6d7",
   "metadata": {},
   "outputs": [],
   "source": [
    "?? add_2"
   ]
  },
  {
   "cell_type": "markdown",
   "id": "5111dacf",
   "metadata": {},
   "source": [
    "##### 2.4 The %run Command\n",
    "- You can run any file as a Python program inside the environment of your      IPython session using the %run      command.\n",
    "- All of the variables      (imports, functions, and globals) defined in the file (up until an      exception, if any, is raised) will then be accessible in the IPython      shell\n",
    "- Should you wish to give a script access to variables already        defined in the interactive IPython namespace, use %run -i instead of plain %run\n",
    "##### %load - magic fucntion - returns entire script in code shell "
   ]
  },
  {
   "cell_type": "code",
   "execution_count": null,
   "id": "2c2ea6ea",
   "metadata": {},
   "outputs": [],
   "source": [
    "%run Downloads/Capstone_project_oil_and_gas.py"
   ]
  },
  {
   "cell_type": "code",
   "execution_count": null,
   "id": "315607f6",
   "metadata": {},
   "outputs": [],
   "source": [
    "data.head() # All of the variables (imports, functions, and globals) defined in the file \n",
    "#(up until an exception, if any, is raised) will then be accessible in the IPython shell"
   ]
  },
  {
   "cell_type": "code",
   "execution_count": null,
   "id": "36997eff",
   "metadata": {},
   "outputs": [],
   "source": [
    "# %load Downloads/Capstone_project_oil_and_gas.py"
   ]
  },
  {
   "cell_type": "markdown",
   "id": "f33fb238",
   "metadata": {},
   "source": [
    "###  Ctrl-C  KeyboardInterrupt\n",
    "- When a piece of Python code has called into some compiled          extension modules, pressing Ctrl-C will not always cause the          program execution to stop immediately."
   ]
  },
  {
   "cell_type": "markdown",
   "id": "26295141",
   "metadata": {},
   "source": [
    "### %paste and %cpaste (only used in python shell not on jupyter)\n",
    "- %paste - takes clipboard text and execute it \n",
    "- %cpaste - you have the freedom to paste as much code as you like before executing it.   "
   ]
  },
  {
   "cell_type": "markdown",
   "id": "7ec480cf",
   "metadata": {},
   "source": [
    "### Magic command - any command prefixed with % \n",
    "- eg. %load , %paste, %cpaste \n",
    "- can also be used without % if no variable has same name "
   ]
  },
  {
   "cell_type": "code",
   "execution_count": 13,
   "id": "a554ed75",
   "metadata": {},
   "outputs": [
    {
     "data": {
      "text/plain": [
       "'/Users/avinashtripathi'"
      ]
     },
     "execution_count": 13,
     "metadata": {},
     "output_type": "execute_result"
    }
   ],
   "source": [
    "# Some magic functions behave like Python functions and their output can be assigned to a variable\n",
    "%pwd "
   ]
  },
  {
   "cell_type": "code",
   "execution_count": 14,
   "id": "a29c8cfd",
   "metadata": {},
   "outputs": [
    {
     "data": {
      "text/plain": [
       "'/Users/avinashtripathi'"
      ]
     },
     "execution_count": 14,
     "metadata": {},
     "output_type": "execute_result"
    }
   ],
   "source": [
    "foo = %pwd \n",
    "foo"
   ]
  },
  {
   "cell_type": "markdown",
   "id": "9540805e",
   "metadata": {},
   "source": [
    "### 2.5 matplotlib Integration \n",
    "- %matplotlib magic function      configures its integration with the IPython shell or Jupyter notebook.\n",
    "- This is important, as otherwise plots you create will either not appear      (notebook) or take control of the session until closed (shell).\n"
   ]
  },
  {
   "cell_type": "code",
   "execution_count": 15,
   "id": "2838dd34",
   "metadata": {},
   "outputs": [
    {
     "data": {
      "text/plain": [
       "[<matplotlib.lines.Line2D at 0x7fa9f9430160>]"
      ]
     },
     "execution_count": 15,
     "metadata": {},
     "output_type": "execute_result"
    },
    {
     "data": {
      "image/png": "[encoded data removed]",
      "text/plain": [
       "<Figure size 432x288 with 1 Axes>"
      ]
     },
     "metadata": {
      "needs_background": "light"
     },
     "output_type": "display_data"
    }
   ],
   "source": [
    "#In the IPython shell, running %matplotlib sets up the integration so you can create multiple plot windows without \n",
    "# -interfering with the console session\n",
    "#%matplotlib\n",
    "\n",
    "#In Jupyter, the command is a little different \n",
    "%matplotlib inline \n",
    "import matplotlib.pyplot as plt\n",
    "plt.plot (np.random.randn(50).cumsum())"
   ]
  },
  {
   "cell_type": "markdown",
   "id": "97988030",
   "metadata": {},
   "source": [
    "### 2.6 Python Language Basics\n",
    "- python use whitespace for better redability \n",
    "- ; used to spearate multiple python statement \n",
    "        - a = 5; b = 6; c = 7\n",
    "- everthing is an object - variable , function, keyword, class, datastructure, module. \n",
    "- comments are intiated by #\n",
    "- call function using parenthesis ()\n",
    "- assignemnts (a.k.a. binding) refer to same object\n",
    "- Type Conversion : python is a strongly typed language, internal conversion will occue in certain obvious conditions  \n",
    "        - '5' + 5 => error \n",
    "        - 0.5 + 5 => correct \n",
    "- isinstance (obj,(type1,type2, ..))\n",
    "- To use any piece of external code, firstly, save the file in .py format in the same directory which you are currently accessing and then use IMPORT File_name \n",
    "- mutable object - list, dict , numpy arrays , user defined classes  \n",
    "- immutable - string, tuple, int "
   ]
  },
  {
   "cell_type": "code",
   "execution_count": 16,
   "id": "dd996a3c",
   "metadata": {},
   "outputs": [],
   "source": [
    "#reference and altering of parent data\n",
    "def append_element(some_list, element):\n",
    "    return some_list.append(element)"
   ]
  },
  {
   "cell_type": "code",
   "execution_count": 18,
   "id": "25fd0b9b",
   "metadata": {},
   "outputs": [
    {
     "data": {
      "text/plain": [
       "[1, 2, 3, 4]"
      ]
     },
     "execution_count": 18,
     "metadata": {},
     "output_type": "execute_result"
    }
   ],
   "source": [
    "data = [1,2,3]\n",
    "append_element(data, 4)\n",
    "data"
   ]
  },
  {
   "cell_type": "markdown",
   "id": "c62afa9b",
   "metadata": {},
   "source": [
    "#### dynamic reference strong types\n",
    "- object        references in Python have no type associated with        them. "
   ]
  },
  {
   "cell_type": "code",
   "execution_count": 19,
   "id": "d1a8d677",
   "metadata": {},
   "outputs": [
    {
     "name": "stdout",
     "output_type": "stream",
     "text": [
      "<class 'int'>\n",
      "<class 'str'>\n"
     ]
    }
   ],
   "source": [
    "a = 5 \n",
    "print(type (a))\n",
    "a = 'boo'\n",
    "print(type(a))"
   ]
  },
  {
   "cell_type": "code",
   "execution_count": 21,
   "id": "6d731297",
   "metadata": {},
   "outputs": [
    {
     "data": {
      "text/plain": [
       "False"
      ]
     },
     "execution_count": 21,
     "metadata": {},
     "output_type": "execute_result"
    }
   ],
   "source": [
    "isinstance(a, (int,bool)) #checks whether an object is among the mentioned tuple o ject types "
   ]
  },
  {
   "cell_type": "markdown",
   "id": "38e26cf0",
   "metadata": {},
   "source": [
    "#### Attributes and Methods\n",
    "- Attribute - Other python objects stored inside the object\n",
    "- Methods - functions specific to an object type "
   ]
  },
  {
   "cell_type": "code",
   "execution_count": 24,
   "id": "50672cf8",
   "metadata": {},
   "outputs": [
    {
     "data": {
      "text/plain": [
       "<function str.split(sep=None, maxsplit=-1)>"
      ]
     },
     "execution_count": 24,
     "metadata": {},
     "output_type": "execute_result"
    }
   ],
   "source": [
    "getattr(a, 'split')"
   ]
  },
  {
   "cell_type": "markdown",
   "id": "139dc79e",
   "metadata": {},
   "source": [
    "#### Binary Operators and comparison \n",
    "- use IS or IS NOT keyword to check if two objects point to a same reference \n",
    "- comparison with IS is not same as == operator (i.e. == checks value and IS checks reference)\n",
    "            - a + b         ==> Addition\n",
    "            - a - b         ==> subtraction \n",
    "            - a * b         ==> Multiplication\n",
    "            - a / b         ==> division\n",
    "            - a // b        ==> dropping any fractional part of remainder\n",
    "            - a ** b        ==> power \n",
    "            - a & b         ==> conditional AND\n",
    "            - a | b         ==> conditional OR\n",
    "            - a ^ b         ==> conditional EXOR \n",
    "            - a == b        ==> comparison\n",
    "            - a != b        ==> not equal\n",
    "            - a <= b, a < b ==> less than equal / less than\n",
    "            - a >= b, a > b ==> greater than equal / greater than\n",
    "            - a is b        ==> True if a and b reference the same Python object\n",
    "            - a is not b    ==> True if a and b does not reference the same Python object"
   ]
  },
  {
   "cell_type": "code",
   "execution_count": 31,
   "id": "225b8851",
   "metadata": {},
   "outputs": [
    {
     "name": "stdout",
     "output_type": "stream",
     "text": [
      "True\n",
      "True\n",
      "False\n"
     ]
    }
   ],
   "source": [
    "a = [1,2,3]\n",
    "b =a \n",
    "c = list (a)\n",
    "print (a is b)\n",
    "print(a is not c )\n",
    "\n",
    "#commonly used to check if an object is NONE \n",
    "print(a is None) "
   ]
  },
  {
   "cell_type": "code",
   "execution_count": 32,
   "id": "2ca676e0",
   "metadata": {},
   "outputs": [
    {
     "name": "stdout",
     "output_type": "stream",
     "text": [
      "addition :  17\n",
      "subtraction :  11\n",
      "Multiplication :  42\n",
      "division :  4.666666666666667\n",
      "drop fractional remanider part :  4\n",
      "power :  2744\n",
      "conditional AND :  3\n",
      "conditional OR :  14\n",
      "conditional EXOR :  13\n",
      "comparison check:  False\n",
      "not equal check:  True\n",
      "less than check :  False\n",
      "greater than check :  True\n",
      "same refrence check :  False\n",
      "different reference check :  True\n"
     ]
    }
   ],
   "source": [
    "a = 14\n",
    "b = 3\n",
    "\n",
    "print(\"addition : \", a+b)\n",
    "print(\"subtraction : \", a-b)\n",
    "print(\"Multiplication : \", a*b)\n",
    "print(\"division : \", a/b)\n",
    "print(\"drop fractional remanider part : \", a//b)\n",
    "print(\"power : \", a**b)\n",
    "print(\"conditional AND : \", a and b)\n",
    "print(\"conditional OR : \", a or b)\n",
    "print(\"conditional EXOR : \", a ^ b)\n",
    "print(\"comparison check: \", a == b)\n",
    "print(\"not equal check: \", a != b)\n",
    "print(\"less than check : \", a < b)\n",
    "print(\"greater than check : \", a > b)\n",
    "print(\"same refrence check : \", a is b)\n",
    "print(\"different reference check : \", a is not b)"
   ]
  },
  {
   "cell_type": "markdown",
   "id": "36460301",
   "metadata": {},
   "source": [
    "#### Scalar types\n",
    "- built in single value data types\n",
    "    - Numeric type : \n",
    "        - int()\n",
    "        - float()\n",
    "    - Strings:\n",
    "        - str()\n",
    "        - to convert any object into string using '' or \"\" or str()\n",
    "        - for multiline strings \"\"\" \"\"\"\n",
    "        - immutable "
   ]
  },
  {
   "cell_type": "code",
   "execution_count": 33,
   "id": "c9a6b7b0",
   "metadata": {},
   "outputs": [
    {
     "data": {
      "text/plain": [
       "3934860433925011956964804116621731904"
      ]
     },
     "execution_count": 33,
     "metadata": {},
     "output_type": "execute_result"
    }
   ],
   "source": [
    "ival = 1256478\n",
    "ival ** 6"
   ]
  },
  {
   "cell_type": "code",
   "execution_count": 34,
   "id": "ded608b7",
   "metadata": {},
   "outputs": [],
   "source": [
    "fval = 7.243 \n",
    "fval2 = 6.78e-5"
   ]
  },
  {
   "cell_type": "code",
   "execution_count": 39,
   "id": "41943fed",
   "metadata": {},
   "outputs": [
    {
     "data": {
      "text/plain": [
       "1.5"
      ]
     },
     "execution_count": 39,
     "metadata": {},
     "output_type": "execute_result"
    }
   ],
   "source": [
    "3/2  "
   ]
  },
  {
   "cell_type": "code",
   "execution_count": 38,
   "id": "3ee2d938",
   "metadata": {},
   "outputs": [
    {
     "data": {
      "text/plain": [
       "1"
      ]
     },
     "execution_count": 38,
     "metadata": {},
     "output_type": "execute_result"
    }
   ],
   "source": [
    "3//2 # C style integer division "
   ]
  },
  {
   "cell_type": "code",
   "execution_count": 43,
   "id": "13a31627",
   "metadata": {},
   "outputs": [
    {
     "data": {
      "text/plain": [
       "3"
      ]
     },
     "execution_count": 43,
     "metadata": {},
     "output_type": "execute_result"
    }
   ],
   "source": [
    "a = 'one way of writing string'\n",
    "b = \"anoter way of writing strings\"\n",
    "c= \"\"\"\n",
    "this is the thrid way of writing \n",
    "long strings\n",
    "\"\"\"\n",
    "c.count('\\n')"
   ]
  },
  {
   "cell_type": "code",
   "execution_count": 44,
   "id": "49c3f9e0",
   "metadata": {},
   "outputs": [
    {
     "ename": "TypeError",
     "evalue": "'str' object does not support item assignment",
     "output_type": "error",
     "traceback": [
      "\u001b[0;31m---------------------------------------------------------------------------\u001b[0m",
      "\u001b[0;31mTypeError\u001b[0m                                 Traceback (most recent call last)",
      "\u001b[0;32m<ipython-input-44-3f3a269d609e>\u001b[0m in \u001b[0;36m<module>\u001b[0;34m\u001b[0m\n\u001b[1;32m      1\u001b[0m \u001b[0;31m# strings are immutable\u001b[0m\u001b[0;34m\u001b[0m\u001b[0;34m\u001b[0m\u001b[0;34m\u001b[0m\u001b[0m\n\u001b[0;32m----> 2\u001b[0;31m \u001b[0ma\u001b[0m\u001b[0;34m[\u001b[0m\u001b[0;36m0\u001b[0m\u001b[0;34m]\u001b[0m \u001b[0;34m=\u001b[0m \u001b[0mb\u001b[0m\u001b[0;34m\u001b[0m\u001b[0;34m\u001b[0m\u001b[0m\n\u001b[0m",
      "\u001b[0;31mTypeError\u001b[0m: 'str' object does not support item assignment"
     ]
    }
   ],
   "source": [
    "# strings are immutable\n",
    "a[0] = b"
   ]
  },
  {
   "cell_type": "code",
   "execution_count": 48,
   "id": "e0db98c2",
   "metadata": {},
   "outputs": [
    {
     "name": "stdout",
     "output_type": "stream",
     "text": [
      "[1, 2, 3, 4, 5, 6]\n",
      "[1, 2, 3, 4, 9, 6]\n"
     ]
    }
   ],
   "source": [
    "#lists are mutable \n",
    "list1 = [1,2,3,4,5,6]\n",
    "print(list1)\n",
    "list1[4] = 9\n",
    "print(list1)"
   ]
  },
  {
   "cell_type": "markdown",
   "id": "1c4722ed",
   "metadata": {},
   "source": [
    "### \\ in string acts as a escape operator, to write string literal with backslash you need to first type escape operator and then type backslah"
   ]
  },
  {
   "cell_type": "code",
   "execution_count": 66,
   "id": "91849dad",
   "metadata": {},
   "outputs": [],
   "source": [
    "str1 = 'MY \\\\ NAME'"
   ]
  },
  {
   "cell_type": "code",
   "execution_count": 68,
   "id": "54bcdea5",
   "metadata": {},
   "outputs": [
    {
     "name": "stdout",
     "output_type": "stream",
     "text": [
      "MY \\ NAME\n"
     ]
    }
   ],
   "source": [
    "print(str1) # if we do not use print then \\ will display as it is \\"
   ]
  },
  {
   "cell_type": "code",
   "execution_count": 78,
   "id": "cc878dc0",
   "metadata": {},
   "outputs": [
    {
     "data": {
      "text/plain": [
       "'MY\\\\NAME'"
      ]
     },
     "execution_count": 78,
     "metadata": {},
     "output_type": "execute_result"
    }
   ],
   "source": [
    "str2 = 'MY\\\\NAME'\n",
    "str2"
   ]
  },
  {
   "cell_type": "markdown",
   "id": "0c045b28",
   "metadata": {},
   "source": [
    "### r before string "
   ]
  },
  {
   "cell_type": "code",
   "execution_count": 79,
   "id": "8e026909",
   "metadata": {},
   "outputs": [
    {
     "name": "stdout",
     "output_type": "stream",
     "text": [
      "MY\\\\NAME\\\\IS\\\\AVINASH\n"
     ]
    }
   ],
   "source": [
    "# using r before string specifies that string should be PRINTED as it is! \n",
    "s = r'MY\\\\NAME\\\\IS\\\\AVINASH'\n",
    "print(s)"
   ]
  },
  {
   "cell_type": "code",
   "execution_count": 80,
   "id": "ed29d3db",
   "metadata": {},
   "outputs": [
    {
     "data": {
      "text/plain": [
       "'MY\\\\\\\\NAME\\\\\\\\IS\\\\\\\\AVINASH'"
      ]
     },
     "execution_count": 80,
     "metadata": {},
     "output_type": "execute_result"
    }
   ],
   "source": [
    "s"
   ]
  },
  {
   "cell_type": "code",
   "execution_count": 82,
   "id": "7d96b431",
   "metadata": {},
   "outputs": [
    {
     "data": {
      "text/plain": [
       "'Hello World'"
      ]
     },
     "execution_count": 82,
     "metadata": {},
     "output_type": "execute_result"
    }
   ],
   "source": [
    "# string addition \n",
    "a = 'Hello'\n",
    "b = ' World'\n",
    "a+b"
   ]
  },
  {
   "cell_type": "markdown",
   "id": "8e5b0e6d",
   "metadata": {},
   "source": [
    "### . FORMAT\n",
    "- {0:.2f} ==>  0 = position;  after (:) = floating-point number with two decimal places.\n",
    "- {1:s}   ==>  1 = position;  after (:) = string argument\n",
    "- {2:d}   ==>  2 = position;  after (:) = exact integer"
   ]
  },
  {
   "cell_type": "code",
   "execution_count": 84,
   "id": "cc040622",
   "metadata": {},
   "outputs": [
    {
     "data": {
      "text/plain": [
       "'1 USD is equal to 74.50'"
      ]
     },
     "execution_count": 84,
     "metadata": {},
     "output_type": "execute_result"
    }
   ],
   "source": [
    "str1 = '{0:d} {1:s} is equal to {2:.2f}'\n",
    "str1.format(1, 'USD', 74.50)"
   ]
  },
  {
   "cell_type": "markdown",
   "id": "ea44f3db",
   "metadata": {},
   "source": [
    "### Encode and Decode \n",
    "- unicode encoding of byte objects"
   ]
  },
  {
   "cell_type": "code",
   "execution_count": 85,
   "id": "27fc6d15",
   "metadata": {},
   "outputs": [],
   "source": [
    "val = \"español\" #str is called as unicde "
   ]
  },
  {
   "cell_type": "code",
   "execution_count": 86,
   "id": "8c792826",
   "metadata": {},
   "outputs": [
    {
     "data": {
      "text/plain": [
       "'español'"
      ]
     },
     "execution_count": 86,
     "metadata": {},
     "output_type": "execute_result"
    }
   ],
   "source": [
    "val "
   ]
  },
  {
   "cell_type": "code",
   "execution_count": 89,
   "id": "3c7bbc69",
   "metadata": {},
   "outputs": [
    {
     "data": {
      "text/plain": [
       "b'espa\\xc3\\xb1ol'"
      ]
     },
     "execution_count": 89,
     "metadata": {},
     "output_type": "execute_result"
    }
   ],
   "source": [
    "val_utf8 = val.encode('utf-8')\n",
    "val_utf8"
   ]
  },
  {
   "cell_type": "code",
   "execution_count": 90,
   "id": "d9c49b85",
   "metadata": {},
   "outputs": [
    {
     "data": {
      "text/plain": [
       "'español'"
      ]
     },
     "execution_count": 90,
     "metadata": {},
     "output_type": "execute_result"
    }
   ],
   "source": [
    "val_utf8.decode('utf-8')"
   ]
  },
  {
   "cell_type": "code",
   "execution_count": 91,
   "id": "ddf11bf4",
   "metadata": {},
   "outputs": [
    {
     "data": {
      "text/plain": [
       "b'espa\\xf1ol'"
      ]
     },
     "execution_count": 91,
     "metadata": {},
     "output_type": "execute_result"
    }
   ],
   "source": [
    "val.encode('latin-1')"
   ]
  },
  {
   "cell_type": "code",
   "execution_count": 92,
   "id": "209dbcf1",
   "metadata": {},
   "outputs": [
    {
     "data": {
      "text/plain": [
       "b'\\xff\\xfee\\x00s\\x00p\\x00a\\x00\\xf1\\x00o\\x00l\\x00'"
      ]
     },
     "execution_count": 92,
     "metadata": {},
     "output_type": "execute_result"
    }
   ],
   "source": [
    "val.encode('utf-16')"
   ]
  },
  {
   "cell_type": "markdown",
   "id": "f5a9f6dc",
   "metadata": {},
   "source": [
    "- byte encoding of unicode objects "
   ]
  },
  {
   "cell_type": "code",
   "execution_count": 93,
   "id": "24f60058",
   "metadata": {},
   "outputs": [
    {
     "data": {
      "text/plain": [
       "b'This is a string'"
      ]
     },
     "execution_count": 93,
     "metadata": {},
     "output_type": "execute_result"
    }
   ],
   "source": [
    "byte_val = b'This is a string'\n",
    "byte_val"
   ]
  },
  {
   "cell_type": "code",
   "execution_count": 96,
   "id": "465539fb",
   "metadata": {},
   "outputs": [
    {
     "data": {
      "text/plain": [
       "'This is a string'"
      ]
     },
     "execution_count": 96,
     "metadata": {},
     "output_type": "execute_result"
    }
   ],
   "source": [
    "decoded = byte_val.decode('utf-8')\n",
    "decoded #this is str (Unicode) now"
   ]
  },
  {
   "cell_type": "markdown",
   "id": "c9d48549",
   "metadata": {},
   "source": [
    "### booleans"
   ]
  },
  {
   "cell_type": "code",
   "execution_count": 97,
   "id": "11d34ba8",
   "metadata": {},
   "outputs": [
    {
     "data": {
      "text/plain": [
       "True"
      ]
     },
     "execution_count": 97,
     "metadata": {},
     "output_type": "execute_result"
    }
   ],
   "source": [
    "True and True"
   ]
  },
  {
   "cell_type": "code",
   "execution_count": 98,
   "id": "991ae019",
   "metadata": {},
   "outputs": [
    {
     "data": {
      "text/plain": [
       "True"
      ]
     },
     "execution_count": 98,
     "metadata": {},
     "output_type": "execute_result"
    }
   ],
   "source": [
    "False or True"
   ]
  },
  {
   "cell_type": "markdown",
   "id": "cf6cfce7",
   "metadata": {},
   "source": [
    "### Type casting "
   ]
  },
  {
   "cell_type": "code",
   "execution_count": 101,
   "id": "d8277d91",
   "metadata": {},
   "outputs": [
    {
     "name": "stdout",
     "output_type": "stream",
     "text": [
      "<class 'float'>\n",
      "3\n",
      "True\n",
      "False\n"
     ]
    }
   ],
   "source": [
    "s = '3.14159'\n",
    "fval = float(s)\n",
    "print(type(fval))\n",
    "\n",
    "print(int(fval))\n",
    "\n",
    "print(bool(fval))\n",
    "\n",
    "print(bool(0))"
   ]
  },
  {
   "cell_type": "markdown",
   "id": "b86a44d5",
   "metadata": {},
   "source": [
    "### NONE\n",
    "- None is the Python null value type. If a function does not explicitly        return a value, it implicitly returns None:"
   ]
  },
  {
   "cell_type": "code",
   "execution_count": 103,
   "id": "0e88397b",
   "metadata": {},
   "outputs": [
    {
     "name": "stdout",
     "output_type": "stream",
     "text": [
      "True\n",
      "True\n"
     ]
    }
   ],
   "source": [
    "a = None\n",
    "print(a is None)\n",
    "b = 5\n",
    "print(b is not None)"
   ]
  },
  {
   "cell_type": "markdown",
   "id": "4f4b0d3d",
   "metadata": {},
   "source": [
    "### DATES AND TIMES\n",
    "- built-in Python datetime        module provides datetime,        date, and time types."
   ]
  },
  {
   "cell_type": "code",
   "execution_count": 104,
   "id": "ad70788d",
   "metadata": {},
   "outputs": [],
   "source": [
    "from datetime import datetime, date, time"
   ]
  },
  {
   "cell_type": "code",
   "execution_count": 105,
   "id": "265b43cb",
   "metadata": {},
   "outputs": [],
   "source": [
    "dt = datetime(2011, 10, 29, 20, 30, 21)"
   ]
  },
  {
   "cell_type": "code",
   "execution_count": 106,
   "id": "0faf8cbb",
   "metadata": {},
   "outputs": [
    {
     "data": {
      "text/plain": [
       "29"
      ]
     },
     "execution_count": 106,
     "metadata": {},
     "output_type": "execute_result"
    }
   ],
   "source": [
    "dt.day"
   ]
  },
  {
   "cell_type": "code",
   "execution_count": 107,
   "id": "8d8841dc",
   "metadata": {},
   "outputs": [
    {
     "data": {
      "text/plain": [
       "20"
      ]
     },
     "execution_count": 107,
     "metadata": {},
     "output_type": "execute_result"
    }
   ],
   "source": [
    "dt.hour"
   ]
  },
  {
   "cell_type": "code",
   "execution_count": 108,
   "id": "2aad870a",
   "metadata": {},
   "outputs": [
    {
     "data": {
      "text/plain": [
       "datetime.date(2011, 10, 29)"
      ]
     },
     "execution_count": 108,
     "metadata": {},
     "output_type": "execute_result"
    }
   ],
   "source": [
    "dt.date()"
   ]
  },
  {
   "cell_type": "code",
   "execution_count": 109,
   "id": "11898f34",
   "metadata": {},
   "outputs": [
    {
     "data": {
      "text/plain": [
       "datetime.time(20, 30, 21)"
      ]
     },
     "execution_count": 109,
     "metadata": {},
     "output_type": "execute_result"
    }
   ],
   "source": [
    "dt.time()"
   ]
  },
  {
   "cell_type": "markdown",
   "id": "f6b0add6",
   "metadata": {},
   "source": [
    "### Control Flow\n",
    "- if, elif, and else\n",
    "        - if x < 0: print('It's negative')\n",
    "\n",
    "        - if x < 0: print('It's negative') elif x == 0: print('Equal to zero') elif 0 < x < 5: print('Positive but smaller than 5') else: print('Positive and larger than or equal to 5')"
   ]
  },
  {
   "cell_type": "code",
   "execution_count": 110,
   "id": "389b9bd2",
   "metadata": {},
   "outputs": [
    {
     "name": "stdout",
     "output_type": "stream",
     "text": [
      "Made it\n"
     ]
    }
   ],
   "source": [
    "a = 5; b = 7\n",
    "c = 8; d = 4\n",
    "if a < b or c > d:\n",
    "    print('Made it')"
   ]
  },
  {
   "cell_type": "code",
   "execution_count": 112,
   "id": "42eec586",
   "metadata": {},
   "outputs": [
    {
     "data": {
      "text/plain": [
       "True"
      ]
     },
     "execution_count": 112,
     "metadata": {},
     "output_type": "execute_result"
    }
   ],
   "source": [
    "4 > 3 > 2 > 1"
   ]
  },
  {
   "cell_type": "markdown",
   "id": "3a760b7e",
   "metadata": {},
   "source": [
    "- for loops\n",
    "    for value in collection:\n",
    "        # do something with value\n"
   ]
  },
  {
   "cell_type": "code",
   "execution_count": 114,
   "id": "03af39c0",
   "metadata": {},
   "outputs": [
    {
     "name": "stdout",
     "output_type": "stream",
     "text": [
      "(0, 0)\n",
      "(1, 0)\n",
      "(1, 1)\n",
      "(2, 0)\n",
      "(2, 1)\n",
      "(2, 2)\n",
      "(3, 0)\n",
      "(3, 1)\n",
      "(3, 2)\n",
      "(3, 3)\n",
      "(4, 0)\n",
      "(4, 1)\n",
      "(4, 2)\n",
      "(4, 3)\n"
     ]
    }
   ],
   "source": [
    "for i in range(5):\n",
    "    for j in range (4):\n",
    "        if j > i:\n",
    "            break \n",
    "        print((i,j))"
   ]
  },
  {
   "cell_type": "markdown",
   "id": "c3a05178",
   "metadata": {},
   "source": [
    "- While Loops "
   ]
  },
  {
   "cell_type": "code",
   "execution_count": 1,
   "id": "cde955ed",
   "metadata": {},
   "outputs": [],
   "source": [
    "x = 256 \n",
    "total = 0 \n",
    "while x == 0:\n",
    "    if total > 500:\n",
    "        break \n",
    "    total += x \n",
    "    x = x//2"
   ]
  },
  {
   "cell_type": "markdown",
   "id": "47ed723e",
   "metadata": {},
   "source": [
    "#### Pass - no-op statement in python\n",
    "- It can be used in blocks where no action is        to be taken (or as a placeholder for code not yet implemented)"
   ]
  },
  {
   "cell_type": "code",
   "execution_count": 2,
   "id": "05955a9d",
   "metadata": {},
   "outputs": [
    {
     "name": "stdout",
     "output_type": "stream",
     "text": [
      "positive!\n"
     ]
    }
   ],
   "source": [
    "if x < 0:    \n",
    "    print('negative!')\n",
    "elif x == 0:    \n",
    "    # TODO: put something smart here    \n",
    "    pass\n",
    "else:    \n",
    "    print('positive!')"
   ]
  },
  {
   "cell_type": "markdown",
   "id": "ec27f08e",
   "metadata": {},
   "source": [
    "#### Range \n",
    "- The range function returns an iterator that yields a sequence of evenly spaced integers.\n",
    "- As you can see, range        produces integers up to but not including the endpoint. A common use        of range is for iterating through        sequences by index."
   ]
  },
  {
   "cell_type": "code",
   "execution_count": 3,
   "id": "f2970b9d",
   "metadata": {},
   "outputs": [
    {
     "data": {
      "text/plain": [
       "range(0, 10)"
      ]
     },
     "execution_count": 3,
     "metadata": {},
     "output_type": "execute_result"
    }
   ],
   "source": [
    "range(10)"
   ]
  },
  {
   "cell_type": "code",
   "execution_count": 4,
   "id": "82ced33f",
   "metadata": {},
   "outputs": [
    {
     "data": {
      "text/plain": [
       "[0, 1, 2, 3, 4, 5, 6, 7, 8, 9]"
      ]
     },
     "execution_count": 4,
     "metadata": {},
     "output_type": "execute_result"
    }
   ],
   "source": [
    "list (range(10))"
   ]
  },
  {
   "cell_type": "code",
   "execution_count": 5,
   "id": "4fab5e23",
   "metadata": {},
   "outputs": [
    {
     "data": {
      "text/plain": [
       "[0, 2, 4, 6, 8, 10, 12, 14, 16, 18]"
      ]
     },
     "execution_count": 5,
     "metadata": {},
     "output_type": "execute_result"
    }
   ],
   "source": [
    "list(range(0,20, 2))"
   ]
  },
  {
   "cell_type": "code",
   "execution_count": 8,
   "id": "c5cb203f",
   "metadata": {},
   "outputs": [
    {
     "name": "stdout",
     "output_type": "stream",
     "text": [
      "1\n",
      "2\n",
      "3\n",
      "4\n"
     ]
    }
   ],
   "source": [
    "seq = [1, 2, 3, 4]\n",
    "for i in range(len(seq)):    \n",
    "    val = seq[i]\n",
    "    print(val)"
   ]
  },
  {
   "cell_type": "markdown",
   "id": "f11086d2",
   "metadata": {},
   "source": [
    "#### Ternary expressions\n",
    "- A ternary expression in Python allows you to combine an if-else block that produces a value into a        single line or expression. "
   ]
  },
  {
   "cell_type": "code",
   "execution_count": 14,
   "id": "9ce6ac8e",
   "metadata": {},
   "outputs": [
    {
     "data": {
      "text/plain": [
       "'Non-negative'"
      ]
     },
     "execution_count": 14,
     "metadata": {},
     "output_type": "execute_result"
    }
   ],
   "source": [
    "x = 5\n",
    "if x >= 0:    \n",
    "    value = 'Non-Negative'\n",
    "else:    \n",
    "    value = 'Negative'\n",
    "\n",
    "#ternary expression of above code \n",
    "'Non-negative' if x >= 0 else 'Negative'"
   ]
  },
  {
   "cell_type": "code",
   "execution_count": null,
   "id": "65a72699",
   "metadata": {},
   "outputs": [],
   "source": []
  }
 ],
 "metadata": {
  "kernelspec": {
   "display_name": "Python 3",
   "language": "python",
   "name": "python3"
  },
  "language_info": {
   "codemirror_mode": {
    "name": "ipython",
    "version": 3
   },
   "file_extension": ".py",
   "mimetype": "text/x-python",
   "name": "python",
   "nbconvert_exporter": "python",
   "pygments_lexer": "ipython3",
   "version": "3.8.8"
  }
 },
 "nbformat": 4,
 "nbformat_minor": 5
}
