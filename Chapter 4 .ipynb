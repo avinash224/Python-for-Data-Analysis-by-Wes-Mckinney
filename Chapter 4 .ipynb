{
 "cells": [
  {
   "cell_type": "markdown",
   "id": "061dafbd",
   "metadata": {},
   "source": [
    "# Chapter 4 NumPy Basics: Arrays and Vectorized  Computation\n",
    "\n",
    "- Numpy stands for numerical python \n",
    "- other computational package use Numpy structure for data exchange \n",
    "Things like -\n",
    "    - ndarray \n",
    "    - mathematical operation on entire array \n",
    "    - tools for reading and writing array data to disk \n",
    "    - linear algebra, random number generation, FT capabilities \n",
    "    - A C API connecting it to librarries written in C, JAVA ,FORTRAN\n",
    "    \n",
    "- topics that will be discussed are \n",
    "         - vectorised array operation (cleaning, subsetting and filtering, transformation)\n",
    "         - algo like sorting, unique and set \n",
    "         - descriptive statistics and aggregating/summarizing data\n",
    "         - data alaigning and murging hetrogeneous data \n",
    "         - converting conditinal statements to array xpression \n",
    "         - group based data manipulation\n",
    "\n",
    "-  pandas also  provides some more domain-specific functionality like time series  manipulation, which is not present in NumPy.\n",
    "\n",
    "#### Why Numpy is fast ?\n",
    "- internally stores data in contigious memory block independent of other built in python objects. Numpy's library of algo written in c language can operate on this memory without dealing with other overhead. also use much less memory when compared with other pythn objects.\n",
    "- performs complex operation without the need of python for loops\n",
    "\n",
    "    "
   ]
  },
  {
   "cell_type": "code",
   "execution_count": 2,
   "id": "7a7c65bc",
   "metadata": {},
   "outputs": [],
   "source": [
    "#comparison of numpy with \n",
    "import numpy as np "
   ]
  },
  {
   "cell_type": "code",
   "execution_count": 3,
   "id": "b42da467",
   "metadata": {},
   "outputs": [],
   "source": [
    "my_arr = np.arange(1000000)\n",
    "\n",
    "my_list = list(range(1000000))"
   ]
  },
  {
   "cell_type": "code",
   "execution_count": 4,
   "id": "cb8e7740",
   "metadata": {},
   "outputs": [
    {
     "name": "stdout",
     "output_type": "stream",
     "text": [
      "CPU times: user 19.8 ms, sys: 13.5 ms, total: 33.3 ms\n",
      "Wall time: 30.5 ms\n"
     ]
    }
   ],
   "source": [
    "%time for _ in range(10): my_arr2 = my_arr * 2"
   ]
  },
  {
   "cell_type": "code",
   "execution_count": 5,
   "id": "270e4908",
   "metadata": {},
   "outputs": [
    {
     "name": "stdout",
     "output_type": "stream",
     "text": [
      "CPU times: user 540 ms, sys: 159 ms, total: 699 ms\n",
      "Wall time: 699 ms\n"
     ]
    }
   ],
   "source": [
    "%time for _ in range(10): my_list2 = [x * 2 for x in my_list]"
   ]
  },
  {
   "cell_type": "markdown",
   "id": "1527d4e5",
   "metadata": {},
   "source": [
    "NumPy-based algorithms are generally 10 to 100 times faster (or more)  than their pure Python counterparts and use significantly less memory."
   ]
  },
  {
   "cell_type": "markdown",
   "id": "913c7509",
   "metadata": {},
   "source": [
    "## 4.1 The NumPy ndarray: A Multidimensional Array Object\n",
    "- ndarray - fast, flexible container for large datasets in Python\n",
    "- mathematical operation on whole block of data (batch computation) using easy syntax \n",
    "- multidimensional container for homogeneous    data\n",
    "- array has shape and dtype, to confirm shape it has ndim, for type -  .dtype() \n",
    "        - shape = .shape\n",
    "        - type = .dtype\n",
    "        - diemensions = .ndim\n",
    "        - np.zeros((shape)/value , dtype), np.zeros_like() , np.ones(), np.ones_like()\n",
    "        - np.empty(shape), dtype), np.empty_like()\n",
    "        - np.full(shape, val) , np.full_like()\n",
    "        - np.eye(value) , np.identity()\n",
    "        - np.arange(value) = array-valued version of the built-in Python range\n",
    "        - array.astype(new_type) = casting \n",
    "                - Calling astype always creates a new array (a copy of the data), even if the new dtype is the same as the old dtype.\n",
    "        - nparray does not copy data always specially when slicing\n",
    "        "
   ]
  },
  {
   "cell_type": "code",
   "execution_count": 7,
   "id": "ddbaf5f3",
   "metadata": {},
   "outputs": [
    {
     "data": {
      "text/plain": [
       "array([[-0.38821777, -0.34874534, -0.43431491],\n",
       "       [ 0.45171051, -0.02320963, -0.6140418 ]])"
      ]
     },
     "execution_count": 7,
     "metadata": {},
     "output_type": "execute_result"
    }
   ],
   "source": [
    "import numpy as np \n",
    "\n",
    "data = np.random.randn(2,3)\n",
    "data"
   ]
  },
  {
   "cell_type": "code",
   "execution_count": 8,
   "id": "6e4a2eef",
   "metadata": {},
   "outputs": [
    {
     "data": {
      "text/plain": [
       "array([[-3.88217771, -3.48745342, -4.34314911],\n",
       "       [ 4.51710515, -0.23209628, -6.14041797]])"
      ]
     },
     "execution_count": 8,
     "metadata": {},
     "output_type": "execute_result"
    }
   ],
   "source": [
    "data *10 \n"
   ]
  },
  {
   "cell_type": "code",
   "execution_count": 9,
   "id": "415f32ab",
   "metadata": {},
   "outputs": [
    {
     "data": {
      "text/plain": [
       "array([[-0.77643554, -0.69749068, -0.86862982],\n",
       "       [ 0.90342103, -0.04641926, -1.22808359]])"
      ]
     },
     "execution_count": 9,
     "metadata": {},
     "output_type": "execute_result"
    }
   ],
   "source": [
    "data + data"
   ]
  },
  {
   "cell_type": "code",
   "execution_count": 10,
   "id": "7be4c9ad",
   "metadata": {},
   "outputs": [
    {
     "data": {
      "text/plain": [
       "(2, 3)"
      ]
     },
     "execution_count": 10,
     "metadata": {},
     "output_type": "execute_result"
    }
   ],
   "source": [
    "data.shape"
   ]
  },
  {
   "cell_type": "code",
   "execution_count": 26,
   "id": "c3842550",
   "metadata": {},
   "outputs": [
    {
     "data": {
      "text/plain": [
       "dtype('float64')"
      ]
     },
     "execution_count": 26,
     "metadata": {},
     "output_type": "execute_result"
    }
   ],
   "source": [
    "data.dtype"
   ]
  },
  {
   "cell_type": "code",
   "execution_count": 15,
   "id": "653fc689",
   "metadata": {},
   "outputs": [
    {
     "data": {
      "text/plain": [
       "array([1, 2, 3, 4, 5])"
      ]
     },
     "execution_count": 15,
     "metadata": {},
     "output_type": "execute_result"
    }
   ],
   "source": [
    "#Creating ndarrays\n",
    "data1 = [1,2,3,4,5]\n",
    "\n",
    "arr_1 = np.array(data1)\n",
    "arr_1"
   ]
  },
  {
   "cell_type": "code",
   "execution_count": 16,
   "id": "91f0f2c4",
   "metadata": {},
   "outputs": [
    {
     "data": {
      "text/plain": [
       "array([[ 1,  2,  3,  4,  5],\n",
       "       [ 6,  7,  8,  9, 10]])"
      ]
     },
     "execution_count": 16,
     "metadata": {},
     "output_type": "execute_result"
    }
   ],
   "source": [
    "data2 = [[1,2,3,4,5],[6,7,8,9,10]]\n",
    "\n",
    "arr_2 = np.array(data2)\n",
    "arr_2"
   ]
  },
  {
   "cell_type": "code",
   "execution_count": 18,
   "id": "c7a0e026",
   "metadata": {},
   "outputs": [
    {
     "name": "stdout",
     "output_type": "stream",
     "text": [
      "2\n",
      "(2, 5)\n"
     ]
    }
   ],
   "source": [
    "print(arr_2.ndim)\n",
    "print(arr_2.shape)"
   ]
  },
  {
   "cell_type": "code",
   "execution_count": 20,
   "id": "513cadf7",
   "metadata": {},
   "outputs": [
    {
     "name": "stdout",
     "output_type": "stream",
     "text": [
      "int64\n",
      "int64\n"
     ]
    }
   ],
   "source": [
    "#datatype is selcted by numpy unless specified \n",
    "print(arr_1.dtype)\n",
    "print(arr_2.dtype)"
   ]
  },
  {
   "cell_type": "code",
   "execution_count": 31,
   "id": "ef39c02a",
   "metadata": {},
   "outputs": [
    {
     "name": "stdout",
     "output_type": "stream",
     "text": [
      "[0. 0. 0. 0. 0. 0. 0. 0. 0. 0.]\n",
      "[[[0. 0.]\n",
      "  [0. 0.]\n",
      "  [0. 0.]]\n",
      "\n",
      " [[0. 0.]\n",
      "  [0. 0.]\n",
      "  [0. 0.]]]\n",
      "[[0. 0. 0.]\n",
      " [0. 0. 0.]]\n",
      "[[1. 1.]\n",
      " [1. 1.]]\n",
      "[[1 1 1 1 1]\n",
      " [1 1 1 1 1]]\n"
     ]
    }
   ],
   "source": [
    "#other functions \n",
    "#In addition to np.array, there are a number of other functions for creating new arrays\n",
    "print (np.zeros(10))\n",
    "\n",
    "print(np.zeros((2,3,2)))\n",
    "\n",
    "#It’s not safe to assume that np.empty will return an array of all zeros.        \n",
    "#In some cases, it may return uninitialized “garbage” values.\n",
    "print(np.empty((2,3))) \n",
    "\n",
    "print(np.ones((2,2)))\n",
    "\n",
    "print(np.ones_like(arr_2)) "
   ]
  },
  {
   "cell_type": "code",
   "execution_count": 32,
   "id": "f7c8ce12",
   "metadata": {},
   "outputs": [
    {
     "data": {
      "text/plain": [
       "array([[5, 5, 5],\n",
       "       [5, 5, 5]])"
      ]
     },
     "execution_count": 32,
     "metadata": {},
     "output_type": "execute_result"
    }
   ],
   "source": [
    "np.full((2,3), 5)"
   ]
  },
  {
   "cell_type": "code",
   "execution_count": 33,
   "id": "e48901b4",
   "metadata": {},
   "outputs": [
    {
     "data": {
      "text/plain": [
       "array([[1., 0., 0., 0.],\n",
       "       [0., 1., 0., 0.],\n",
       "       [0., 0., 1., 0.],\n",
       "       [0., 0., 0., 1.]])"
      ]
     },
     "execution_count": 33,
     "metadata": {},
     "output_type": "execute_result"
    }
   ],
   "source": [
    "np.eye(4)"
   ]
  },
  {
   "cell_type": "code",
   "execution_count": 35,
   "id": "23f59789",
   "metadata": {},
   "outputs": [
    {
     "name": "stdout",
     "output_type": "stream",
     "text": [
      "int64\n",
      "[1. 2. 3. 4. 5.]\n"
     ]
    }
   ],
   "source": [
    "#casting formr one form to another \n",
    "arr = np.array([1, 2, 3, 4, 5])\n",
    "print(arr.dtype)\n",
    "\n",
    "float_arr = arr.astype(np.float64)\n",
    "print(float_arr)"
   ]
  },
  {
   "cell_type": "markdown",
   "id": "23457e42",
   "metadata": {},
   "source": [
    "## Arithmetic with NumPy Arrays\n",
    "- vectorization - batch operations on data \n",
    "- comaprison between arrays return booleans \n",
    "- Evaluating operations between differently sized arrays is called broadcasting"
   ]
  },
  {
   "cell_type": "code",
   "execution_count": 37,
   "id": "e97ae8a1",
   "metadata": {},
   "outputs": [
    {
     "data": {
      "text/plain": [
       "array([[1, 2, 3, 4],\n",
       "       [5, 6, 7, 8]])"
      ]
     },
     "execution_count": 37,
     "metadata": {},
     "output_type": "execute_result"
    }
   ],
   "source": [
    "arr = np.array ([[1,2,3,4],[5,6,7,8]])\n",
    "arr"
   ]
  },
  {
   "cell_type": "code",
   "execution_count": 38,
   "id": "bbfd0cc0",
   "metadata": {},
   "outputs": [
    {
     "data": {
      "text/plain": [
       "array([[ 1,  4,  9, 16],\n",
       "       [25, 36, 49, 64]])"
      ]
     },
     "execution_count": 38,
     "metadata": {},
     "output_type": "execute_result"
    }
   ],
   "source": [
    "arr * arr"
   ]
  },
  {
   "cell_type": "code",
   "execution_count": 39,
   "id": "4b514255",
   "metadata": {},
   "outputs": [
    {
     "data": {
      "text/plain": [
       "array([[0, 0, 0, 0],\n",
       "       [0, 0, 0, 0]])"
      ]
     },
     "execution_count": 39,
     "metadata": {},
     "output_type": "execute_result"
    }
   ],
   "source": [
    "arr - arr "
   ]
  },
  {
   "cell_type": "code",
   "execution_count": 40,
   "id": "e8f2a373",
   "metadata": {},
   "outputs": [
    {
     "data": {
      "text/plain": [
       "array([[1.        , 0.5       , 0.33333333, 0.25      ],\n",
       "       [0.2       , 0.16666667, 0.14285714, 0.125     ]])"
      ]
     },
     "execution_count": 40,
     "metadata": {},
     "output_type": "execute_result"
    }
   ],
   "source": [
    "1/arr"
   ]
  },
  {
   "cell_type": "code",
   "execution_count": 42,
   "id": "67ec47e7",
   "metadata": {},
   "outputs": [
    {
     "data": {
      "text/plain": [
       "array([[1.        , 1.41421356, 1.73205081, 2.        ],\n",
       "       [2.23606798, 2.44948974, 2.64575131, 2.82842712]])"
      ]
     },
     "execution_count": 42,
     "metadata": {},
     "output_type": "execute_result"
    }
   ],
   "source": [
    "arr ** 0.5 "
   ]
  },
  {
   "cell_type": "code",
   "execution_count": 45,
   "id": "363fd4b7",
   "metadata": {},
   "outputs": [
    {
     "data": {
      "text/plain": [
       "array([[ True, False,  True,  True],\n",
       "       [False,  True, False,  True]])"
      ]
     },
     "execution_count": 45,
     "metadata": {},
     "output_type": "execute_result"
    }
   ],
   "source": [
    "arr2 = np.array([[0., 4., 1., 0.], [7., 2., 12., 3.]])\n",
    "\n",
    "arr > arr2"
   ]
  },
  {
   "cell_type": "markdown",
   "id": "1a7766ee",
   "metadata": {},
   "source": [
    "## Basic Indexing and Slicing\n"
   ]
  },
  {
   "cell_type": "code",
   "execution_count": 47,
   "id": "eec904d4",
   "metadata": {},
   "outputs": [
    {
     "data": {
      "text/plain": [
       "array([0, 1, 2, 3, 4, 5, 6, 7, 8, 9])"
      ]
     },
     "execution_count": 47,
     "metadata": {},
     "output_type": "execute_result"
    }
   ],
   "source": [
    "arr = np.arange(10)\n",
    "arr"
   ]
  },
  {
   "cell_type": "code",
   "execution_count": 48,
   "id": "d0ebd50c",
   "metadata": {},
   "outputs": [
    {
     "name": "stdout",
     "output_type": "stream",
     "text": [
      "5\n",
      "[2 3 4]\n",
      "[ 0  1 12 12 12  5  6  7  8  9]\n"
     ]
    }
   ],
   "source": [
    "#indexing\n",
    "print(arr [5])\n",
    "\n",
    "#slicing \n",
    "print(arr[2:5])\n",
    "\n",
    "#rewrite- update \n",
    "arr [2:5] = 12\n",
    "print(arr)"
   ]
  },
  {
   "cell_type": "code",
   "execution_count": 53,
   "id": "169d5c14",
   "metadata": {},
   "outputs": [
    {
     "name": "stdout",
     "output_type": "stream",
     "text": [
      "[5 6 7]\n",
      "[ 5  6 12] [ 0  1  2  3  4  5  6 12  8  9]\n",
      "[64 64 64] [ 0  1  2  3  4 64 64 64  8  9]\n"
     ]
    }
   ],
   "source": [
    "#when we take a slice data is not copied but view is created\n",
    "arr = np.arange(10)\n",
    "arr_slice = arr[5:8]\n",
    "print(arr_slice)\n",
    "\n",
    "arr_slice[2] = 12\n",
    "print(arr_slice, arr) #as you can see 12 is getting copied to both arr and arr_slice\n",
    "\n",
    "#bare slice \"[:]\"\n",
    "arr_slice[:] = 64\n",
    "print(arr_slice, arr)"
   ]
  },
  {
   "cell_type": "code",
   "execution_count": 58,
   "id": "0f8cfe23",
   "metadata": {},
   "outputs": [
    {
     "name": "stdout",
     "output_type": "stream",
     "text": [
      "5\n",
      "[ 0  1  2  3  4 64 64 64  8  9]\n"
     ]
    }
   ],
   "source": [
    "#create a copy of an array \n",
    "copy_arr = arr[5:8].copy()\n",
    "copy_arr = 5\n",
    "print(copy_arr)\n",
    "print(arr) #when copied a new array got created and it did not affect the content in arr"
   ]
  },
  {
   "cell_type": "code",
   "execution_count": 60,
   "id": "71bca5c0",
   "metadata": {},
   "outputs": [
    {
     "name": "stdout",
     "output_type": "stream",
     "text": [
      "[7 8 9]\n",
      "8\n"
     ]
    }
   ],
   "source": [
    "arr2d = np.array([[1, 2, 3], [4, 5, 6], [7, 8, 9]])\n",
    "print(arr2d[2])\n",
    "print(arr2d[2][1])"
   ]
  },
  {
   "cell_type": "code",
   "execution_count": 68,
   "id": "087bcf3e",
   "metadata": {},
   "outputs": [
    {
     "data": {
      "text/plain": [
       "array([[ 7,  8,  9],\n",
       "       [10, 11, 12]])"
      ]
     },
     "execution_count": 68,
     "metadata": {},
     "output_type": "execute_result"
    }
   ],
   "source": [
    "arr3d = np.array([[[1, 2, 3], [4, 5, 6]], [[7, 8, 9], [10, 11, 12]]])\n",
    "arr3d[1]"
   ]
  },
  {
   "cell_type": "code",
   "execution_count": 64,
   "id": "7c507239",
   "metadata": {},
   "outputs": [
    {
     "data": {
      "text/plain": [
       "array([[[ 1,  2,  3],\n",
       "        [ 4,  5,  6]],\n",
       "\n",
       "       [[90, 90, 90],\n",
       "        [90, 90, 90]]])"
      ]
     },
     "execution_count": 64,
     "metadata": {},
     "output_type": "execute_result"
    }
   ],
   "source": [
    "#both scalar values and array can be assigned to arr3d[1]\n",
    "arr3d[1] = 90\n",
    "arr3d"
   ]
  },
  {
   "cell_type": "code",
   "execution_count": 69,
   "id": "064ca22e",
   "metadata": {},
   "outputs": [
    {
     "name": "stdout",
     "output_type": "stream",
     "text": [
      "after scalar assignment: [[[ 1  2  3]\n",
      "  [ 4  5  6]]\n",
      "\n",
      " [[90 90 90]\n",
      "  [90 90 90]]]\n",
      "after array assignment: [[[ 1  2  3]\n",
      "  [ 4  5  6]]\n",
      "\n",
      " [[ 7  8  9]\n",
      "  [10 11 12]]]\n"
     ]
    }
   ],
   "source": [
    "#both scalar values and array can be assigned to arr3d[1]\n",
    "old_values = arr3d[1].copy()\n",
    "\n",
    "\n",
    "arr3d[1] = 90 #scalar \n",
    "print(\"after scalar assignment:\", arr3d)\n",
    "\n",
    "arr3d[1] = old_values\n",
    "print(\"after array assignment:\", arr3d )"
   ]
  },
  {
   "cell_type": "code",
   "execution_count": 72,
   "id": "83f8861b",
   "metadata": {},
   "outputs": [
    {
     "data": {
      "text/plain": [
       "array([10, 11, 12])"
      ]
     },
     "execution_count": 72,
     "metadata": {},
     "output_type": "execute_result"
    }
   ],
   "source": [
    "arr3d[1,1] #in all the section we have seen the views and not the array getting copied. in case if we change anything in view it will affect the actual data"
   ]
  },
  {
   "cell_type": "markdown",
   "id": "b5dc2b43",
   "metadata": {},
   "source": [
    "### indexing with slices "
   ]
  },
  {
   "cell_type": "code",
   "execution_count": 73,
   "id": "ef3b1e5b",
   "metadata": {},
   "outputs": [
    {
     "data": {
      "text/plain": [
       "array([ 0,  1,  2,  3,  4, 64, 64, 64,  8,  9])"
      ]
     },
     "execution_count": 73,
     "metadata": {},
     "output_type": "execute_result"
    }
   ],
   "source": [
    "arr"
   ]
  },
  {
   "cell_type": "code",
   "execution_count": 74,
   "id": "7dbc1ea6",
   "metadata": {},
   "outputs": [
    {
     "data": {
      "text/plain": [
       "array([64, 64, 64])"
      ]
     },
     "execution_count": 74,
     "metadata": {},
     "output_type": "execute_result"
    }
   ],
   "source": [
    "arr[5:8]"
   ]
  },
  {
   "cell_type": "code",
   "execution_count": 75,
   "id": "42addcb0",
   "metadata": {},
   "outputs": [
    {
     "data": {
      "text/plain": [
       "array([[1, 2, 3],\n",
       "       [4, 5, 6],\n",
       "       [7, 8, 9]])"
      ]
     },
     "execution_count": 75,
     "metadata": {},
     "output_type": "execute_result"
    }
   ],
   "source": [
    "arr2d "
   ]
  },
  {
   "cell_type": "code",
   "execution_count": 77,
   "id": "c0d8b50e",
   "metadata": {},
   "outputs": [
    {
     "data": {
      "text/plain": [
       "5"
      ]
     },
     "execution_count": 77,
     "metadata": {},
     "output_type": "execute_result"
    }
   ],
   "source": [
    "#fetch 5 \n",
    "arr2d[1][1]"
   ]
  },
  {
   "cell_type": "code",
   "execution_count": 82,
   "id": "1073d6dc",
   "metadata": {},
   "outputs": [
    {
     "data": {
      "text/plain": [
       "array([[7, 8, 9]])"
      ]
     },
     "execution_count": 82,
     "metadata": {},
     "output_type": "execute_result"
    }
   ],
   "source": [
    "arr2d[1:][1:]"
   ]
  },
  {
   "cell_type": "code",
   "execution_count": 80,
   "id": "0b07f15f",
   "metadata": {},
   "outputs": [
    {
     "data": {
      "text/plain": [
       "array([[1, 2, 3],\n",
       "       [4, 5, 6]])"
      ]
     },
     "execution_count": 80,
     "metadata": {},
     "output_type": "execute_result"
    }
   ],
   "source": [
    "arr2d[:2]"
   ]
  },
  {
   "cell_type": "code",
   "execution_count": 83,
   "id": "7d13528c",
   "metadata": {},
   "outputs": [
    {
     "data": {
      "text/plain": [
       "array([[2, 3],\n",
       "       [5, 6]])"
      ]
     },
     "execution_count": 83,
     "metadata": {},
     "output_type": "execute_result"
    }
   ],
   "source": [
    "arr2d[:2, 1:]"
   ]
  },
  {
   "cell_type": "code",
   "execution_count": 84,
   "id": "b17ef8a1",
   "metadata": {},
   "outputs": [
    {
     "name": "stdout",
     "output_type": "stream",
     "text": [
      "[[2 3]\n",
      " [5 6]]\n"
     ]
    }
   ],
   "source": [
    "print(arr2d[:2, 1:])"
   ]
  },
  {
   "cell_type": "code",
   "execution_count": 85,
   "id": "4121b262",
   "metadata": {},
   "outputs": [
    {
     "name": "stdout",
     "output_type": "stream",
     "text": [
      "[7 8 9]\n",
      "[[7 8 9]]\n",
      "[7 8 9]\n"
     ]
    }
   ],
   "source": [
    "print(arr2d[2])\n",
    "print(arr2d[2:, :])\n",
    "print(arr2d[2,:])"
   ]
  },
  {
   "cell_type": "code",
   "execution_count": 86,
   "id": "46055dec",
   "metadata": {},
   "outputs": [
    {
     "data": {
      "text/plain": [
       "array([[1, 2],\n",
       "       [4, 5],\n",
       "       [7, 8]])"
      ]
     },
     "execution_count": 86,
     "metadata": {},
     "output_type": "execute_result"
    }
   ],
   "source": [
    "arr2d[:, :2]"
   ]
  },
  {
   "cell_type": "code",
   "execution_count": 87,
   "id": "cd4db599",
   "metadata": {},
   "outputs": [
    {
     "name": "stdout",
     "output_type": "stream",
     "text": [
      "[4 5]\n",
      "[[4 5]]\n"
     ]
    }
   ],
   "source": [
    "print(arr2d[1, :2])\n",
    "print(arr2d[1:2, :2])"
   ]
  },
  {
   "cell_type": "markdown",
   "id": "b361952c",
   "metadata": {},
   "source": [
    "### boolean Indexing \n",
    "- use one array to use as an indexing for another array \n",
    "- should have same length\n",
    "- ~ operator can be useful when you want to invert a general condition\n",
    "- != can be ude for the same purpose as well ~\n",
    "- Selecting data from an array by boolean indexing always creates a __copy__ of the data, even if the      returned array is unchanged. Also to combine multiple boolean conditions use __& / |__ instead of __and / or__"
   ]
  },
  {
   "cell_type": "code",
   "execution_count": 93,
   "id": "6d289c5b",
   "metadata": {},
   "outputs": [
    {
     "data": {
      "text/plain": [
       "array([[ 0.15584954, -0.69544096,  1.82912877,  1.43432235],\n",
       "       [ 0.272016  ,  0.73260896, -0.65750378,  0.44138413],\n",
       "       [ 0.54015747, -1.37280289,  0.44895163, -1.696055  ],\n",
       "       [-0.72449588,  0.44859054, -0.11887529, -0.47799493],\n",
       "       [ 0.81048965, -1.35301071,  0.83562149, -1.26311331],\n",
       "       [ 0.55247463, -0.13011461,  0.47422158,  0.30740204],\n",
       "       [ 0.71252124,  0.84065348,  0.3571797 , -0.30709881]])"
      ]
     },
     "execution_count": 93,
     "metadata": {},
     "output_type": "execute_result"
    }
   ],
   "source": [
    "names = np.array(['bob' , 'joe', 'will' , 'bob', 'will','joe' , 'joe'])\n",
    "\n",
    "data = np.random.randn(7,4)\n",
    "data"
   ]
  },
  {
   "cell_type": "code",
   "execution_count": 94,
   "id": "2e105e86",
   "metadata": {},
   "outputs": [
    {
     "data": {
      "text/plain": [
       "array(['bob', 'joe', 'will', 'bob', 'will', 'joe', 'joe'], dtype='<U4')"
      ]
     },
     "execution_count": 94,
     "metadata": {},
     "output_type": "execute_result"
    }
   ],
   "source": [
    "names"
   ]
  },
  {
   "cell_type": "code",
   "execution_count": 95,
   "id": "d20eba83",
   "metadata": {},
   "outputs": [
    {
     "data": {
      "text/plain": [
       "array([ True, False, False,  True, False, False, False])"
      ]
     },
     "execution_count": 95,
     "metadata": {},
     "output_type": "execute_result"
    }
   ],
   "source": [
    "names == 'bob'"
   ]
  },
  {
   "cell_type": "code",
   "execution_count": 96,
   "id": "bc129e88",
   "metadata": {},
   "outputs": [
    {
     "data": {
      "text/plain": [
       "array([[ 0.15584954, -0.69544096,  1.82912877,  1.43432235],\n",
       "       [-0.72449588,  0.44859054, -0.11887529, -0.47799493]])"
      ]
     },
     "execution_count": 96,
     "metadata": {},
     "output_type": "execute_result"
    }
   ],
   "source": [
    "data[names == 'bob']"
   ]
  },
  {
   "cell_type": "code",
   "execution_count": 98,
   "id": "0fdcd591",
   "metadata": {},
   "outputs": [
    {
     "data": {
      "text/plain": [
       "array([[ 0.272016  ,  0.73260896, -0.65750378,  0.44138413],\n",
       "       [ 0.54015747, -1.37280289,  0.44895163, -1.696055  ],\n",
       "       [ 0.81048965, -1.35301071,  0.83562149, -1.26311331],\n",
       "       [ 0.55247463, -0.13011461,  0.47422158,  0.30740204],\n",
       "       [ 0.71252124,  0.84065348,  0.3571797 , -0.30709881]])"
      ]
     },
     "execution_count": 98,
     "metadata": {},
     "output_type": "execute_result"
    }
   ],
   "source": [
    "#to select everything but bob \n",
    "names != 'bob'\n",
    "data[names!= 'bob']"
   ]
  },
  {
   "cell_type": "code",
   "execution_count": 99,
   "id": "5f084fd8",
   "metadata": {},
   "outputs": [
    {
     "data": {
      "text/plain": [
       "array([[ 0.272016  ,  0.73260896, -0.65750378,  0.44138413],\n",
       "       [ 0.54015747, -1.37280289,  0.44895163, -1.696055  ],\n",
       "       [ 0.81048965, -1.35301071,  0.83562149, -1.26311331],\n",
       "       [ 0.55247463, -0.13011461,  0.47422158,  0.30740204],\n",
       "       [ 0.71252124,  0.84065348,  0.3571797 , -0.30709881]])"
      ]
     },
     "execution_count": 99,
     "metadata": {},
     "output_type": "execute_result"
    }
   ],
   "source": [
    "data[~(names == 'bob')]"
   ]
  },
  {
   "cell_type": "code",
   "execution_count": 106,
   "id": "6a89fb41",
   "metadata": {},
   "outputs": [
    {
     "data": {
      "text/plain": [
       "array([[ 0.15584954, -0.69544096],\n",
       "       [-0.72449588,  0.44859054]])"
      ]
     },
     "execution_count": 106,
     "metadata": {},
     "output_type": "execute_result"
    }
   ],
   "source": [
    "#selecting two or three names to combine multiple values \n",
    "cond = (names == 'bob') | (names=='bob')\n",
    "data[cond, :2]"
   ]
  },
  {
   "cell_type": "code",
   "execution_count": 107,
   "id": "13812076",
   "metadata": {},
   "outputs": [
    {
     "data": {
      "text/plain": [
       "array([[0.15584954, 0.        , 1.82912877, 1.43432235],\n",
       "       [0.272016  , 0.73260896, 0.        , 0.44138413],\n",
       "       [0.54015747, 0.        , 0.44895163, 0.        ],\n",
       "       [0.        , 0.44859054, 0.        , 0.        ],\n",
       "       [0.81048965, 0.        , 0.83562149, 0.        ],\n",
       "       [0.55247463, 0.        , 0.47422158, 0.30740204],\n",
       "       [0.71252124, 0.84065348, 0.3571797 , 0.        ]])"
      ]
     },
     "execution_count": 107,
     "metadata": {},
     "output_type": "execute_result"
    }
   ],
   "source": [
    "#setting values with boolean arrays\n",
    "data[data < 0] = 0\n",
    "data"
   ]
  },
  {
   "cell_type": "code",
   "execution_count": 109,
   "id": "44794001",
   "metadata": {},
   "outputs": [
    {
     "data": {
      "text/plain": [
       "array([[0.        , 0.        , 0.        , 0.        ],\n",
       "       [0.272016  , 0.73260896, 0.        , 0.44138413],\n",
       "       [0.54015747, 0.        , 0.44895163, 0.        ],\n",
       "       [0.        , 0.        , 0.        , 0.        ],\n",
       "       [0.81048965, 0.        , 0.83562149, 0.        ],\n",
       "       [0.55247463, 0.        , 0.47422158, 0.30740204],\n",
       "       [0.71252124, 0.84065348, 0.3571797 , 0.        ]])"
      ]
     },
     "execution_count": 109,
     "metadata": {},
     "output_type": "execute_result"
    }
   ],
   "source": [
    "data[names == 'bob'] = 0\n",
    "data"
   ]
  },
  {
   "cell_type": "markdown",
   "id": "ccd53cc4",
   "metadata": {},
   "source": [
    "### fancy indexing \n",
    "- Fancy indexing is a term adopted by NumPy to describe indexing using integer      arrays or lists.\n",
    "- Fancy indexing, unlike slicing, always copies      the data into a new array."
   ]
  },
  {
   "cell_type": "code",
   "execution_count": 112,
   "id": "cd3dca8e",
   "metadata": {},
   "outputs": [
    {
     "data": {
      "text/plain": [
       "array([[0., 0., 0., 0.],\n",
       "       [1., 1., 1., 1.],\n",
       "       [2., 2., 2., 2.],\n",
       "       [3., 3., 3., 3.],\n",
       "       [4., 4., 4., 4.],\n",
       "       [5., 5., 5., 5.],\n",
       "       [6., 6., 6., 6.],\n",
       "       [7., 7., 7., 7.]])"
      ]
     },
     "execution_count": 112,
     "metadata": {},
     "output_type": "execute_result"
    }
   ],
   "source": [
    "arr = np.empty((8,4))\n",
    "for i in range(8):\n",
    "    arr[i] = i\n",
    "arr"
   ]
  },
  {
   "cell_type": "code",
   "execution_count": 113,
   "id": "582ba9e5",
   "metadata": {},
   "outputs": [
    {
     "data": {
      "text/plain": [
       "array([[0., 0., 0., 0.],\n",
       "       [2., 2., 2., 2.],\n",
       "       [6., 6., 6., 6.],\n",
       "       [3., 3., 3., 3.]])"
      ]
     },
     "execution_count": 113,
     "metadata": {},
     "output_type": "execute_result"
    }
   ],
   "source": [
    "#subsetting array in particular order \n",
    "arr[[0,2,6,3]]"
   ]
  },
  {
   "cell_type": "code",
   "execution_count": 114,
   "id": "0c15b359",
   "metadata": {},
   "outputs": [
    {
     "data": {
      "text/plain": [
       "array([[5., 5., 5., 5.],\n",
       "       [3., 3., 3., 3.],\n",
       "       [1., 1., 1., 1.]])"
      ]
     },
     "execution_count": 114,
     "metadata": {},
     "output_type": "execute_result"
    }
   ],
   "source": [
    "arr[[-3,-5,-7]]"
   ]
  },
  {
   "cell_type": "code",
   "execution_count": 116,
   "id": "48c99b9a",
   "metadata": {},
   "outputs": [
    {
     "data": {
      "text/plain": [
       "array([[ 0,  1,  2,  3],\n",
       "       [ 4,  5,  6,  7],\n",
       "       [ 8,  9, 10, 11],\n",
       "       [12, 13, 14, 15],\n",
       "       [16, 17, 18, 19],\n",
       "       [20, 21, 22, 23],\n",
       "       [24, 25, 26, 27],\n",
       "       [28, 29, 30, 31]])"
      ]
     },
     "execution_count": 116,
     "metadata": {},
     "output_type": "execute_result"
    }
   ],
   "source": [
    "#passing mulyiple array \n",
    "arr= np.arange(32).reshape((8,4))\n",
    "arr"
   ]
  },
  {
   "cell_type": "code",
   "execution_count": 119,
   "id": "f6141c0d",
   "metadata": {},
   "outputs": [
    {
     "data": {
      "text/plain": [
       "array([ 4, 23, 29, 10])"
      ]
     },
     "execution_count": 119,
     "metadata": {},
     "output_type": "execute_result"
    }
   ],
   "source": [
    "#passing multiple index orders \n",
    "arr[[1,5,7,2],[0,3,1,2]] #(1, 0), (5, 3), (7, 1), and (2, 2) \n",
    "#the result of fancy indexing with multiple integer arrays is always one-dimensional."
   ]
  },
  {
   "cell_type": "markdown",
   "id": "90a22cc7",
   "metadata": {},
   "source": [
    "### Transposing Arrays and Swapping Axes\n",
    "- Transposing is a special form of reshaping that similarly returns a view on the underlying data without copying anythin\n",
    "- *return a view, reshapes data* \n",
    "- you have transpose method and also the special T attribute\n",
    "- swapaxes similarly returns a      view on the data without making a copy."
   ]
  },
  {
   "cell_type": "code",
   "execution_count": 121,
   "id": "904a655b",
   "metadata": {},
   "outputs": [
    {
     "data": {
      "text/plain": [
       "array([[ 0,  1,  2,  3,  4],\n",
       "       [ 5,  6,  7,  8,  9],\n",
       "       [10, 11, 12, 13, 14]])"
      ]
     },
     "execution_count": 121,
     "metadata": {},
     "output_type": "execute_result"
    }
   ],
   "source": [
    "arr = np.arange(15).reshape((3,5))\n",
    "arr"
   ]
  },
  {
   "cell_type": "code",
   "execution_count": 122,
   "id": "3b46ce29",
   "metadata": {},
   "outputs": [
    {
     "data": {
      "text/plain": [
       "array([[ 0,  5, 10],\n",
       "       [ 1,  6, 11],\n",
       "       [ 2,  7, 12],\n",
       "       [ 3,  8, 13],\n",
       "       [ 4,  9, 14]])"
      ]
     },
     "execution_count": 122,
     "metadata": {},
     "output_type": "execute_result"
    }
   ],
   "source": [
    "arr.T #reshapes data and creates a view "
   ]
  },
  {
   "cell_type": "code",
   "execution_count": 123,
   "id": "227dd394",
   "metadata": {},
   "outputs": [
    {
     "data": {
      "text/plain": [
       "array([[ 30,  80, 130],\n",
       "       [ 80, 255, 430],\n",
       "       [130, 430, 730]])"
      ]
     },
     "execution_count": 123,
     "metadata": {},
     "output_type": "execute_result"
    }
   ],
   "source": [
    "#when computing the inner matrix product using np.dot\n",
    "np.dot(arr, arr.T)"
   ]
  },
  {
   "cell_type": "code",
   "execution_count": 133,
   "id": "170519e2",
   "metadata": {},
   "outputs": [
    {
     "data": {
      "text/plain": [
       "array([[[ 0,  1,  2,  3],\n",
       "        [ 4,  5,  6,  7]],\n",
       "\n",
       "       [[ 8,  9, 10, 11],\n",
       "        [12, 13, 14, 15]]])"
      ]
     },
     "execution_count": 133,
     "metadata": {},
     "output_type": "execute_result"
    }
   ],
   "source": [
    "arr = np.arange(16).reshape((2,2,4))\n",
    "arr"
   ]
  },
  {
   "cell_type": "code",
   "execution_count": 128,
   "id": "0f94e999",
   "metadata": {},
   "outputs": [
    {
     "data": {
      "text/plain": [
       "array([[[ 0,  1,  2,  3],\n",
       "        [ 8,  9, 10, 11]],\n",
       "\n",
       "       [[ 4,  5,  6,  7],\n",
       "        [12, 13, 14, 15]]])"
      ]
     },
     "execution_count": 128,
     "metadata": {},
     "output_type": "execute_result"
    }
   ],
   "source": [
    "arr.transpose((1,0,2)) "
   ]
  },
  {
   "cell_type": "code",
   "execution_count": 134,
   "id": "d8bd4d92",
   "metadata": {},
   "outputs": [
    {
     "data": {
      "text/plain": [
       "array([[[ 0,  1,  2,  3],\n",
       "        [ 8,  9, 10, 11]],\n",
       "\n",
       "       [[ 4,  5,  6,  7],\n",
       "        [12, 13, 14, 15]]])"
      ]
     },
     "execution_count": 134,
     "metadata": {},
     "output_type": "execute_result"
    }
   ],
   "source": [
    "arr.swapaxes(1,0)"
   ]
  },
  {
   "cell_type": "markdown",
   "id": "ef68dbf1",
   "metadata": {},
   "source": [
    "# 4.2 Universal Functions: Fast Element-Wise Array Functions\n",
    "\n",
    "= performs    element-wise operations on data in ndarrays.\n",
    "- unary ufunc - takes one input - np.exp() , np.sqrt()\n",
    "- binary ufunc - takes multiple inputs - np.add(), np.maximum()\n",
    "\n",
    "- does not changes the array unless the out argument is specified (i.e. in case of ufunc)"
   ]
  },
  {
   "cell_type": "code",
   "execution_count": 155,
   "id": "69f5390d",
   "metadata": {},
   "outputs": [
    {
     "data": {
      "text/plain": [
       "array([0, 1, 2, 3, 4, 5, 6, 7, 8, 9])"
      ]
     },
     "execution_count": 155,
     "metadata": {},
     "output_type": "execute_result"
    }
   ],
   "source": [
    "#element wise transformation \n",
    "arr = np.arange(10)\n",
    "arr"
   ]
  },
  {
   "cell_type": "code",
   "execution_count": 156,
   "id": "e20765fb",
   "metadata": {},
   "outputs": [
    {
     "data": {
      "text/plain": [
       "array([0.        , 1.        , 1.41421356, 1.73205081, 2.        ,\n",
       "       2.23606798, 2.44948974, 2.64575131, 2.82842712, 3.        ])"
      ]
     },
     "execution_count": 156,
     "metadata": {},
     "output_type": "execute_result"
    }
   ],
   "source": [
    "np.sqrt(arr)"
   ]
  },
  {
   "cell_type": "code",
   "execution_count": 157,
   "id": "bcec1aaf",
   "metadata": {},
   "outputs": [
    {
     "data": {
      "text/plain": [
       "array([1.00000000e+00, 2.71828183e+00, 7.38905610e+00, 2.00855369e+01,\n",
       "       5.45981500e+01, 1.48413159e+02, 4.03428793e+02, 1.09663316e+03,\n",
       "       2.98095799e+03, 8.10308393e+03])"
      ]
     },
     "execution_count": 157,
     "metadata": {},
     "output_type": "execute_result"
    }
   ],
   "source": [
    "np.exp(arr)"
   ]
  },
  {
   "cell_type": "code",
   "execution_count": 158,
   "id": "b8ac608b",
   "metadata": {},
   "outputs": [
    {
     "data": {
      "text/plain": [
       "array([0, 1, 2, 3, 4, 5, 6, 7, 8, 9])"
      ]
     },
     "execution_count": 158,
     "metadata": {},
     "output_type": "execute_result"
    }
   ],
   "source": [
    "arr"
   ]
  },
  {
   "cell_type": "code",
   "execution_count": 139,
   "id": "787dc471",
   "metadata": {},
   "outputs": [],
   "source": [
    "x = np.random.randn(8)\n",
    "y = np.random.randn(8)"
   ]
  },
  {
   "cell_type": "code",
   "execution_count": 140,
   "id": "1ebe5cb8",
   "metadata": {},
   "outputs": [
    {
     "data": {
      "text/plain": [
       "array([-1.45555254, -0.34423343, -0.22085801, -0.34823253, -0.09489496,\n",
       "        0.50323503, -0.16167136, -1.58566844])"
      ]
     },
     "execution_count": 140,
     "metadata": {},
     "output_type": "execute_result"
    }
   ],
   "source": [
    "x"
   ]
  },
  {
   "cell_type": "code",
   "execution_count": 141,
   "id": "f8f804b5",
   "metadata": {},
   "outputs": [
    {
     "data": {
      "text/plain": [
       "array([ 2.30371488,  0.34868263,  1.2031869 ,  1.47155316,  0.64703437,\n",
       "       -0.54539212,  1.11924954,  0.7951333 ])"
      ]
     },
     "execution_count": 141,
     "metadata": {},
     "output_type": "execute_result"
    }
   ],
   "source": [
    "y"
   ]
  },
  {
   "cell_type": "code",
   "execution_count": 144,
   "id": "bcaffe01",
   "metadata": {},
   "outputs": [
    {
     "data": {
      "text/plain": [
       "array([2.30371488, 0.34868263, 1.2031869 , 1.47155316, 0.64703437,\n",
       "       0.50323503, 1.11924954, 0.7951333 ])"
      ]
     },
     "execution_count": 144,
     "metadata": {},
     "output_type": "execute_result"
    }
   ],
   "source": [
    "np.maximum(x,y)"
   ]
  },
  {
   "cell_type": "code",
   "execution_count": 148,
   "id": "84d78f3c",
   "metadata": {},
   "outputs": [
    {
     "name": "stdout",
     "output_type": "stream",
     "text": [
      "[-6.27003412  7.34576705  1.51728952  0.24667135  3.88550805  6.47389022\n",
      "  1.46626268]\n",
      "remainder: [-0.27003412  0.34576705  0.51728952  0.24667135  0.88550805  0.47389022\n",
      "  0.46626268]\n",
      "whole_part: [-6.  7.  1.  0.  3.  6.  1.]\n"
     ]
    }
   ],
   "source": [
    "#not commmon - ufunch canreturn multiple arrays \n",
    "arr = np.random.randn(7)*5\n",
    "print(arr)\n",
    "\n",
    "remainder, whole_part = np.modf(arr)\n",
    "print('remainder:', remainder)\n",
    "print('whole_part:', whole_part)"
   ]
  },
  {
   "cell_type": "code",
   "execution_count": 149,
   "id": "982b4b17",
   "metadata": {},
   "outputs": [
    {
     "data": {
      "text/plain": [
       "array([-0.03814486, -0.07899226,  0.26052835,  0.26939844, -1.02317517,\n",
       "        1.93924641,  3.23512321,  1.64832238])"
      ]
     },
     "execution_count": 149,
     "metadata": {},
     "output_type": "execute_result"
    }
   ],
   "source": [
    "# ufunc - optional out argument that allows them to operate in-place\n",
    "arr = np.random.randn(8)\n",
    "arr"
   ]
  },
  {
   "cell_type": "code",
   "execution_count": 152,
   "id": "5a672f73",
   "metadata": {},
   "outputs": [
    {
     "data": {
      "text/plain": [
       "array([       nan,        nan, 0.84524357, 0.8487883 ,        nan,\n",
       "       1.08631087, 1.15807411, 1.06446226])"
      ]
     },
     "execution_count": 152,
     "metadata": {},
     "output_type": "execute_result"
    }
   ],
   "source": [
    "np.sqrt(arr,arr)\n"
   ]
  },
  {
   "cell_type": "code",
   "execution_count": 154,
   "id": "b7778cbc",
   "metadata": {},
   "outputs": [
    {
     "data": {
      "text/plain": [
       "array([       nan,        nan, 0.84524357, 0.8487883 ,        nan,\n",
       "       1.08631087, 1.15807411, 1.06446226])"
      ]
     },
     "execution_count": 154,
     "metadata": {},
     "output_type": "execute_result"
    }
   ],
   "source": [
    "arr #out argurment changes the in place array "
   ]
  },
  {
   "cell_type": "markdown",
   "id": "b59e76ea",
   "metadata": {},
   "source": [
    "# 4.3 Array-Oriented Programming with Arrays\n",
    "\n",
    "- practice of replacing explicit loops with array expressions is    commonly referred to as vectorization\n",
    "- broadcasting, a powerful method for vectorizing computations."
   ]
  },
  {
   "cell_type": "code",
   "execution_count": 160,
   "id": "02bf875f",
   "metadata": {},
   "outputs": [
    {
     "data": {
      "text/plain": [
       "array([[-5.  , -5.  , -5.  , ..., -5.  , -5.  , -5.  ],\n",
       "       [-4.99, -4.99, -4.99, ..., -4.99, -4.99, -4.99],\n",
       "       [-4.98, -4.98, -4.98, ..., -4.98, -4.98, -4.98],\n",
       "       ...,\n",
       "       [ 4.97,  4.97,  4.97, ...,  4.97,  4.97,  4.97],\n",
       "       [ 4.98,  4.98,  4.98, ...,  4.98,  4.98,  4.98],\n",
       "       [ 4.99,  4.99,  4.99, ...,  4.99,  4.99,  4.99]])"
      ]
     },
     "execution_count": 160,
     "metadata": {},
     "output_type": "execute_result"
    }
   ],
   "source": [
    "# wished to evaluate the function sqrt(x^2 + y^2) across a regular grid of values\n",
    "points = np.arange(-5,5,0.01)\n",
    " \n",
    "#two 1D arrays and produces two 2D matrices corresponding to all pairs of (x, y) in    the two arrays:    \n",
    "xs, ys = np.meshgrid(points,points)\n",
    "ys "
   ]
  },
  {
   "cell_type": "code",
   "execution_count": 161,
   "id": "836316f9",
   "metadata": {},
   "outputs": [
    {
     "data": {
      "text/plain": [
       "array([[7.07106781, 7.06400028, 7.05693985, ..., 7.04988652, 7.05693985,\n",
       "        7.06400028],\n",
       "       [7.06400028, 7.05692568, 7.04985815, ..., 7.04279774, 7.04985815,\n",
       "        7.05692568],\n",
       "       [7.05693985, 7.04985815, 7.04278354, ..., 7.03571603, 7.04278354,\n",
       "        7.04985815],\n",
       "       ...,\n",
       "       [7.04988652, 7.04279774, 7.03571603, ..., 7.0286414 , 7.03571603,\n",
       "        7.04279774],\n",
       "       [7.05693985, 7.04985815, 7.04278354, ..., 7.03571603, 7.04278354,\n",
       "        7.04985815],\n",
       "       [7.06400028, 7.05692568, 7.04985815, ..., 7.04279774, 7.04985815,\n",
       "        7.05692568]])"
      ]
     },
     "execution_count": 161,
     "metadata": {},
     "output_type": "execute_result"
    }
   ],
   "source": [
    "z = np.sqrt(xs **2 + ys ** 2)\n",
    "z"
   ]
  },
  {
   "cell_type": "code",
   "execution_count": 163,
   "id": "0bcbbb03",
   "metadata": {},
   "outputs": [
    {
     "data": {
      "text/plain": [
       "Text(0.5, 1.0, 'Image plot of $\\\\sqrt{x^2 + y^2}$ for a grid of values')"
      ]
     },
     "execution_count": 163,
     "metadata": {},
     "output_type": "execute_result"
    },
    {
     "data": {
      "image/png": "[encoded data removed]",
      "text/plain": [
       "<Figure size 432x288 with 2 Axes>"
      ]
     },
     "metadata": {
      "needs_background": "light"
     },
     "output_type": "display_data"
    }
   ],
   "source": [
    "import matplotlib.pyplot as plt \n",
    "plt.imshow(z)\n",
    "plt.colorbar()\n",
    "plt.title(\"Image plot of $\\sqrt{x^2 + y^2}$ for a grid of values\")"
   ]
  },
  {
   "cell_type": "markdown",
   "id": "1ed8d1e5",
   "metadata": {},
   "source": [
    "## Expressing Conditional Logic as Array Operations\n"
   ]
  },
  {
   "cell_type": "markdown",
   "id": "dc598da2",
   "metadata": {},
   "source": [
    "- numpy.where() = x if condition else y"
   ]
  },
  {
   "cell_type": "code",
   "execution_count": 164,
   "id": "0936977c",
   "metadata": {},
   "outputs": [],
   "source": [
    "xarr = np.array([1.1,1.2,1.3,1.4,1.5])\n",
    "yarr = np.array([2.1,2.2,2.3,2.4,2.5])\n",
    "cond = [True , False, True, False, False]"
   ]
  },
  {
   "cell_type": "code",
   "execution_count": 165,
   "id": "58ce3a8f",
   "metadata": {},
   "outputs": [
    {
     "data": {
      "text/plain": [
       "[1.1, 2.2, 1.3, 2.4, 2.5]"
      ]
     },
     "execution_count": 165,
     "metadata": {},
     "output_type": "execute_result"
    }
   ],
   "source": [
    "result = [x if c else y for x, y, c in zip(xarr, yarr, cond)]\n",
    "result"
   ]
  },
  {
   "cell_type": "code",
   "execution_count": 168,
   "id": "58ac5d95",
   "metadata": {},
   "outputs": [
    {
     "data": {
      "text/plain": [
       "array([1.1, 2.2, 1.3, 2.4, 2.5])"
      ]
     },
     "execution_count": 168,
     "metadata": {},
     "output_type": "execute_result"
    }
   ],
   "source": [
    "result1 = np.where(cond, xarr, yarr)\n",
    "result1"
   ]
  },
  {
   "cell_type": "code",
   "execution_count": 169,
   "id": "fd6d651c",
   "metadata": {},
   "outputs": [
    {
     "data": {
      "text/plain": [
       "array([[ 1.97466491,  0.07592994,  1.09146874,  2.94410883],\n",
       "       [-0.12808539,  0.272626  , -0.07777811,  0.18021182],\n",
       "       [ 0.41159264, -0.84329716, -1.66750163,  1.41972038],\n",
       "       [-0.76816085,  0.64182422,  0.27866221,  0.69067945]])"
      ]
     },
     "execution_count": 169,
     "metadata": {},
     "output_type": "execute_result"
    }
   ],
   "source": [
    "# Suppose you had a matrix of randomly generated data and you wanted to replace all positive values      \n",
    "#with 2 and all negative values with –2. This is very easy to do with np.where:\n",
    "\n",
    "arr = np.random.randn(4,4)\n",
    "arr"
   ]
  },
  {
   "cell_type": "code",
   "execution_count": 170,
   "id": "2b69ae46",
   "metadata": {},
   "outputs": [
    {
     "data": {
      "text/plain": [
       "array([[ 2,  2,  2,  2],\n",
       "       [-2,  2, -2,  2],\n",
       "       [ 2, -2, -2,  2],\n",
       "       [-2,  2,  2,  2]])"
      ]
     },
     "execution_count": 170,
     "metadata": {},
     "output_type": "execute_result"
    }
   ],
   "source": [
    "np.where(arr>0, 2,-2)"
   ]
  },
  {
   "cell_type": "code",
   "execution_count": 171,
   "id": "4c67466e",
   "metadata": {},
   "outputs": [
    {
     "data": {
      "text/plain": [
       "array([[ 2.        ,  2.        ,  2.        ,  2.        ],\n",
       "       [-0.12808539,  2.        , -0.07777811,  2.        ],\n",
       "       [ 2.        , -0.84329716, -1.66750163,  2.        ],\n",
       "       [-0.76816085,  2.        ,  2.        ,  2.        ]])"
      ]
     },
     "execution_count": 171,
     "metadata": {},
     "output_type": "execute_result"
    }
   ],
   "source": [
    "#you can combine scalar and arrays as well in np.where\n",
    "np.where(arr>0, 2, arr)"
   ]
  },
  {
   "cell_type": "markdown",
   "id": "65c1f7d1",
   "metadata": {},
   "source": [
    "## Mathematical and Statistical Methods\n"
   ]
  },
  {
   "cell_type": "markdown",
   "id": "b52c7ce0",
   "metadata": {},
   "source": [
    "- compute statistics \n",
    "- called as aggrgation (or reductions)\n",
    "- can often be called using np. or as a mathod directly to an array"
   ]
  },
  {
   "cell_type": "code",
   "execution_count": 173,
   "id": "ec6994a4",
   "metadata": {},
   "outputs": [],
   "source": [
    "arr = np.random.randn(5,4)"
   ]
  },
  {
   "cell_type": "code",
   "execution_count": 174,
   "id": "4039cd69",
   "metadata": {},
   "outputs": [
    {
     "data": {
      "text/plain": [
       "array([[ 2.21181079,  1.31817939,  0.67172212,  0.11217146],\n",
       "       [ 0.4325655 , -0.66046509, -0.012042  , -0.58545599],\n",
       "       [-1.03258772,  0.3467361 ,  2.63959648, -1.41284806],\n",
       "       [-0.63479867,  0.95194244, -0.50188485,  1.82813013],\n",
       "       [-1.50617063,  0.93113073, -1.05705488, -1.36679383]])"
      ]
     },
     "execution_count": 174,
     "metadata": {},
     "output_type": "execute_result"
    }
   ],
   "source": [
    "arr"
   ]
  },
  {
   "cell_type": "code",
   "execution_count": 175,
   "id": "e39c92da",
   "metadata": {},
   "outputs": [
    {
     "data": {
      "text/plain": [
       "0.13369417077209733"
      ]
     },
     "execution_count": 175,
     "metadata": {},
     "output_type": "execute_result"
    }
   ],
   "source": [
    "arr.mean()"
   ]
  },
  {
   "cell_type": "code",
   "execution_count": 176,
   "id": "a200f22f",
   "metadata": {},
   "outputs": [
    {
     "data": {
      "text/plain": [
       "0.13369417077209733"
      ]
     },
     "execution_count": 176,
     "metadata": {},
     "output_type": "execute_result"
    }
   ],
   "source": [
    "np.mean(arr)"
   ]
  },
  {
   "cell_type": "code",
   "execution_count": 177,
   "id": "4d996d92",
   "metadata": {},
   "outputs": [
    {
     "data": {
      "text/plain": [
       "2.639596480147089"
      ]
     },
     "execution_count": 177,
     "metadata": {},
     "output_type": "execute_result"
    }
   ],
   "source": [
    "arr.max()"
   ]
  },
  {
   "cell_type": "code",
   "execution_count": 178,
   "id": "c056923b",
   "metadata": {},
   "outputs": [
    {
     "data": {
      "text/plain": [
       "2.639596480147089"
      ]
     },
     "execution_count": 178,
     "metadata": {},
     "output_type": "execute_result"
    }
   ],
   "source": [
    "np.max(arr)"
   ]
  },
  {
   "cell_type": "code",
   "execution_count": 179,
   "id": "8a872ec6",
   "metadata": {},
   "outputs": [
    {
     "data": {
      "text/plain": [
       "array([-0.10583615,  0.57750471,  0.34806737, -0.28495926])"
      ]
     },
     "execution_count": 179,
     "metadata": {},
     "output_type": "execute_result"
    }
   ],
   "source": [
    "# functions like mean and sum takes optional axis argument \n",
    "np.mean(arr, axis=0)"
   ]
  },
  {
   "cell_type": "code",
   "execution_count": 180,
   "id": "ca79aff2",
   "metadata": {},
   "outputs": [
    {
     "data": {
      "text/plain": [
       "array([-0.10583615,  0.57750471,  0.34806737, -0.28495926])"
      ]
     },
     "execution_count": 180,
     "metadata": {},
     "output_type": "execute_result"
    }
   ],
   "source": [
    "arr.mean(axis =0) #axis 0 - across rows \n",
    "#axis 1 - across columns"
   ]
  },
  {
   "cell_type": "code",
   "execution_count": 193,
   "id": "4b9c0176",
   "metadata": {},
   "outputs": [
    {
     "data": {
      "text/plain": [
       "array([ 0,  1,  3,  6, 10, 15, 21, 28, 36, 45])"
      ]
     },
     "execution_count": 193,
     "metadata": {},
     "output_type": "execute_result"
    }
   ],
   "source": [
    "# cumsum and cumprod - do not aggregate rahter produce array of intermediate results \n",
    "arr = np.arange(10)\n",
    "np.cumsum(arr)"
   ]
  },
  {
   "cell_type": "code",
   "execution_count": 195,
   "id": "4f46dadf",
   "metadata": {},
   "outputs": [
    {
     "data": {
      "text/plain": [
       "45"
      ]
     },
     "execution_count": 195,
     "metadata": {},
     "output_type": "execute_result"
    }
   ],
   "source": [
    "sum(arr)"
   ]
  },
  {
   "cell_type": "code",
   "execution_count": 196,
   "id": "9d1f3946",
   "metadata": {},
   "outputs": [
    {
     "data": {
      "text/plain": [
       "45"
      ]
     },
     "execution_count": 196,
     "metadata": {},
     "output_type": "execute_result"
    }
   ],
   "source": [
    "arr.sum()"
   ]
  },
  {
   "cell_type": "code",
   "execution_count": 202,
   "id": "3ceeaa12",
   "metadata": {},
   "outputs": [
    {
     "data": {
      "text/plain": [
       "array([[ 0,  1,  2],\n",
       "       [ 3, 19,  5],\n",
       "       [ 6,  7,  8]])"
      ]
     },
     "execution_count": 202,
     "metadata": {},
     "output_type": "execute_result"
    }
   ],
   "source": [
    "arr = np.array([[0, 1, 2], [3, 19, 5], [6, 7, 8]])\n",
    "arr"
   ]
  },
  {
   "cell_type": "code",
   "execution_count": 203,
   "id": "4476c25a",
   "metadata": {},
   "outputs": [
    {
     "data": {
      "text/plain": [
       "array([ 0,  1,  3,  6, 25, 30, 36, 43, 51])"
      ]
     },
     "execution_count": 203,
     "metadata": {},
     "output_type": "execute_result"
    }
   ],
   "source": [
    "np.cumsum(arr)"
   ]
  },
  {
   "cell_type": "code",
   "execution_count": 204,
   "id": "1ab9c526",
   "metadata": {},
   "outputs": [
    {
     "data": {
      "text/plain": [
       "array([[ 0,  1,  2],\n",
       "       [ 3, 20,  7],\n",
       "       [ 9, 27, 15]])"
      ]
     },
     "execution_count": 204,
     "metadata": {},
     "output_type": "execute_result"
    }
   ],
   "source": [
    "arr.cumsum( axis = 0)"
   ]
  },
  {
   "cell_type": "code",
   "execution_count": 205,
   "id": "46fc7666",
   "metadata": {},
   "outputs": [
    {
     "data": {
      "text/plain": [
       "4"
      ]
     },
     "execution_count": 205,
     "metadata": {},
     "output_type": "execute_result"
    }
   ],
   "source": [
    "arr.argmax()"
   ]
  },
  {
   "cell_type": "markdown",
   "id": "9c652e1b",
   "metadata": {},
   "source": [
    "### Basic array statistical methods \n",
    "- arr.sum() - calculates sum __can also be written in the form of np.sum(arr)__ \n",
    "- arr.mean() - mean \n",
    "- arr.std() - std \n",
    "- arr.var() - variance \n",
    "- arr.min()\n",
    "- arr.max()\n",
    "- arr.argmax() - index of max value \n",
    "- arr.argmin()\n",
    "- arr.cumprod()\n",
    "- arr.cumsum()"
   ]
  },
  {
   "cell_type": "markdown",
   "id": "34cd72cb",
   "metadata": {},
   "source": [
    "### Methods for boolean arrays \n",
    "- Boolean values are coerced to 1 (True) and 0 (False) in the preceding methods. Thus, sum is often used as a means of counting True values in a boolean array\n",
    "- boolean array expressions are written before the methods to find desired results \n",
    "- other methods - .any() , .all()"
   ]
  },
  {
   "cell_type": "code",
   "execution_count": 209,
   "id": "543f445b",
   "metadata": {},
   "outputs": [
    {
     "data": {
      "text/plain": [
       "46"
      ]
     },
     "execution_count": 209,
     "metadata": {},
     "output_type": "execute_result"
    }
   ],
   "source": [
    "arr = np.random.randn(100)\n",
    "(arr > 0).sum() #46 positive values  --- > can also be expressed as np.sum(arr>0)"
   ]
  },
  {
   "cell_type": "code",
   "execution_count": 207,
   "id": "af994c9b",
   "metadata": {},
   "outputs": [
    {
     "data": {
      "text/plain": [
       "True"
      ]
     },
     "execution_count": 207,
     "metadata": {},
     "output_type": "execute_result"
    }
   ],
   "source": [
    "bools = np.array([False, False, True, False])\n",
    "\n",
    "np.any(bools) #bools.any()"
   ]
  },
  {
   "cell_type": "code",
   "execution_count": 208,
   "id": "a0ac2abf",
   "metadata": {},
   "outputs": [
    {
     "data": {
      "text/plain": [
       "False"
      ]
     },
     "execution_count": 208,
     "metadata": {},
     "output_type": "execute_result"
    }
   ],
   "source": [
    "np.all(bools) #bools.all()"
   ]
  },
  {
   "cell_type": "markdown",
   "id": "870d1264",
   "metadata": {},
   "source": [
    "### sorting \n",
    "- like list, numpy array can be sorted in place \n",
    "- .sort() - alters the current array \n",
    "- np.sort() - creates a physical copy of array "
   ]
  },
  {
   "cell_type": "code",
   "execution_count": 211,
   "id": "48243789",
   "metadata": {},
   "outputs": [
    {
     "data": {
      "text/plain": [
       "array([-0.27317946, -0.68040877,  0.15909253, -1.53352407, -2.29931321,\n",
       "        0.63098803])"
      ]
     },
     "execution_count": 211,
     "metadata": {},
     "output_type": "execute_result"
    }
   ],
   "source": [
    "arr = np.random.randn(6)\n",
    "arr"
   ]
  },
  {
   "cell_type": "code",
   "execution_count": 213,
   "id": "f78e5a85",
   "metadata": {},
   "outputs": [
    {
     "data": {
      "text/plain": [
       "array([-2.29931321, -1.53352407, -0.68040877, -0.27317946,  0.15909253,\n",
       "        0.63098803])"
      ]
     },
     "execution_count": 213,
     "metadata": {},
     "output_type": "execute_result"
    }
   ],
   "source": [
    "arr.sort()\n",
    "arr"
   ]
  },
  {
   "cell_type": "code",
   "execution_count": 214,
   "id": "dc83b6df",
   "metadata": {},
   "outputs": [
    {
     "data": {
      "text/plain": [
       "array([[-1.25089752,  0.01672075,  0.8876922 ],\n",
       "       [-0.26927752,  0.20976381,  0.19809781],\n",
       "       [ 1.56147807, -0.53606261,  0.6163867 ],\n",
       "       [-1.45504439,  1.74751088,  0.06443153],\n",
       "       [ 0.39685069,  1.67497486, -0.43660145]])"
      ]
     },
     "execution_count": 214,
     "metadata": {},
     "output_type": "execute_result"
    }
   ],
   "source": [
    "arr = np.random.randn(5, 3)\n",
    "arr"
   ]
  },
  {
   "cell_type": "code",
   "execution_count": 217,
   "id": "7834ca13",
   "metadata": {},
   "outputs": [
    {
     "data": {
      "text/plain": [
       "array([[-1.25089752,  0.01672075,  0.8876922 ],\n",
       "       [-0.26927752,  0.19809781,  0.20976381],\n",
       "       [-0.53606261,  0.6163867 ,  1.56147807],\n",
       "       [-1.45504439,  0.06443153,  1.74751088],\n",
       "       [-0.43660145,  0.39685069,  1.67497486]])"
      ]
     },
     "execution_count": 217,
     "metadata": {},
     "output_type": "execute_result"
    }
   ],
   "source": [
    "arr.sort(1)\n",
    "arr"
   ]
  },
  {
   "cell_type": "code",
   "execution_count": 218,
   "id": "d525619e",
   "metadata": {},
   "outputs": [
    {
     "name": "stdout",
     "output_type": "stream",
     "text": [
      "[ 0.89688388  0.1894677   1.02285212 -2.27262546  1.97711823  0.93084402]\n",
      "[ 0.89688388  0.1894677   1.02285212 -2.27262546  1.97711823  0.93084402]\n",
      "[-2.27262546  0.1894677   0.89688388  0.93084402  1.02285212  1.97711823]\n"
     ]
    }
   ],
   "source": [
    "arr = np.random.randn(6)\n",
    "print(arr)\n",
    "arr2 =np.sort(arr)      #returns a sorted copy of an array instead of modyfying the arr \n",
    "print(arr)\n",
    "print(arr2)"
   ]
  },
  {
   "cell_type": "markdown",
   "id": "39893471",
   "metadata": {},
   "source": [
    "### Unique and Other Set Logic\n",
    "- numpy has some bsic set operationn for 1d array \n",
    "- np.unique(val) - alternative sorted(sort(val))\n",
    "- np.in1d,      tests membership of the values in one array in another \n",
    "- other array set opearations:\n",
    "        - unique(x)  = Compute the sorted, unique elements in x\n",
    "        - intersect1d(x, y) = Compute the sorted, common elements in x and y\n",
    "        - union1d(x, y) = Compute the sorted union of \n",
    "        - in1d(x, y) = Compute a boolean array indicating whether each element of x is contained in y elements\n",
    "        - setdiff1d(x, y) = Set difference, elements in x that are not in y\n",
    "        - setxor1d(x, y) = Set symmetric differences; elements that are in either of the arrays, but not both"
   ]
  },
  {
   "cell_type": "code",
   "execution_count": 220,
   "id": "62beeb23",
   "metadata": {},
   "outputs": [
    {
     "data": {
      "text/plain": [
       "array(['Bob', 'Joe', 'Will'], dtype='<U4')"
      ]
     },
     "execution_count": 220,
     "metadata": {},
     "output_type": "execute_result"
    }
   ],
   "source": [
    "names = np.array(['Bob', 'Joe', 'Will', 'Bob', 'Will', 'Joe', 'Joe'])\n",
    "np.unique(names)"
   ]
  },
  {
   "cell_type": "code",
   "execution_count": 221,
   "id": "c65fac8b",
   "metadata": {},
   "outputs": [
    {
     "data": {
      "text/plain": [
       "['Bob', 'Joe', 'Will']"
      ]
     },
     "execution_count": 221,
     "metadata": {},
     "output_type": "execute_result"
    }
   ],
   "source": [
    "#python alternative\n",
    "sorted(set(names))"
   ]
  },
  {
   "cell_type": "code",
   "execution_count": 223,
   "id": "856ad2e6",
   "metadata": {},
   "outputs": [
    {
     "data": {
      "text/plain": [
       "array([ True, False,  True,  True,  True, False, False])"
      ]
     },
     "execution_count": 223,
     "metadata": {},
     "output_type": "execute_result"
    }
   ],
   "source": [
    "np.in1d(names, ['Bob','Will'])"
   ]
  },
  {
   "cell_type": "markdown",
   "id": "6f28c466",
   "metadata": {},
   "source": [
    "# 4.4 File Input and Output with Arrays\n",
    "- NumPy is able to save and load data to and from disk either in text or binary format. \n",
    "- people prefer pandas \n",
    "- np.save(filename, arr)\n",
    "- np.load(filename, arr)\n",
    "- np.savez(filename, arr) #you can save 1 or more arrays by specifying a and b arguments \n",
    "- np.savez_compressed('arrays_compressed.npz', a=arr, b=arr)"
   ]
  },
  {
   "cell_type": "code",
   "execution_count": 224,
   "id": "97f0fba0",
   "metadata": {},
   "outputs": [],
   "source": [
    "arr = np.arange(10)\n",
    "np.save('some_array', arr) #file will be saved with .npy extension "
   ]
  },
  {
   "cell_type": "code",
   "execution_count": 225,
   "id": "f737d29e",
   "metadata": {},
   "outputs": [
    {
     "data": {
      "text/plain": [
       "array([0, 1, 2, 3, 4, 5, 6, 7, 8, 9])"
      ]
     },
     "execution_count": 225,
     "metadata": {},
     "output_type": "execute_result"
    }
   ],
   "source": [
    "np.load('some_array.npy')"
   ]
  },
  {
   "cell_type": "code",
   "execution_count": 227,
   "id": "17d34923",
   "metadata": {},
   "outputs": [
    {
     "data": {
      "text/plain": [
       "<numpy.lib.npyio.NpzFile at 0x7ffbfc0f0580>"
      ]
     },
     "execution_count": 227,
     "metadata": {},
     "output_type": "execute_result"
    }
   ],
   "source": [
    "#save multiple arrays in an uncompressed archive using np.savez\n",
    "np.savez('some_array1.npz' , a =arr , b= arr)\n",
    "np.load('some_array1.npz') #loadz individual array lazily"
   ]
  },
  {
   "cell_type": "code",
   "execution_count": 231,
   "id": "e0592fb3",
   "metadata": {},
   "outputs": [
    {
     "data": {
      "text/plain": [
       "array([0, 1, 2, 3, 4, 5, 6, 7, 8, 9])"
      ]
     },
     "execution_count": 231,
     "metadata": {},
     "output_type": "execute_result"
    }
   ],
   "source": [
    "np.load('some_array1.npz')['a']"
   ]
  },
  {
   "cell_type": "markdown",
   "id": "640ab2a9",
   "metadata": {},
   "source": [
    "# 4.5 Linear Algebra \n",
    "- Linear algebra, like matrix multiplication, decompositions, determinants, and other square matrix math, is an important part of any array library"
   ]
  },
  {
   "cell_type": "code",
   "execution_count": 232,
   "id": "bb9afa2d",
   "metadata": {},
   "outputs": [],
   "source": [
    "x = np.array([[1., 2., 3.], [4., 5., 6.]])\n",
    "y = np.array([[6., 23.], [-1, 7], [8, 9]])"
   ]
  },
  {
   "cell_type": "code",
   "execution_count": 233,
   "id": "6e38d6d0",
   "metadata": {},
   "outputs": [
    {
     "data": {
      "text/plain": [
       "array([[1., 2., 3.],\n",
       "       [4., 5., 6.]])"
      ]
     },
     "execution_count": 233,
     "metadata": {},
     "output_type": "execute_result"
    }
   ],
   "source": [
    "x"
   ]
  },
  {
   "cell_type": "code",
   "execution_count": 234,
   "id": "aaec6543",
   "metadata": {},
   "outputs": [
    {
     "data": {
      "text/plain": [
       "array([[ 6., 23.],\n",
       "       [-1.,  7.],\n",
       "       [ 8.,  9.]])"
      ]
     },
     "execution_count": 234,
     "metadata": {},
     "output_type": "execute_result"
    }
   ],
   "source": [
    "y"
   ]
  },
  {
   "cell_type": "code",
   "execution_count": 236,
   "id": "b3f03252",
   "metadata": {},
   "outputs": [
    {
     "data": {
      "text/plain": [
       "array([[ 28.,  64.],\n",
       "       [ 67., 181.]])"
      ]
     },
     "execution_count": 236,
     "metadata": {},
     "output_type": "execute_result"
    }
   ],
   "source": [
    "x.dot(y) #can also be written as np.dot(x, y)"
   ]
  },
  {
   "cell_type": "code",
   "execution_count": 237,
   "id": "a84e3c70",
   "metadata": {},
   "outputs": [
    {
     "data": {
      "text/plain": [
       "array([ 6., 15.])"
      ]
     },
     "execution_count": 237,
     "metadata": {},
     "output_type": "execute_result"
    }
   ],
   "source": [
    "#@ symbol \n",
    "x @ np.ones(3)"
   ]
  },
  {
   "cell_type": "code",
   "execution_count": 245,
   "id": "1ef92ffd",
   "metadata": {},
   "outputs": [
    {
     "data": {
      "text/plain": [
       "array([[ 0.18355806, -2.10594579,  0.15058048,  0.36649193,  0.10102009],\n",
       "       [ 1.16628028, -0.97432917,  0.28471279, -1.16511503, -0.35267722],\n",
       "       [-1.22660071,  0.55396811, -1.22199469,  0.0188558 ,  0.97105466],\n",
       "       [-0.84966446,  1.15069046,  0.22826223, -0.37039621, -0.28894453],\n",
       "       [-1.89423071,  1.4299965 ,  1.39128332,  0.71048161, -0.08433353]])"
      ]
     },
     "execution_count": 245,
     "metadata": {},
     "output_type": "execute_result"
    }
   ],
   "source": [
    "#numpy.linalg has a standard set of matrix decompositions and things like inverse and determinant.\n",
    "from numpy.linalg import inv , qr \n",
    "X = np.random.randn(5,5)\n",
    "X"
   ]
  },
  {
   "cell_type": "code",
   "execution_count": 249,
   "id": "0f80b6bc",
   "metadata": {},
   "outputs": [],
   "source": [
    "mat  = X.T.dot(X) #X.T.dot(X) computes the dot product of X with its transpose X.T"
   ]
  },
  {
   "cell_type": "code",
   "execution_count": 247,
   "id": "58a0e391",
   "metadata": {},
   "outputs": [
    {
     "data": {
      "text/plain": [
       "array([[ 7.20849222, -5.88884597, -0.97076317, -2.34581026, -1.1786207 ],\n",
       "       [-5.88884597,  9.06018422,  0.98072506,  0.96361377,  0.21573181],\n",
       "       [-0.97076317,  0.98072506,  3.58477981,  0.60435544, -1.45511066],\n",
       "       [-2.34581026,  0.96361377,  0.60435544,  2.13414238,  0.51334913],\n",
       "       [-1.1786207 ,  0.21573181, -1.45511066,  0.51334913,  1.16813452]])"
      ]
     },
     "execution_count": 247,
     "metadata": {},
     "output_type": "execute_result"
    }
   ],
   "source": [
    "mat"
   ]
  },
  {
   "cell_type": "code",
   "execution_count": 250,
   "id": "914ab0d2",
   "metadata": {},
   "outputs": [
    {
     "data": {
      "text/plain": [
       "array([[ 1.36919786,  0.66489541,  1.30417387,  0.15869103,  2.81352807],\n",
       "       [ 0.66489541,  0.44573913,  0.54602216,  0.07802607,  1.23441899],\n",
       "       [ 1.30417387,  0.54602216,  2.34421978, -0.52727914,  4.36688531],\n",
       "       [ 0.15869103,  0.07802607, -0.52727914,  0.98405513, -0.94356385],\n",
       "       [ 2.81352807,  1.23441899,  4.36688531, -0.94356385,  9.32123646]])"
      ]
     },
     "execution_count": 250,
     "metadata": {},
     "output_type": "execute_result"
    }
   ],
   "source": [
    "inv(mat)"
   ]
  },
  {
   "cell_type": "code",
   "execution_count": 251,
   "id": "36d229c4",
   "metadata": {},
   "outputs": [
    {
     "data": {
      "text/plain": [
       "array([[ 1.00000000e+00,  1.37038342e-15, -2.07127143e-16,\n",
       "         3.25473779e-16,  5.14777126e-15],\n",
       "       [ 1.10811761e-16,  1.00000000e+00,  1.17297774e-15,\n",
       "        -1.47513355e-17, -1.47950218e-15],\n",
       "       [ 6.22666292e-16, -2.05168500e-16,  1.00000000e+00,\n",
       "         9.85459858e-17, -9.51085415e-16],\n",
       "       [-8.85814652e-17, -3.42170291e-16,  6.16082851e-16,\n",
       "         1.00000000e+00,  1.30516472e-16],\n",
       "       [ 1.74706036e-16,  1.85664048e-16,  3.85650923e-16,\n",
       "        -2.39968603e-16,  1.00000000e+00]])"
      ]
     },
     "execution_count": 251,
     "metadata": {},
     "output_type": "execute_result"
    }
   ],
   "source": [
    "mat.dot(inv(mat))"
   ]
  },
  {
   "cell_type": "code",
   "execution_count": 253,
   "id": "9b0bf2f4",
   "metadata": {},
   "outputs": [
    {
     "data": {
      "text/plain": [
       "array([[-9.71983645, 10.21318651,  1.64156358,  2.96119706,  1.12501162],\n",
       "       [ 0.        , -3.79383443, -0.42721014,  1.30176556,  0.8632578 ],\n",
       "       [ 0.        ,  0.        , -3.78948574, -0.42926208,  1.77544445],\n",
       "       [ 0.        ,  0.        ,  0.        , -0.98344612, -0.09711791],\n",
       "       [ 0.        ,  0.        ,  0.        ,  0.        ,  0.09273375]])"
      ]
     },
     "execution_count": 253,
     "metadata": {},
     "output_type": "execute_result"
    }
   ],
   "source": [
    "q, r = qr(mat) #Compute the QR decomposition\n",
    "r"
   ]
  },
  {
   "cell_type": "code",
   "execution_count": 254,
   "id": "063812fd",
   "metadata": {},
   "outputs": [
    {
     "data": {
      "text/plain": [
       "array([[-9.71983645, 10.21318651,  1.64156358,  2.96119706,  1.12501162],\n",
       "       [ 0.        , -3.79383443, -0.42721014,  1.30176556,  0.8632578 ],\n",
       "       [ 0.        ,  0.        , -3.78948574, -0.42926208,  1.77544445],\n",
       "       [ 0.        ,  0.        ,  0.        , -0.98344612, -0.09711791],\n",
       "       [ 0.        ,  0.        ,  0.        ,  0.        ,  0.09273375]])"
      ]
     },
     "execution_count": 254,
     "metadata": {},
     "output_type": "execute_result"
    }
   ],
   "source": [
    "r"
   ]
  },
  {
   "cell_type": "markdown",
   "id": "216f8bf6",
   "metadata": {},
   "source": [
    "## 4.6 Pseudorandom Number Generation\n"
   ]
  },
  {
   "cell_type": "code",
   "execution_count": 257,
   "id": "cf4167e4",
   "metadata": {},
   "outputs": [
    {
     "data": {
      "text/plain": [
       "array([[-0.50690038, -1.32776312,  0.2092361 , -0.13584988],\n",
       "       [-1.0698351 ,  0.57781464, -1.52506069, -0.69121993],\n",
       "       [-0.062964  , -0.42768846,  0.53247672, -0.62598895],\n",
       "       [-0.10430917, -0.81177046,  0.00814107,  0.32216918]])"
      ]
     },
     "execution_count": 257,
     "metadata": {},
     "output_type": "execute_result"
    }
   ],
   "source": [
    "samples = np.random.normal(size = (4,4))\n",
    "samples"
   ]
  },
  {
   "cell_type": "code",
   "execution_count": 258,
   "id": "534228fc",
   "metadata": {},
   "outputs": [],
   "source": [
    "#pseudorandom - generated by an algorithm with deterministic behavior based on the seed of the random number generator"
   ]
  },
  {
   "cell_type": "code",
   "execution_count": 259,
   "id": "2792b140",
   "metadata": {},
   "outputs": [],
   "source": [
    "#to change numpy's random seed \n",
    "np.random.seed(1234)"
   ]
  },
  {
   "cell_type": "code",
   "execution_count": 260,
   "id": "5be7d9d9",
   "metadata": {},
   "outputs": [
    {
     "data": {
      "text/plain": [
       "array([ 0.47143516, -1.19097569,  1.43270697, -0.3126519 , -0.72058873,\n",
       "        0.88716294,  0.85958841, -0.6365235 ,  0.01569637, -2.24268495])"
      ]
     },
     "execution_count": 260,
     "metadata": {},
     "output_type": "execute_result"
    }
   ],
   "source": [
    "#numpy.random  use global random seed generator to avoid this you can use numpy.random.RandomState\n",
    "rng = np.random.RandomState(1234)\n",
    "rng.randn(10)"
   ]
  },
  {
   "cell_type": "code",
   "execution_count": 262,
   "id": "991a46cd",
   "metadata": {},
   "outputs": [
    {
     "data": {
      "text/plain": [
       "array([ 0.47143516, -1.19097569,  1.43270697, -0.3126519 , -0.72058873,\n",
       "        0.88716294,  0.85958841, -0.6365235 ,  0.01569637, -2.24268495])"
      ]
     },
     "execution_count": 262,
     "metadata": {},
     "output_type": "execute_result"
    }
   ],
   "source": [
    "np.random.randn(10) # same seesd was used a before "
   ]
  },
  {
   "cell_type": "code",
   "execution_count": null,
   "id": "39ea1710",
   "metadata": {},
   "outputs": [],
   "source": []
  }
 ],
 "metadata": {
  "kernelspec": {
   "display_name": "Python 3",
   "language": "python",
   "name": "python3"
  },
  "language_info": {
   "codemirror_mode": {
    "name": "ipython",
    "version": 3
   },
   "file_extension": ".py",
   "mimetype": "text/x-python",
   "name": "python",
   "nbconvert_exporter": "python",
   "pygments_lexer": "ipython3",
   "version": "3.8.8"
  }
 },
 "nbformat": 4,
 "nbformat_minor": 5
}
