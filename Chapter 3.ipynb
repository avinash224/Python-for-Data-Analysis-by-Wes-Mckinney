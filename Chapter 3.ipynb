{
 "cells": [
  {
   "cell_type": "markdown",
   "id": "a7ef8d3b",
   "metadata": {},
   "source": [
    "# Python for Data Analysis, 2nd Edition\n",
    "\n",
    "Python for Data Analysis by Wes McKinney (O’Reilly). Copyright 2017 Wes McKinney, 978-1-491-95766-0."
   ]
  },
  {
   "cell_type": "markdown",
   "id": "0816f565",
   "metadata": {},
   "source": [
    "## Chapter 3: Built-in Data Structures, Functions, and Files"
   ]
  },
  {
   "cell_type": "markdown",
   "id": "c060d79b",
   "metadata": {},
   "source": [
    "## 3.1 Data Structures and Sequences\n",
    "- data structures: tuples, lists, dicts, and sets"
   ]
  },
  {
   "cell_type": "markdown",
   "id": "a70802e9",
   "metadata": {},
   "source": [
    "- ## a) Tuple"
   ]
  },
  {
   "cell_type": "code",
   "execution_count": 421,
   "id": "79cb61a6",
   "metadata": {},
   "outputs": [
    {
     "name": "stdout",
     "output_type": "stream",
     "text": [
      "(1, 2, 3)\n",
      "<class 'tuple'>\n"
     ]
    }
   ],
   "source": [
    "tup = 1,2,3\n",
    "print(tup)\n",
    "print(type(tup))"
   ]
  },
  {
   "cell_type": "code",
   "execution_count": 422,
   "id": "da171114",
   "metadata": {},
   "outputs": [
    {
     "data": {
      "text/plain": [
       "((4, 5, 6), (7, 8))"
      ]
     },
     "execution_count": 422,
     "metadata": {},
     "output_type": "execute_result"
    }
   ],
   "source": [
    "nested_tup = (4,5,6), (7,8)\n",
    "nested_tup"
   ]
  },
  {
   "cell_type": "code",
   "execution_count": 423,
   "id": "0504c6c5",
   "metadata": {},
   "outputs": [
    {
     "name": "stdout",
     "output_type": "stream",
     "text": [
      "('s', 't', 'r', 'i', 'n', 'g')\n",
      "('string',)\n",
      "([1, 2, 3], [5, 6])\n",
      "not iterable\n"
     ]
    }
   ],
   "source": [
    "value = 'string'\n",
    "tup1 = tuple(value)\n",
    "print(tup1)\n",
    "\n",
    "value1 = ['string']\n",
    "tup2 = tuple(value1)\n",
    "print(tup2)\n",
    "\n",
    "value2 = [1,2,3],[5,6]\n",
    "tup3 = tuple(value2)\n",
    "print(tup3)\n",
    "\n",
    "#only objects with __iter__ method can be converted into tuple\n",
    "value3 = 1\n",
    "#tup4 = tuple(value3)\n",
    "#print(tup4)                   ----> TypeError: 'int' object is not iterable\n",
    " \n",
    "try:\n",
    "    iterator = iter(value3)\n",
    "except TypeError:\n",
    "    print ('not iterable')\n"
   ]
  },
  {
   "cell_type": "code",
   "execution_count": 424,
   "id": "78e7988c",
   "metadata": {},
   "outputs": [
    {
     "name": "stdout",
     "output_type": "stream",
     "text": [
      "(4, 5, 6)\n",
      "5\n"
     ]
    }
   ],
   "source": [
    "#accessing element\n",
    "print(nested_tup[0])  # zero indexing \n",
    "print(nested_tup[0][1])"
   ]
  },
  {
   "cell_type": "markdown",
   "id": "8a56fd02",
   "metadata": {},
   "source": [
    "While the objects stored in a tuple may be mutable themselves,      once the tuple is created it’s not possible to modify which object is stored in each      slot:"
   ]
  },
  {
   "cell_type": "code",
   "execution_count": 425,
   "id": "1d0c8c82",
   "metadata": {},
   "outputs": [
    {
     "name": "stdout",
     "output_type": "stream",
     "text": [
      "('foo', [1, 2, 3], 1, True)\n",
      "('foo', [1, 9, 3], 1, True)\n"
     ]
    }
   ],
   "source": [
    "tup_modify = tuple(['foo', [1,2,3], 1, True])\n",
    "print(tup_modify)\n",
    "tup_modify[1][1]=9\n",
    "#tup_modify[3] = False                      #-->TypeError: 'tuple' object does not support item assignment\n",
    "print(tup_modify)"
   ]
  },
  {
   "cell_type": "code",
   "execution_count": 426,
   "id": "d2c6498c",
   "metadata": {},
   "outputs": [
    {
     "name": "stdout",
     "output_type": "stream",
     "text": [
      "('sam', 'li')\n",
      "('sam', 'li', 'avi', 'adi')\n",
      "('sam', 'li', 'sam', 'li', 'sam', 'li', 'sam', 'li')\n"
     ]
    }
   ],
   "source": [
    "#concatinating \n",
    "tupe = 'sam', 'li'\n",
    "print(tupe)\n",
    "tupe2 = 'avi', 'adi'\n",
    "print(tupe + tupe2)\n",
    "print(tupe *4)"
   ]
  },
  {
   "cell_type": "code",
   "execution_count": 427,
   "id": "18d7dfd2",
   "metadata": {},
   "outputs": [
    {
     "data": {
      "text/plain": [
       "[4, 5]"
      ]
     },
     "execution_count": 427,
     "metadata": {},
     "output_type": "execute_result"
    }
   ],
   "source": [
    "#unpacking \n",
    "a,b,c,d = ('1', 2, [4,5], 'six')\n",
    "c"
   ]
  },
  {
   "cell_type": "code",
   "execution_count": 428,
   "id": "a4da5638",
   "metadata": {},
   "outputs": [],
   "source": [
    "a,b,c,d = '1', 2, [4,5], 'six'"
   ]
  },
  {
   "cell_type": "code",
   "execution_count": 429,
   "id": "f3061eb8",
   "metadata": {},
   "outputs": [
    {
     "data": {
      "text/plain": [
       "'six'"
      ]
     },
     "execution_count": 429,
     "metadata": {},
     "output_type": "execute_result"
    }
   ],
   "source": [
    "d"
   ]
  },
  {
   "cell_type": "code",
   "execution_count": 430,
   "id": "645d378d",
   "metadata": {},
   "outputs": [
    {
     "name": "stdout",
     "output_type": "stream",
     "text": [
      "8 7\n",
      "5 4\n"
     ]
    }
   ],
   "source": [
    "#swapping in other languages \n",
    "a= 7\n",
    "b = 8\n",
    "\n",
    "tmp = a \n",
    "a = b\n",
    "b = tmp \n",
    "print(a,b)\n",
    "\n",
    "#in python \n",
    "a,b = 4,5\n",
    "b,a = a,b\n",
    "print(a,b)"
   ]
  },
  {
   "cell_type": "code",
   "execution_count": 431,
   "id": "b614f91b",
   "metadata": {},
   "outputs": [
    {
     "name": "stdout",
     "output_type": "stream",
     "text": [
      "a = 1, b = 2, c = 3\n",
      "a = 1, b = 2, c = 3\n",
      "a = 4, b = 5, c = 6\n",
      "a = 4, b = 5, c = 6\n",
      "a = 7, b = 8, c = 9\n",
      "a = 7, b = 8, c = 9\n"
     ]
    }
   ],
   "source": [
    "iter_tuple = [(1,2,3),(4,5,6),(7,8,9)]\n",
    "for i in iter_tuple: \n",
    "    print('a = {}, b = {}, c = {}'.format(i[0], i[1], i[2]))\n",
    "    print(f'a = {i[0]}, b = {i[1]}, c = {i[2]}')"
   ]
  },
  {
   "cell_type": "code",
   "execution_count": 432,
   "id": "d96e48b3",
   "metadata": {},
   "outputs": [],
   "source": [
    "#unpacking multiple elements from tuple \n",
    "a,b,*rest = 1,2,3,4,5,6\n",
    "c,d,*_ = 'a','b',3,4,5,6"
   ]
  },
  {
   "cell_type": "code",
   "execution_count": 433,
   "id": "a00ec847",
   "metadata": {},
   "outputs": [
    {
     "data": {
      "text/plain": [
       "[3, 4, 5, 6]"
      ]
     },
     "execution_count": 433,
     "metadata": {},
     "output_type": "execute_result"
    }
   ],
   "source": [
    "rest"
   ]
  },
  {
   "cell_type": "code",
   "execution_count": 434,
   "id": "5b54cd8a",
   "metadata": {},
   "outputs": [
    {
     "data": {
      "text/plain": [
       "[3, 4, 5, 6]"
      ]
     },
     "execution_count": 434,
     "metadata": {},
     "output_type": "execute_result"
    }
   ],
   "source": [
    "_"
   ]
  },
  {
   "cell_type": "markdown",
   "id": "d45f2db0",
   "metadata": {},
   "source": [
    "## tuple methods\n",
    "Tuple objects have only two methods\n",
    "- .count (value in a tuple)\n",
    "- .index () "
   ]
  },
  {
   "cell_type": "code",
   "execution_count": 435,
   "id": "2dac3636",
   "metadata": {},
   "outputs": [
    {
     "name": "stdout",
     "output_type": "stream",
     "text": [
      "(1, 2, 3, 4, 5, 6)\n",
      "<class 'tuple'>\n"
     ]
    },
    {
     "data": {
      "text/plain": [
       "1"
      ]
     },
     "execution_count": 435,
     "metadata": {},
     "output_type": "execute_result"
    }
   ],
   "source": [
    "#tuple methods \n",
    "a = 1,2,3,4,5,6\n",
    "print(a)\n",
    "print(type(a))\n",
    "a.count(3) "
   ]
  },
  {
   "cell_type": "markdown",
   "id": "5ecf792c",
   "metadata": {},
   "source": [
    " ## b) List\n",
    "\n",
    "   - In contrast with tuples, lists are variable-length and their contents can be modified in-place. You can define them using square brackets [] or using the list type function\n",
    "   - Checking whether a list contains a value is a lot slower than doing so with dicts and sets (using in or not in operation)\n",
    "   - concatination using + is expensive, use .extend() method "
   ]
  },
  {
   "cell_type": "code",
   "execution_count": 436,
   "id": "61394d1a",
   "metadata": {},
   "outputs": [
    {
     "name": "stdout",
     "output_type": "stream",
     "text": [
      "['foo', 'moo', 'doo']\n"
     ]
    }
   ],
   "source": [
    "a_list = [2,3,4,7]\n",
    "tup = ('foo', 'moo', 'doo')\n",
    "tup_list = list(tup)\n",
    "print(tup_list)"
   ]
  },
  {
   "cell_type": "code",
   "execution_count": 437,
   "id": "5a505003",
   "metadata": {},
   "outputs": [
    {
     "name": "stdout",
     "output_type": "stream",
     "text": [
      "3\n"
     ]
    }
   ],
   "source": [
    "print(a_list[1])"
   ]
  },
  {
   "cell_type": "code",
   "execution_count": 438,
   "id": "8c0e7853",
   "metadata": {},
   "outputs": [
    {
     "data": {
      "text/plain": [
       "[2, '6', 4, 7]"
      ]
     },
     "execution_count": 438,
     "metadata": {},
     "output_type": "execute_result"
    }
   ],
   "source": [
    "a_list[1] = '6'\n",
    "a_list"
   ]
  },
  {
   "cell_type": "code",
   "execution_count": 439,
   "id": "c3e20b13",
   "metadata": {},
   "outputs": [
    {
     "name": "stdout",
     "output_type": "stream",
     "text": [
      "range(0, 10)\n"
     ]
    },
    {
     "data": {
      "text/plain": [
       "[0, 1, 2, 3, 4, 5, 6, 7, 8, 9]"
      ]
     },
     "execution_count": 439,
     "metadata": {},
     "output_type": "execute_result"
    }
   ],
   "source": [
    "gen = range(10)\n",
    "print(gen)\n",
    "value = list(gen)\n",
    "value"
   ]
  },
  {
   "cell_type": "code",
   "execution_count": 440,
   "id": "97b149d3",
   "metadata": {},
   "outputs": [
    {
     "name": "stdout",
     "output_type": "stream",
     "text": [
      "[2, '6', 4, 7, '9']\n",
      "[2, '6', 4, 7]\n"
     ]
    }
   ],
   "source": [
    "#adding and removing elements \n",
    "#1. add\n",
    "a_list.append('9')\n",
    "print(a_list)\n",
    "\n",
    "#2. removing \n",
    "del(a_list[4])\n",
    "print(a_list)"
   ]
  },
  {
   "cell_type": "code",
   "execution_count": 441,
   "id": "9281024d",
   "metadata": {},
   "outputs": [
    {
     "data": {
      "text/plain": [
       "[2, 6, '6', 4, 7]"
      ]
     },
     "execution_count": 441,
     "metadata": {},
     "output_type": "execute_result"
    }
   ],
   "source": [
    "a_list.insert(1, 6)\n",
    "a_list"
   ]
  },
  {
   "cell_type": "code",
   "execution_count": 442,
   "id": "914457be",
   "metadata": {},
   "outputs": [
    {
     "data": {
      "text/plain": [
       "[2, '6', 4, 7]"
      ]
     },
     "execution_count": 442,
     "metadata": {},
     "output_type": "execute_result"
    }
   ],
   "source": [
    "a_list.pop(1)\n",
    "a_list"
   ]
  },
  {
   "cell_type": "code",
   "execution_count": 443,
   "id": "2e7dc619",
   "metadata": {},
   "outputs": [
    {
     "data": {
      "text/plain": [
       "[2, 4, 7]"
      ]
     },
     "execution_count": 443,
     "metadata": {},
     "output_type": "execute_result"
    }
   ],
   "source": [
    "a_list.remove('6')\n",
    "a_list"
   ]
  },
  {
   "cell_type": "markdown",
   "id": "ff2ed457",
   "metadata": {},
   "source": [
    "### list methods\n",
    "    - .append(val)            ==>  appends val at the last position\n",
    "    - .clear()                ==> empty list \n",
    "    - .copy()                 ==> returns a copy of list \n",
    "    - .remove(val)            ==> remove first occurance of val \n",
    "    - .pop(index)             ==> remove elemnet at the mentioned index \n",
    "    - .insert(index, val)     ==> inserts val element at index \n",
    "    - .index(val)             ==> gives index of the mentioned val \n",
    "    - .reverse()              ==> reverses the list \n",
    "    - .count(val)             ==> count the total number of val in list\n",
    "    - .sort(key = len)        ==> sorts the list in ascending order "
   ]
  },
  {
   "cell_type": "code",
   "execution_count": 444,
   "id": "3291dfdb",
   "metadata": {},
   "outputs": [
    {
     "ename": "SyntaxError",
     "evalue": "invalid syntax (<ipython-input-444-12ed977698c5>, line 2)",
     "output_type": "error",
     "traceback": [
      "\u001b[0;36m  File \u001b[0;32m\"<ipython-input-444-12ed977698c5>\"\u001b[0;36m, line \u001b[0;32m2\u001b[0m\n\u001b[0;31m    a_list.\u001b[0m\n\u001b[0m           ^\u001b[0m\n\u001b[0;31mSyntaxError\u001b[0m\u001b[0;31m:\u001b[0m invalid syntax\n"
     ]
    }
   ],
   "source": [
    "a_list.reverse()\n",
    "a_list."
   ]
  },
  {
   "cell_type": "code",
   "execution_count": 445,
   "id": "d0b38364",
   "metadata": {},
   "outputs": [
    {
     "name": "stdout",
     "output_type": "stream",
     "text": [
      "[2, 4, 7]\n",
      "[2, 10, 7]\n"
     ]
    }
   ],
   "source": [
    "b = a_list.copy()\n",
    "b[1] = 10\n",
    "print(a_list)\n",
    "print(b)"
   ]
  },
  {
   "cell_type": "code",
   "execution_count": 446,
   "id": "4065d63a",
   "metadata": {},
   "outputs": [
    {
     "name": "stdout",
     "output_type": "stream",
     "text": [
      "True\n",
      "True\n"
     ]
    }
   ],
   "source": [
    "#in and not in \n",
    "b_list =  ['foo', 'red', 'baz', 'dwarf', 'foo']\n",
    "print('dwarf' in b_list)\n",
    "print('avinash' not in b_list)"
   ]
  },
  {
   "cell_type": "code",
   "execution_count": 447,
   "id": "c0b8eebc",
   "metadata": {},
   "outputs": [
    {
     "data": {
      "text/plain": [
       "[4, None, 'foo', 1, 2, 3]"
      ]
     },
     "execution_count": 447,
     "metadata": {},
     "output_type": "execute_result"
    }
   ],
   "source": [
    "#concatinating and combining list\n",
    "[4, None, 'foo'] + [1,2,3]"
   ]
  },
  {
   "cell_type": "code",
   "execution_count": 448,
   "id": "d84ae4d4",
   "metadata": {},
   "outputs": [
    {
     "data": {
      "text/plain": [
       "[4, None, 'foo', 1, 2, (4, 5), 'six']"
      ]
     },
     "execution_count": 448,
     "metadata": {},
     "output_type": "execute_result"
    }
   ],
   "source": [
    "x_list = [4, None, 'foo']\n",
    "x_list.extend([1,2,(4,5), 'six'])\n",
    "x_list"
   ]
  },
  {
   "cell_type": "code",
   "execution_count": 449,
   "id": "2312fdfe",
   "metadata": {},
   "outputs": [],
   "source": [
    "x_list.append([1,2,(4,5), 'six']) #appends take only one argument"
   ]
  },
  {
   "cell_type": "code",
   "execution_count": 450,
   "id": "7e000071",
   "metadata": {},
   "outputs": [
    {
     "data": {
      "text/plain": [
       "[4, None, 'foo', 1, 2, (4, 5), 'six', [1, 2, (4, 5), 'six']]"
      ]
     },
     "execution_count": 450,
     "metadata": {},
     "output_type": "execute_result"
    }
   ],
   "source": [
    "x_list"
   ]
  },
  {
   "cell_type": "code",
   "execution_count": 451,
   "id": "c95f758f",
   "metadata": {},
   "outputs": [
    {
     "ename": "NameError",
     "evalue": "name 'list_of_lists' is not defined",
     "output_type": "error",
     "traceback": [
      "\u001b[0;31m---------------------------------------------------------------------------\u001b[0m",
      "\u001b[0;31mNameError\u001b[0m                                 Traceback (most recent call last)",
      "\u001b[0;32m<ipython-input-451-f898d51eb25b>\u001b[0m in \u001b[0;36m<module>\u001b[0;34m\u001b[0m\n\u001b[1;32m      1\u001b[0m \u001b[0meverything\u001b[0m \u001b[0;34m=\u001b[0m \u001b[0;34m[\u001b[0m\u001b[0;34m]\u001b[0m\u001b[0;34m\u001b[0m\u001b[0;34m\u001b[0m\u001b[0m\n\u001b[0;32m----> 2\u001b[0;31m \u001b[0;32mfor\u001b[0m \u001b[0mi\u001b[0m \u001b[0;32min\u001b[0m \u001b[0mlist_of_lists\u001b[0m\u001b[0;34m:\u001b[0m\u001b[0;34m\u001b[0m\u001b[0;34m\u001b[0m\u001b[0m\n\u001b[0m\u001b[1;32m      3\u001b[0m     \u001b[0meverything\u001b[0m\u001b[0;34m.\u001b[0m\u001b[0mextend\u001b[0m\u001b[0;34m(\u001b[0m\u001b[0mi\u001b[0m\u001b[0;34m)\u001b[0m \u001b[0;31m#is fater than\u001b[0m\u001b[0;34m\u001b[0m\u001b[0;34m\u001b[0m\u001b[0m\n\u001b[1;32m      4\u001b[0m \u001b[0;34m\u001b[0m\u001b[0m\n\u001b[1;32m      5\u001b[0m \u001b[0;32mfor\u001b[0m \u001b[0mi\u001b[0m \u001b[0;32min\u001b[0m \u001b[0mlist_of_lists\u001b[0m\u001b[0;34m:\u001b[0m\u001b[0;34m\u001b[0m\u001b[0;34m\u001b[0m\u001b[0m\n",
      "\u001b[0;31mNameError\u001b[0m: name 'list_of_lists' is not defined"
     ]
    }
   ],
   "source": [
    "everything = []\n",
    "for i in list_of_lists:\n",
    "    everything.extend(i) #is fater than\n",
    "\n",
    "for i in list_of_lists:\n",
    "    everything += i #this "
   ]
  },
  {
   "cell_type": "markdown",
   "id": "cb3bbfb1",
   "metadata": {},
   "source": [
    "### sorting "
   ]
  },
  {
   "cell_type": "code",
   "execution_count": 452,
   "id": "e25f2d7f",
   "metadata": {},
   "outputs": [
    {
     "name": "stdout",
     "output_type": "stream",
     "text": [
      "[2, 4, 6, 7, 23, 31, 91]\n",
      "['avi', 'anu', 'adi', 'sumit', 'ikshit', 'rupali', ' chirag', 'bhandari']\n"
     ]
    }
   ],
   "source": [
    "#sorting \n",
    "a = [4,2,6,7,91,31,23]\n",
    "b = ['avi', 'anu' , 'ikshit', 'adi', ' chirag', 'bhandari', 'sumit', 'rupali']\n",
    "a.sort()\n",
    "#sort has a few options that will occasionally come in handy. One is the ability to pass a secondary sort key—that is, \n",
    "#- a function that produces a value to use to sort the objects. \n",
    "b.sort(key=len)\n",
    "print(a)\n",
    "print(b)"
   ]
  },
  {
   "cell_type": "markdown",
   "id": "04c17581",
   "metadata": {},
   "source": [
    "### binary search and maintaining a sorted list \n"
   ]
  },
  {
   "cell_type": "code",
   "execution_count": 453,
   "id": "bcda6c59",
   "metadata": {},
   "outputs": [
    {
     "data": {
      "text/plain": [
       "[1, 2, 2, 2, 3, 4, 7, 8]"
      ]
     },
     "execution_count": 453,
     "metadata": {},
     "output_type": "execute_result"
    }
   ],
   "source": [
    "#binary search and maintaining a sorted list \n",
    "#- it simply means going through each list elemets and finding appropriate location that is suitable for a new elements\n",
    "import bisect \n",
    "\n",
    "c = [1,2,2,2,4,7,8]\n",
    "\n",
    "bisect.bisect(c, 3) # Out[100]: 4  ==> > 3 needs to be added in c list at index 4 \n",
    "bisect.insort(c, 3) #bisect operations does not check the sorting \n",
    "c"
   ]
  },
  {
   "cell_type": "markdown",
   "id": "c28b9346",
   "metadata": {},
   "source": [
    "### indexing & slicing"
   ]
  },
  {
   "cell_type": "code",
   "execution_count": 454,
   "id": "26170c46",
   "metadata": {},
   "outputs": [
    {
     "name": "stdout",
     "output_type": "stream",
     "text": [
      "7\n",
      "[7]\n"
     ]
    }
   ],
   "source": [
    "#indexing & slicing\n",
    "seq = [7, 2, 3, 7, 5, 6, 0, 1]\n",
    "\n",
    "# 0- indexing\n",
    "print(seq[0]) \n",
    "\n",
    "#slicing\n",
    "print(seq [3:4]) # stop index is not included in the result "
   ]
  },
  {
   "cell_type": "code",
   "execution_count": 455,
   "id": "b42e2533",
   "metadata": {},
   "outputs": [
    {
     "name": "stdout",
     "output_type": "stream",
     "text": [
      "[7, 5, 6, 0, 1]\n",
      "[7, 2, 3, 7, 5]\n"
     ]
    }
   ],
   "source": [
    "#slicing (WITHOUT START OR END INDEX)\n",
    "print (seq[3:]) # startindex=3 ;stopindex = last ==> therefore elements from 3rd index till last will be dispalyed \n",
    "\n",
    "print (seq[:5]) #startindex=first ;stopindex =5 ==> therefore elements from start till index 4 will be displayed   "
   ]
  },
  {
   "cell_type": "code",
   "execution_count": 456,
   "id": "f0f32889",
   "metadata": {},
   "outputs": [
    {
     "name": "stdout",
     "output_type": "stream",
     "text": [
      "[5, 6]\n",
      "[6, 0, 1]\n"
     ]
    }
   ],
   "source": [
    "#slicing (WITH NEGATIVE INDEX)\n",
    "print(seq[-4:-2]) #4th element from end along with 3rd element \n",
    "print(seq[-3:]) #3rd element from end and all te rest "
   ]
  },
  {
   "cell_type": "code",
   "execution_count": 457,
   "id": "37aa4350",
   "metadata": {},
   "outputs": [
    {
     "name": "stdout",
     "output_type": "stream",
     "text": [
      "[7, 3, 5, 0]\n",
      "[1, 0, 6, 5, 7, 3, 2, 7]\n"
     ]
    }
   ],
   "source": [
    "#slicing (WITH STEPS)\n",
    "print(seq[::2])\n",
    "print(seq[::-1]) #reversing list"
   ]
  },
  {
   "cell_type": "markdown",
   "id": "549bf352",
   "metadata": {},
   "source": [
    "### Built in sequence function \n",
    "- ENUMERATE() - to keep tracking the index along with value \n",
    "- SORTED() - to sort the list \n",
    "- ZIP() - to zip two or more objects [zip “pairs” up the elements        of a number of lists, tuples, or other sequences to        create a list of tuples:]\n",
    "- REVERSED() - reversed is a generator which reverses the object. but it will not materialize unless list or dict functions are applied."
   ]
  },
  {
   "cell_type": "code",
   "execution_count": 458,
   "id": "0f8353b7",
   "metadata": {},
   "outputs": [
    {
     "name": "stdout",
     "output_type": "stream",
     "text": [
      "0 : jake\n",
      "1 : take\n",
      "2 : make\n"
     ]
    }
   ],
   "source": [
    "#ENUMERATE\n",
    "collection = ['jake', 'take' , 'make']\n",
    "#normal way of tracking the index\n",
    "\n",
    "j = 0\n",
    "for v in collection:\n",
    "    #do something here\n",
    "    j +=1 #index counter \n",
    "    \n",
    "for i, v in enumerate(collection):\n",
    "    print(f'{i} : {v}')"
   ]
  },
  {
   "cell_type": "code",
   "execution_count": 459,
   "id": "0b9e0ec5",
   "metadata": {},
   "outputs": [
    {
     "data": {
      "text/plain": [
       "['a', 'a', 'h', 'i', 'n', 's', 'v']"
      ]
     },
     "execution_count": 459,
     "metadata": {},
     "output_type": "execute_result"
    }
   ],
   "source": [
    "#SORTED\n",
    "name = 'avinash'\n",
    "sorted(name)"
   ]
  },
  {
   "cell_type": "code",
   "execution_count": 460,
   "id": "8169a6d5",
   "metadata": {},
   "outputs": [
    {
     "data": {
      "text/plain": [
       "['jake', 'make', 'take']"
      ]
     },
     "execution_count": 460,
     "metadata": {},
     "output_type": "execute_result"
    }
   ],
   "source": [
    "sorted(collection)"
   ]
  },
  {
   "cell_type": "code",
   "execution_count": 461,
   "id": "80de9363",
   "metadata": {},
   "outputs": [
    {
     "name": "stdout",
     "output_type": "stream",
     "text": [
      "2\n",
      "3\n"
     ]
    },
    {
     "ename": "IndexError",
     "evalue": "list index out of range",
     "output_type": "error",
     "traceback": [
      "\u001b[0;31m---------------------------------------------------------------------------\u001b[0m",
      "\u001b[0;31mIndexError\u001b[0m                                Traceback (most recent call last)",
      "\u001b[0;32m<ipython-input-461-c858c8f07574>\u001b[0m in \u001b[0;36m<module>\u001b[0;34m\u001b[0m\n\u001b[1;32m      2\u001b[0m \u001b[0msort_dict_key\u001b[0m \u001b[0;34m=\u001b[0m \u001b[0msorted\u001b[0m\u001b[0;34m(\u001b[0m\u001b[0mdict1\u001b[0m\u001b[0;34m)\u001b[0m\u001b[0;34m\u001b[0m\u001b[0;34m\u001b[0m\u001b[0m\n\u001b[1;32m      3\u001b[0m \u001b[0;32mfor\u001b[0m \u001b[0mk\u001b[0m \u001b[0;32min\u001b[0m \u001b[0msort_dict_key\u001b[0m\u001b[0;34m:\u001b[0m\u001b[0;34m\u001b[0m\u001b[0;34m\u001b[0m\u001b[0m\n\u001b[0;32m----> 4\u001b[0;31m     \u001b[0mprint\u001b[0m\u001b[0;34m(\u001b[0m\u001b[0msort_dict_key\u001b[0m\u001b[0;34m[\u001b[0m\u001b[0mk\u001b[0m\u001b[0;34m]\u001b[0m\u001b[0;34m)\u001b[0m\u001b[0;34m\u001b[0m\u001b[0;34m\u001b[0m\u001b[0m\n\u001b[0m",
      "\u001b[0;31mIndexError\u001b[0m: list index out of range"
     ]
    }
   ],
   "source": [
    "dict1 = {3:'c', 2:'b', 1:'a'}\n",
    "sort_dict_key = sorted(dict1)\n",
    "for k in sort_dict_key:\n",
    "    print(sort_dict_key[k])"
   ]
  },
  {
   "cell_type": "code",
   "execution_count": 462,
   "id": "f2ef1e67",
   "metadata": {},
   "outputs": [
    {
     "data": {
      "text/plain": [
       "[('a', 0), ('ab', 1), ('ac', 2)]"
      ]
     },
     "execution_count": 462,
     "metadata": {},
     "output_type": "execute_result"
    }
   ],
   "source": [
    "#ZIP\n",
    "list1 = ['a' , 'ab' , 'ac']\n",
    "list2 = list(range(0,6)) \n",
    "\n",
    "zip_list = zip(list1 , list2)\n",
    "\n",
    "list(zip_list) #==> only 3 obj can be zipped "
   ]
  },
  {
   "cell_type": "code",
   "execution_count": 463,
   "id": "1c092fd8",
   "metadata": {},
   "outputs": [
    {
     "data": {
      "text/plain": [
       "{}"
      ]
     },
     "execution_count": 463,
     "metadata": {},
     "output_type": "execute_result"
    }
   ],
   "source": [
    "dict(zip_list)"
   ]
  },
  {
   "cell_type": "code",
   "execution_count": 464,
   "id": "7d3a7aab",
   "metadata": {},
   "outputs": [
    {
     "name": "stdout",
     "output_type": "stream",
     "text": [
      "('a', 'b', 'c') ('avinash', 'binod', 'chand')\n"
     ]
    }
   ],
   "source": [
    "zipped = [('a', 'avinash') ,('b' , 'binod' ), ('c' , 'chand')]\n",
    "initial, firstname = zip(*zipped)\n",
    "#this confirms that zip created by collection of tuples\n",
    "print(initial, firstname)"
   ]
  },
  {
   "cell_type": "code",
   "execution_count": 465,
   "id": "aae51f3d",
   "metadata": {},
   "outputs": [
    {
     "data": {
      "text/plain": [
       "[9, 8, 7, 6, 5, 4, 3, 2, 1, 0]"
      ]
     },
     "execution_count": 465,
     "metadata": {},
     "output_type": "execute_result"
    }
   ],
   "source": [
    "#REVERSED - generator object\n",
    "list (reversed(range(0,10)))"
   ]
  },
  {
   "cell_type": "markdown",
   "id": "d18efacf",
   "metadata": {},
   "source": [
    "## c) DICTIONARIES \n",
    "- aka hash map or associative array \n",
    "- collection of key value pair \n",
    "- ways to create dict:\n",
    "    - use {} and :\n",
    "    - use dict ()"
   ]
  },
  {
   "cell_type": "code",
   "execution_count": 466,
   "id": "4947deeb",
   "metadata": {},
   "outputs": [],
   "source": [
    "empty_dict = {}\n",
    "a = {'a': 'some_value' , 'b':[1,2,3,4,5], 'c':{'aa':1, 'bb':2} }"
   ]
  },
  {
   "cell_type": "code",
   "execution_count": 467,
   "id": "d76364f1",
   "metadata": {},
   "outputs": [
    {
     "data": {
      "text/plain": [
       "{0: 8, 1: 7, 2: 6, 3: 5, 4: 4, 5: 3, 6: 2, 7: 1, 8: 0}"
      ]
     },
     "execution_count": 467,
     "metadata": {},
     "output_type": "execute_result"
    }
   ],
   "source": [
    "#creating dict form tuples \n",
    "dict(zip(range(0,9) , reversed(range(0,9))))\n",
    "#zip creates tuples, "
   ]
  },
  {
   "cell_type": "code",
   "execution_count": 468,
   "id": "56a3f177",
   "metadata": {},
   "outputs": [
    {
     "name": "stdout",
     "output_type": "stream",
     "text": [
      "some_value\n",
      "{'a': 'some_value', 'b': [1, 2, 3, 4, 5], 'c': {'aa': 1, 'bb': 2}, 'd': None}\n",
      "{'a': 'some_value', 'b': range(0, 4), 'c': {'aa': 1, 'bb': 2}, 'd': None}\n"
     ]
    }
   ],
   "source": [
    "#access insert or set elements\n",
    "#access\n",
    "print(a['a'])\n",
    "\n",
    "#insert\n",
    "a['d'] = None\n",
    "print(a)\n",
    "\n",
    "#set\n",
    "a['b'] = range(0,4)\n",
    "print(a)"
   ]
  },
  {
   "cell_type": "code",
   "execution_count": 469,
   "id": "e56674cb",
   "metadata": {},
   "outputs": [
    {
     "name": "stdout",
     "output_type": "stream",
     "text": [
      "{'a': 'some_value', 'b': range(0, 4), 'c': {'aa': 1, 'bb': 2}}\n",
      "{'a': 'some_value', 'b': range(0, 4)}\n"
     ]
    }
   ],
   "source": [
    "#del or pop \n",
    "del(a['d'])\n",
    "print(a)\n",
    "\n",
    "a.pop('c')\n",
    "print(a)"
   ]
  },
  {
   "cell_type": "markdown",
   "id": "3e91c25d",
   "metadata": {},
   "source": [
    "### built in dict methods \n",
    "- a.clear\n",
    "- a.copy \n",
    "- a.fromkeys\n",
    "- a.get            ==> if key is in some dictioanry return the same value else return default \n",
    "- a.items\n",
    "- a.keys\n",
    "- a.pop\n",
    "- a.popitem\n",
    "- a.setdefault     ==> suppose you want to a form a new dictionary that has keys as the first letter of value in a list\n",
    "- a.update         ==> can merge one dict into another using the update method\n",
    "- a.values"
   ]
  },
  {
   "cell_type": "code",
   "execution_count": 470,
   "id": "eb375095",
   "metadata": {},
   "outputs": [
    {
     "name": "stdout",
     "output_type": "stream",
     "text": [
      "{}\n",
      "{'a': 'some_value', 'b': [1, 2, 3, 4, 5], 'c': {'aa': 1, 'bb': 2}}\n",
      "{0: 5, 1: 5, 2: 5, 3: 5, 4: 5, 5: 5, 6: 5, 7: 5, 8: 5}\n",
      "{'aa': 1, 'bb': 2}\n",
      "[1, 2, 3, 4, 5]\n",
      "dict_items([('a', 'some_value'), ('b', [1, 2, 3, 4, 5]), ('c', {'aa': 1, 'bb': 2})])\n",
      "dict_keys(['a', 'b', 'c'])\n",
      "dict_values(['some_value', [1, 2, 3, 4, 5], {'aa': 1, 'bb': 2}])\n",
      "('c', {'aa': 1, 'bb': 2})\n",
      "{'a': 'some_value', 'b': [1, 2, 3, 4, 5]}\n",
      "{'a': 'some_value'}\n",
      "{'a': 'some_value', 'b': 'foo', 'c': 7}\n"
     ]
    }
   ],
   "source": [
    "#a.clear()                        ==> clears the dictionary\n",
    "a.clear()\n",
    "print(a)\n",
    "\n",
    "#a.copy()                         ==> copies the dictionary\n",
    "a = {'a': 'some_value' , 'b':[1,2,3,4,5], 'c':{'aa':1, 'bb':2} }\n",
    "av = a.copy()\n",
    "print(av)\n",
    "\n",
    "#a.fromkeys()                     ==> creates new dictionary \n",
    "print(a.fromkeys(range(0,9), 5)) #a.fromkeys(iterable, value= None, /)\n",
    "\n",
    "#a.get()                          ==> if key is in some dictioanry return the same value else return default \n",
    "print(a.get('c', 5))\n",
    "#.get() can also be replaced by a['b']\n",
    "print(a['b'])\n",
    "\n",
    "#a.items(), a.keys() , a.values()==> returns all elements, keys , values \n",
    "print(a.items())\n",
    "print(a.keys())\n",
    "print(a.values())\n",
    "\n",
    "#a.popitem()                      ==> pops out or deletes last element \n",
    "print(a.popitem())\n",
    "print(a)\n",
    "\n",
    "#a.pop()                          ==> pops out or delets an element with the specidied key \n",
    "a.pop('b')\n",
    "print(a)\n",
    "\n",
    "#a.update()                       ==> can merge one dict into another using the update method\n",
    "a.update({'b':'foo', 'c':7})\n",
    "print(a)"
   ]
  },
  {
   "cell_type": "code",
   "execution_count": 471,
   "id": "9aef6ab7",
   "metadata": {},
   "outputs": [
    {
     "data": {
      "text/plain": [
       "{0: 8, 1: 7, 2: 6, 3: 5, 4: 4, 5: 3, 6: 2, 7: 1, 8: 0}"
      ]
     },
     "execution_count": 471,
     "metadata": {},
     "output_type": "execute_result"
    }
   ],
   "source": [
    "#creating dict form tuples \n",
    "dict(zip(range(0,9) , reversed(range(0,9))))\n",
    "#zip creates tuples, "
   ]
  },
  {
   "cell_type": "code",
   "execution_count": 472,
   "id": "80d196a2",
   "metadata": {},
   "outputs": [
    {
     "name": "stdout",
     "output_type": "stream",
     "text": [
      "some_value\n",
      "{'a': ['avinash', 'anukriti'], 's': ['sandeep'], 'r': ['rupali'], 'c': ['chaitanya'], 'm': ['mitul', 'meenal']}\n",
      "defaultdict(<class 'list'>, {'a': ['avinash', 'anukriti'], 's': ['sandeep'], 'r': ['rupali'], 'c': ['chaitanya'], 'm': ['mitul', 'meenal']})\n"
     ]
    }
   ],
   "source": [
    "a = {'a': 'some_value' , 'b':[1,2,3,4,5], 'c':{'aa':1, 'bb':2} }\n",
    "\n",
    "#a.get()                        ==> if key is in some dictioanry return the same value else return default \n",
    "print(a.get('a', 5))\n",
    "\n",
    "#a.setdefault()                 ==> suppose you want to a form a new dictionary that has keys as the first letter of value in a list\n",
    "a1 = ['avinash', 'anukriti', 'sandeep', 'rupali' , 'chaitanya', 'mitul', 'meenal']\n",
    "a1_intialbaseddict={}\n",
    "for word in a1:\n",
    "    letter = word[0]\n",
    "    a1_intialbaseddict.setdefault(letter , []).append(word)\n",
    "print(a1_intialbaseddict)\n",
    "\n",
    "\n",
    "#another way of doing the same thing\n",
    "from collections import defaultdict\n",
    "a1_intialbaseddict2 = defaultdict(list)\n",
    "for word in a1:    \n",
    "    a1_intialbaseddict2[word[0]].append(word)\n",
    "print(a1_intialbaseddict2)"
   ]
  },
  {
   "cell_type": "markdown",
   "id": "127d7737",
   "metadata": {},
   "source": [
    "### Valid dict key types:\n",
    "- val = anytype \n",
    "- key = immutable objects \n",
    "- While the values of a dict can be any Python object, the keys generally        have to be immutable objects like scalar types (int, float, string) or        tuples (all the objects in the tuple need to be immutable, too). The        technical term here is hashability. You can        check whether an object is hashable (can be used as a key in a dict)        with the hash        function:"
   ]
  },
  {
   "cell_type": "code",
   "execution_count": 473,
   "id": "24249eaa",
   "metadata": {},
   "outputs": [
    {
     "data": {
      "text/plain": [
       "-9209053662355515447"
      ]
     },
     "execution_count": 473,
     "metadata": {},
     "output_type": "execute_result"
    }
   ],
   "source": [
    "hash((1, 2, (2, 3)))"
   ]
  },
  {
   "cell_type": "code",
   "execution_count": 474,
   "id": "850430c2",
   "metadata": {},
   "outputs": [
    {
     "data": {
      "text/plain": [
       "-8114448630589539248"
      ]
     },
     "execution_count": 474,
     "metadata": {},
     "output_type": "execute_result"
    }
   ],
   "source": [
    "hash('string')"
   ]
  },
  {
   "cell_type": "code",
   "execution_count": 475,
   "id": "41cab6a8",
   "metadata": {},
   "outputs": [
    {
     "ename": "TypeError",
     "evalue": "unhashable type: 'list'",
     "output_type": "error",
     "traceback": [
      "\u001b[0;31m---------------------------------------------------------------------------\u001b[0m",
      "\u001b[0;31mTypeError\u001b[0m                                 Traceback (most recent call last)",
      "\u001b[0;32m<ipython-input-475-8ffc25aff872>\u001b[0m in \u001b[0;36m<module>\u001b[0;34m\u001b[0m\n\u001b[0;32m----> 1\u001b[0;31m \u001b[0mhash\u001b[0m\u001b[0;34m(\u001b[0m\u001b[0;34m(\u001b[0m\u001b[0;36m1\u001b[0m\u001b[0;34m,\u001b[0m \u001b[0;36m2\u001b[0m\u001b[0;34m,\u001b[0m \u001b[0;34m[\u001b[0m\u001b[0;36m2\u001b[0m\u001b[0;34m,\u001b[0m \u001b[0;36m3\u001b[0m\u001b[0;34m]\u001b[0m\u001b[0;34m)\u001b[0m\u001b[0;34m)\u001b[0m\u001b[0;34m\u001b[0m\u001b[0;34m\u001b[0m\u001b[0m\n\u001b[0m",
      "\u001b[0;31mTypeError\u001b[0m: unhashable type: 'list'"
     ]
    }
   ],
   "source": [
    "hash((1, 2, [2, 3]))"
   ]
  },
  {
   "cell_type": "markdown",
   "id": "e2994805",
   "metadata": {},
   "source": [
    "## d) set \n",
    "- A set is an unordered collection of unique elements. \n",
    "- You can think of them like dicts, but keys only, no values. A set can be created in two ways: \n",
    "        - via the set function or a set literal \n",
    "        - via curly braces\n",
    "- set supports operations like union, intersection, difference, and symmetric difference."
   ]
  },
  {
   "cell_type": "code",
   "execution_count": 476,
   "id": "80a4e78d",
   "metadata": {},
   "outputs": [
    {
     "data": {
      "text/plain": [
       "set"
      ]
     },
     "execution_count": 476,
     "metadata": {},
     "output_type": "execute_result"
    }
   ],
   "source": [
    "{1,2,3,4,5,6} \n",
    "type({1,2,3,4,5,6})"
   ]
  },
  {
   "cell_type": "code",
   "execution_count": 477,
   "id": "6e2521ec",
   "metadata": {},
   "outputs": [
    {
     "data": {
      "text/plain": [
       "{1, 2, 3, 4}"
      ]
     },
     "execution_count": 477,
     "metadata": {},
     "output_type": "execute_result"
    }
   ],
   "source": [
    "set ([1,2,2,1,1,3,4])"
   ]
  },
  {
   "cell_type": "code",
   "execution_count": 478,
   "id": "b85437cf",
   "metadata": {},
   "outputs": [
    {
     "name": "stdout",
     "output_type": "stream",
     "text": [
      "{1, 2, 3, 4, 5, 6, 7, 8, 9, 10, 11, 12}\n",
      "{1, 2, 3, 4, 5, 6, 7, 8, 9, 10, 11, 12}\n",
      "set()\n",
      "set()\n"
     ]
    }
   ],
   "source": [
    "a = {1,2,3,4,5,6}\n",
    "b= {7,8,9,10,11,12}\n",
    "\n",
    "#union\n",
    "print(a.union(b))\n",
    "print(a | b )\n",
    "\n",
    "#intersection \n",
    "print(a.intersection(b))\n",
    "print(a & b )"
   ]
  },
  {
   "cell_type": "markdown",
   "id": "0232d955",
   "metadata": {},
   "source": [
    "\n",
    "- a.add(x) - Add element x to              the set a \n",
    "- a.clear() - Reset the set a to an empty state,              discarding all of its elements\n",
    "- a.remove(x) - Remove element x from              the set a\n",
    "- a.pop() - Remove an arbitrary element from the set a, raising KeyError if the              set is empty\n",
    "- a.union(b) - a | b - All of the unique elements in a and b\n",
    "- a.update(b) - a |= b - Set the contents of a to be the union              of the elements in a and  b \n",
    "- a.intersection(b) - a & b - All of the elements in both  a and b\n",
    "- a.intersection_update(b) - a &= b - Set the contents of a to be the              intersection of the elements in a and              b\n",
    "- a.difference(b) - a - b - The elements in a              that are not in b\n",
    "- a.difference_update(b) - a -= b - Set a to the elements in a that are not in b\n",
    "- a.symmetric_difference(b) - a ^ b - All of the elements in either a or b but not              both\n",
    "- a.symmetric_difference_update(b) - a ^= b - Set a to contain the elements in either a or b but not              both\n",
    "- a.issubset(b) - <= - True if the elements of a              are all contained in b\n",
    "- a.issuperset(b)- >= - True if the elements of b              are all contained in a\n",
    "- a.isdisjoint(b) - True if a and b have no elements in common"
   ]
  },
  {
   "cell_type": "code",
   "execution_count": 479,
   "id": "09d7fba8",
   "metadata": {},
   "outputs": [
    {
     "data": {
      "text/plain": [
       "{1, 2, 3, 4, 5, 6}"
      ]
     },
     "execution_count": 479,
     "metadata": {},
     "output_type": "execute_result"
    }
   ],
   "source": [
    "a"
   ]
  },
  {
   "cell_type": "code",
   "execution_count": 480,
   "id": "ffa45353",
   "metadata": {},
   "outputs": [
    {
     "data": {
      "text/plain": [
       "{1, 2, 3, 4, 5, 6, 7}"
      ]
     },
     "execution_count": 480,
     "metadata": {},
     "output_type": "execute_result"
    }
   ],
   "source": [
    "a.add(7)\n",
    "a"
   ]
  },
  {
   "cell_type": "code",
   "execution_count": 481,
   "id": "c83f3eb4",
   "metadata": {},
   "outputs": [
    {
     "data": {
      "text/plain": [
       "set()"
      ]
     },
     "execution_count": 481,
     "metadata": {},
     "output_type": "execute_result"
    }
   ],
   "source": [
    "a.clear()\n",
    "a"
   ]
  },
  {
   "cell_type": "code",
   "execution_count": 482,
   "id": "dff90282",
   "metadata": {},
   "outputs": [
    {
     "data": {
      "text/plain": [
       "{1, 3, 4, 5, 6}"
      ]
     },
     "execution_count": 482,
     "metadata": {},
     "output_type": "execute_result"
    }
   ],
   "source": [
    "a = {1,2,3,4,5,6}\n",
    "a.remove(2)\n",
    "a"
   ]
  },
  {
   "cell_type": "code",
   "execution_count": 483,
   "id": "34c96e0f",
   "metadata": {},
   "outputs": [
    {
     "data": {
      "text/plain": [
       "{3, 4, 5, 6}"
      ]
     },
     "execution_count": 483,
     "metadata": {},
     "output_type": "execute_result"
    }
   ],
   "source": [
    "a.pop() #raises error if set is empty (DIFFEREENCE BETWEEN POP AND REMOVE)\n",
    "a"
   ]
  },
  {
   "cell_type": "code",
   "execution_count": 484,
   "id": "587221ae",
   "metadata": {},
   "outputs": [
    {
     "name": "stdout",
     "output_type": "stream",
     "text": [
      "union: {1, 2, 3, 4, 5, 6, 7, 8, 9, 10, 11, 12}\n",
      "union: {1, 2, 3, 4, 5, 6, 7, 8, 9, 10, 11, 12}\n",
      "intersection: {6}\n",
      "intersection: {6}\n",
      "union and update: {1, 2, 3, 4, 5, 6, 7, 8, 9, 10, 11, 12}\n",
      "union and update: {1, 2, 3, 4, 5, 6, 7, 8, 9, 10, 11, 12}\n"
     ]
    }
   ],
   "source": [
    "a = {1,2,3,4,5,6}\n",
    "b= {6,7,8,9,10,11,12}\n",
    "print(\"union:\" , a.union(b))\n",
    "print(\"union:\" , a | b)\n",
    "\n",
    "print(\"intersection:\" , a.intersection(b))\n",
    "print(\"intersection:\" , a & b)\n",
    "\n",
    "a.update(b)\n",
    "print(\"union and update:\",a)\n",
    "a |= b\n",
    "print(\"union and update:\", a)\n",
    "\n"
   ]
  },
  {
   "cell_type": "code",
   "execution_count": 485,
   "id": "b48cd80b",
   "metadata": {},
   "outputs": [
    {
     "name": "stdout",
     "output_type": "stream",
     "text": [
      "intersection and update: {6}\n",
      "intersection and update: {6}\n"
     ]
    }
   ],
   "source": [
    "a = {1,2,3,4,5,6}\n",
    "b= {6,7,8,9,10,11,12}\n",
    "a.intersection_update(b)\n",
    "print(\"intersection and update:\", a)\n",
    "a &= b\n",
    "print(\"intersection and update:\", a)"
   ]
  },
  {
   "cell_type": "code",
   "execution_count": 486,
   "id": "5f61e2f0",
   "metadata": {},
   "outputs": [
    {
     "data": {
      "text/plain": [
       "{1, 2, 3, 4, 5}"
      ]
     },
     "execution_count": 486,
     "metadata": {},
     "output_type": "execute_result"
    }
   ],
   "source": [
    "a = {1,2,3,4,5,6}\n",
    "b= {6,7,8,9,10,11,12}\n",
    "a.difference(b) # remove common and display unique of a "
   ]
  },
  {
   "cell_type": "code",
   "execution_count": 487,
   "id": "e3e1c7a7",
   "metadata": {},
   "outputs": [
    {
     "data": {
      "text/plain": [
       "{1, 2, 3, 4, 5, 7, 8, 9, 10, 11, 12}"
      ]
     },
     "execution_count": 487,
     "metadata": {},
     "output_type": "execute_result"
    }
   ],
   "source": [
    "a = {1,2,3,4,5,6}\n",
    "b= {6,7,8,9,10,11,12}\n",
    "a.symmetric_difference(b) # unique elements from a and b "
   ]
  },
  {
   "cell_type": "code",
   "execution_count": 488,
   "id": "afd658c0",
   "metadata": {},
   "outputs": [
    {
     "data": {
      "text/plain": [
       "True"
      ]
     },
     "execution_count": 488,
     "metadata": {},
     "output_type": "execute_result"
    }
   ],
   "source": [
    "a = {1,2,3}\n",
    "b= {6,1,2,3,7,8,9,10,11,12}\n",
    "a.issubset(b) # all a are in b "
   ]
  },
  {
   "cell_type": "code",
   "execution_count": 489,
   "id": "e8a76ac3",
   "metadata": {},
   "outputs": [
    {
     "data": {
      "text/plain": [
       "False"
      ]
     },
     "execution_count": 489,
     "metadata": {},
     "output_type": "execute_result"
    }
   ],
   "source": [
    "a.issuperset(b) # all b are in a "
   ]
  },
  {
   "cell_type": "code",
   "execution_count": 490,
   "id": "87408442",
   "metadata": {},
   "outputs": [
    {
     "data": {
      "text/plain": [
       "False"
      ]
     },
     "execution_count": 490,
     "metadata": {},
     "output_type": "execute_result"
    }
   ],
   "source": [
    "a.isdisjoint(b) #no elements in common"
   ]
  },
  {
   "cell_type": "markdown",
   "id": "86e8ebec",
   "metadata": {},
   "source": [
    "## List, Set, and Dict Comprehensions\n",
    "\n",
    "- List comprehensions are one of the most-loved Python language features. \n",
    "- They allow      you to concisely form a new list by filtering the elements of a      collection, transforming the elements passing the filter in one concise      expression.\n",
    "        - [expr for val in collection if condition]\n",
    "        - dict_comp = {key-expr : value-expr for value in collection             if condition}\n",
    "        - set_comp = {expr for value in collection if condition}\n",
    "  "
   ]
  },
  {
   "cell_type": "code",
   "execution_count": 491,
   "id": "d77cc3c9",
   "metadata": {},
   "outputs": [
    {
     "ename": "NameError",
     "evalue": "name 'condition' is not defined",
     "output_type": "error",
     "traceback": [
      "\u001b[0;31m---------------------------------------------------------------------------\u001b[0m",
      "\u001b[0;31mNameError\u001b[0m                                 Traceback (most recent call last)",
      "\u001b[0;32m<ipython-input-491-f04e5b198ae0>\u001b[0m in \u001b[0;36m<module>\u001b[0;34m\u001b[0m\n\u001b[1;32m      2\u001b[0m \u001b[0mresult\u001b[0m \u001b[0;34m=\u001b[0m \u001b[0;34m[\u001b[0m\u001b[0;34m]\u001b[0m\u001b[0;34m\u001b[0m\u001b[0;34m\u001b[0m\u001b[0m\n\u001b[1;32m      3\u001b[0m \u001b[0;32mfor\u001b[0m \u001b[0mval\u001b[0m \u001b[0;32min\u001b[0m \u001b[0mcollection\u001b[0m\u001b[0;34m:\u001b[0m\u001b[0;34m\u001b[0m\u001b[0;34m\u001b[0m\u001b[0m\n\u001b[0;32m----> 4\u001b[0;31m     \u001b[0;32mif\u001b[0m \u001b[0mcondition\u001b[0m\u001b[0;34m:\u001b[0m\u001b[0;34m\u001b[0m\u001b[0;34m\u001b[0m\u001b[0m\n\u001b[0m\u001b[1;32m      5\u001b[0m         \u001b[0mresult\u001b[0m\u001b[0;34m.\u001b[0m\u001b[0mappend\u001b[0m\u001b[0;34m(\u001b[0m\u001b[0mexpr\u001b[0m\u001b[0;34m)\u001b[0m\u001b[0;34m\u001b[0m\u001b[0;34m\u001b[0m\u001b[0m\n",
      "\u001b[0;31mNameError\u001b[0m: name 'condition' is not defined"
     ]
    }
   ],
   "source": [
    "#This is equivalent to the following for loop:\n",
    "result = []\n",
    "for val in collection:\n",
    "    if condition: \n",
    "        result.append(expr)"
   ]
  },
  {
   "cell_type": "code",
   "execution_count": 492,
   "id": "2c3a939f",
   "metadata": {},
   "outputs": [
    {
     "data": {
      "text/plain": [
       "['BAT', 'CAR', 'DOVE', 'PYTHON']"
      ]
     },
     "execution_count": 492,
     "metadata": {},
     "output_type": "execute_result"
    }
   ],
   "source": [
    "#find elements with len > 2 and convert them in uppercase using list comprehension :\n",
    "strings = ['a', 'as', 'bat', 'car', 'dove', 'python']\n",
    "\n",
    "[ x.upper() for x in strings if len(x) > 2]"
   ]
  },
  {
   "cell_type": "code",
   "execution_count": 493,
   "id": "44d5ca08",
   "metadata": {},
   "outputs": [
    {
     "data": {
      "text/plain": [
       "{1, 2, 3, 4, 6}"
      ]
     },
     "execution_count": 493,
     "metadata": {},
     "output_type": "execute_result"
    }
   ],
   "source": [
    "#create a set containing just the lengths of the strings using set comprehension:\n",
    "{len(x) for x in strings}"
   ]
  },
  {
   "cell_type": "code",
   "execution_count": 494,
   "id": "016322df",
   "metadata": {},
   "outputs": [
    {
     "data": {
      "text/plain": [
       "{1, 2, 3, 4, 6}"
      ]
     },
     "execution_count": 494,
     "metadata": {},
     "output_type": "execute_result"
    }
   ],
   "source": [
    "#the above operation can also be achieved by \n",
    "set(map(len, strings))"
   ]
  },
  {
   "cell_type": "code",
   "execution_count": 495,
   "id": "0be1def1",
   "metadata": {},
   "outputs": [
    {
     "data": {
      "text/plain": [
       "{1: 'a', 2: 'as', 3: 'car', 4: 'dove', 6: 'python'}"
      ]
     },
     "execution_count": 495,
     "metadata": {},
     "output_type": "execute_result"
    }
   ],
   "source": [
    "#dict comprehension\n",
    "{len(val): val for index, val in enumerate (strings)}"
   ]
  },
  {
   "cell_type": "markdown",
   "id": "12b8a38e",
   "metadata": {},
   "source": [
    "## Nested List Comprehension \n",
    "- Keep in mind that the order of the for expressions would be the same if you        wrote a nested for loop instead of        a list comprehension"
   ]
  },
  {
   "cell_type": "code",
   "execution_count": 496,
   "id": "a446c0bb",
   "metadata": {},
   "outputs": [
    {
     "name": "stdout",
     "output_type": "stream",
     "text": [
      "['Steven']\n",
      "['Steven']\n"
     ]
    }
   ],
   "source": [
    "all_data = [['John', 'Emily', 'Michael', 'Mary', 'Steven'],\n",
    "            ['Maria', 'Juan', 'Javier', 'Natalia', 'Pilar']]\n",
    "\n",
    "#display only name with 2 e's \n",
    "# usual way \n",
    "final = []\n",
    "for names in all_data:\n",
    "    enough_es = [name for name in names if name.count('e') >=2]\n",
    "    final.extend(enough_es)\n",
    "print (final)\n",
    "\n",
    "#nested list comprehension \n",
    "print([name for names in all_data for name in names if name.count('e') >=2])"
   ]
  },
  {
   "cell_type": "code",
   "execution_count": 497,
   "id": "29d2a3af",
   "metadata": {},
   "outputs": [
    {
     "data": {
      "text/plain": [
       "[1, 2, 3, 4, 5, 6, 7, 8, 9]"
      ]
     },
     "execution_count": 497,
     "metadata": {},
     "output_type": "execute_result"
    }
   ],
   "source": [
    "# “flatten” a list of tuples of integers into a simple list of integers\n",
    "some_tuples = [(1, 2, 3), (4, 5, 6), (7, 8, 9)]\n",
    "[j for i in some_tuples for j in i] "
   ]
  },
  {
   "cell_type": "code",
   "execution_count": 498,
   "id": "d6945d13",
   "metadata": {},
   "outputs": [
    {
     "data": {
      "text/plain": [
       "[[1, 2, 3], [4, 5, 6], [7, 8, 9]]"
      ]
     },
     "execution_count": 498,
     "metadata": {},
     "output_type": "execute_result"
    }
   ],
   "source": [
    "#list comprehension inside a list comprehension - This produces a list of lists, rather than a flattened list of all of the inner elements\n",
    "[[j for j in i]for i in some_tuples]"
   ]
  },
  {
   "cell_type": "markdown",
   "id": "7abfd148",
   "metadata": {},
   "source": [
    "# 3.2 Functions \n",
    "- important method of coding \n",
    "- improves readbility and organisation \n",
    "- no need to rewrite similar set of code instead create function \n",
    "- created using def and vlaues are returned using return statement \n",
    "        - def function_name (par1, par 2):\n",
    "             - #do something here \n",
    "             - return final_result \n",
    "- paramters can be combination of positional arguments and keyword arguments(i.e having a default value)\n",
    "- global and local viables or namespace - After the function is finished, the local namespace is destroyed "
   ]
  },
  {
   "cell_type": "markdown",
   "id": "7cbe0da0",
   "metadata": {},
   "source": [
    "#### Concept of local and global variable \n",
    "- local = specifed insde a function and distroyed once the function has done executing\n",
    "- global = specified outside the function or inside with GLOBAL keyword\n",
    "\n",
    "NOTE: discourage use of the global keyword. Typically global variables        are used to store some kind of state in a system. If you find yourself        using a lot of them, it may indicate a need for object-oriented        programming (using classes)."
   ]
  },
  {
   "cell_type": "code",
   "execution_count": 499,
   "id": "8acbc896",
   "metadata": {},
   "outputs": [],
   "source": [
    "# concept of local and global variable \n",
    "\n",
    "def func():\n",
    "    aa1 = [] #-- a is local \n",
    "    for i in range(5):\n",
    "        aa1.append(i)\n",
    "    \n",
    "func()"
   ]
  },
  {
   "cell_type": "code",
   "execution_count": 500,
   "id": "c03b9279",
   "metadata": {},
   "outputs": [
    {
     "data": {
      "text/plain": [
       "[0, 1, 2, 3, 4]"
      ]
     },
     "execution_count": 500,
     "metadata": {},
     "output_type": "execute_result"
    }
   ],
   "source": [
    "aa1 #local objects are distroyed Hence the error "
   ]
  },
  {
   "cell_type": "code",
   "execution_count": 501,
   "id": "a205d474",
   "metadata": {},
   "outputs": [],
   "source": [
    "aa1 = [] #--> a is global  \n",
    "def func():\n",
    "    for i in range(5):\n",
    "        aa1.append(i)\n",
    "        \n",
    "func()"
   ]
  },
  {
   "cell_type": "code",
   "execution_count": 502,
   "id": "24559a95",
   "metadata": {},
   "outputs": [
    {
     "data": {
      "text/plain": [
       "[0, 1, 2, 3, 4]"
      ]
     },
     "execution_count": 502,
     "metadata": {},
     "output_type": "execute_result"
    }
   ],
   "source": [
    "aa1 "
   ]
  },
  {
   "cell_type": "code",
   "execution_count": 503,
   "id": "496020f1",
   "metadata": {},
   "outputs": [],
   "source": [
    "def func():\n",
    "    global a2  #--> defined inside but global \n",
    "    a2 = []\n",
    "    for i in range(5):\n",
    "        a2.append(i)\n",
    "func()"
   ]
  },
  {
   "cell_type": "code",
   "execution_count": 504,
   "id": "329b2e78",
   "metadata": {},
   "outputs": [
    {
     "data": {
      "text/plain": [
       "[0, 1, 2, 3, 4]"
      ]
     },
     "execution_count": 504,
     "metadata": {},
     "output_type": "execute_result"
    }
   ],
   "source": [
    "a2"
   ]
  },
  {
   "cell_type": "markdown",
   "id": "2510d608",
   "metadata": {},
   "source": [
    "#### Returning multiple values:"
   ]
  },
  {
   "cell_type": "code",
   "execution_count": 505,
   "id": "8a1a2f61",
   "metadata": {},
   "outputs": [
    {
     "name": "stdout",
     "output_type": "stream",
     "text": [
      "5 6 7\n"
     ]
    }
   ],
   "source": [
    "def f():    \n",
    "    a = 5    \n",
    "    b = 6    \n",
    "    c = 7    \n",
    "    return a, b, c\n",
    "\n",
    "a, b, c = f()\n",
    "print(a,b,c)"
   ]
  },
  {
   "cell_type": "markdown",
   "id": "34c4ad7a",
   "metadata": {},
   "source": [
    "## functions are objects "
   ]
  },
  {
   "cell_type": "code",
   "execution_count": 506,
   "id": "33ce9d98",
   "metadata": {},
   "outputs": [],
   "source": [
    "states = ['   Alabama ', 'Georgia!', 'Georgia', 'georgia', 'FlOrIda','south   carolina##', 'West virginia?']"
   ]
  },
  {
   "cell_type": "code",
   "execution_count": 507,
   "id": "595ce96d",
   "metadata": {},
   "outputs": [
    {
     "data": {
      "text/plain": [
       "['Alabama',\n",
       " 'Georgia',\n",
       " 'Georgia',\n",
       " 'Georgia',\n",
       " 'Florida',\n",
       " 'South   Carolina',\n",
       " 'West Virginia']"
      ]
     },
     "execution_count": 507,
     "metadata": {},
     "output_type": "execute_result"
    }
   ],
   "source": [
    "import re \n",
    "\n",
    "def clean_string(strings):\n",
    "    result = []\n",
    "    for value in strings:        \n",
    "        value = value.strip()                   #stripping whitespace\n",
    "        value = re.sub('[!#?]', '', value)      #removing punctuation symbols  \n",
    "        value = value.title()                   #standardizing on proper capitalization\n",
    "        result.append(value)    \n",
    "    return result\n",
    "\n",
    "clean_string(states)"
   ]
  },
  {
   "cell_type": "code",
   "execution_count": 508,
   "id": "ace11963",
   "metadata": {},
   "outputs": [
    {
     "data": {
      "text/plain": [
       "'Georgia'"
      ]
     },
     "execution_count": 508,
     "metadata": {},
     "output_type": "execute_result"
    }
   ],
   "source": [
    "x = '   Alabama '\n",
    "x.strip()\n",
    "\n",
    "y = 'georgia!'\n",
    "val = re.sub('[!]', '', y)\n",
    "final =val.title()\n",
    "final "
   ]
  },
  {
   "cell_type": "code",
   "execution_count": 509,
   "id": "77f3c690",
   "metadata": {},
   "outputs": [
    {
     "data": {
      "text/plain": [
       "['Alabama',\n",
       " 'Georgia',\n",
       " 'Georgia',\n",
       " 'Georgia',\n",
       " 'Florida',\n",
       " 'South   Carolina',\n",
       " 'West Virginia']"
      ]
     },
     "execution_count": 509,
     "metadata": {},
     "output_type": "execute_result"
    }
   ],
   "source": [
    "def remove_punctuation(value):\n",
    "    return re.sub('[!#?]','',value)\n",
    "\n",
    "ops = [str.strip, remove_punctuation, str.title]\n",
    "\n",
    "def clean_string(strings, ops1):\n",
    "    result = [] \n",
    "    for value in strings:\n",
    "        for function in ops1:\n",
    "            value = function(value)\n",
    "        result.append(value)\n",
    "    return result\n",
    "\n",
    "clean_string(states, ops)  \n",
    "\n"
   ]
  },
  {
   "cell_type": "markdown",
   "id": "12fb8f78",
   "metadata": {},
   "source": [
    "## Anonymous (Lambda) Functions\n",
    "- Python has support for so-called anonymous or      lambda functions, which are a way of writing      functions consisting of a single statemen\n",
    "\n",
    "- NOTE : One reason lambda functions are called anonymous functions is        that , unlike functions declared with the def keyword, the function object        itself is never given an explicit __name__        attribute."
   ]
  },
  {
   "cell_type": "code",
   "execution_count": 510,
   "id": "a5b13df1",
   "metadata": {},
   "outputs": [
    {
     "data": {
      "text/plain": [
       "4"
      ]
     },
     "execution_count": 510,
     "metadata": {},
     "output_type": "execute_result"
    }
   ],
   "source": [
    "def short_function(x):    \n",
    "    return x * 2\n",
    "\n",
    "short_function(2)"
   ]
  },
  {
   "cell_type": "code",
   "execution_count": 511,
   "id": "4db70cdd",
   "metadata": {},
   "outputs": [
    {
     "data": {
      "text/plain": [
       "4"
      ]
     },
     "execution_count": 511,
     "metadata": {},
     "output_type": "execute_result"
    }
   ],
   "source": [
    "equiv_anon = lambda x : x*2  #converting easy fucntion on the fly \n",
    "equiv_anon(2)"
   ]
  },
  {
   "cell_type": "code",
   "execution_count": 512,
   "id": "d9a525e3",
   "metadata": {},
   "outputs": [
    {
     "data": {
      "text/plain": [
       "[8, 0, 2, 10, 12]"
      ]
     },
     "execution_count": 512,
     "metadata": {},
     "output_type": "execute_result"
    }
   ],
   "source": [
    "def apply_to_list(some_list, f):    \n",
    "    return [f(x) for x in some_list]\n",
    "\n",
    "ints = [4, 0, 1, 5, 6]\n",
    "apply_to_list(ints, lambda x: x * 2) #passing lambda function to a fucntion "
   ]
  },
  {
   "cell_type": "markdown",
   "id": "e671ea56",
   "metadata": {},
   "source": [
    "#### Currying: Partial Argument Application\n",
    "- Currying is computer science jargon (named after the mathematician Haskell      Curry) that means deriving new functions from existing ones by      partial argument application"
   ]
  },
  {
   "cell_type": "code",
   "execution_count": 513,
   "id": "95bd1a70",
   "metadata": {},
   "outputs": [],
   "source": [
    "def add_numbers(x, y):    \n",
    "    return x + y"
   ]
  },
  {
   "cell_type": "code",
   "execution_count": 514,
   "id": "ba396c76",
   "metadata": {},
   "outputs": [],
   "source": [
    "add_five = lambda y: add_numbers(5,y) #calling add_numbers fucntion using lambda function "
   ]
  },
  {
   "cell_type": "code",
   "execution_count": 515,
   "id": "7d2dd5a2",
   "metadata": {},
   "outputs": [
    {
     "data": {
      "text/plain": [
       "11"
      ]
     },
     "execution_count": 515,
     "metadata": {},
     "output_type": "execute_result"
    }
   ],
   "source": [
    "add_five(6)"
   ]
  },
  {
   "cell_type": "code",
   "execution_count": 516,
   "id": "2e8b752f",
   "metadata": {},
   "outputs": [
    {
     "data": {
      "text/plain": [
       "5"
      ]
     },
     "execution_count": 516,
     "metadata": {},
     "output_type": "execute_result"
    }
   ],
   "source": [
    "add_numbers(2,3)"
   ]
  },
  {
   "cell_type": "markdown",
   "id": "74408d1a",
   "metadata": {},
   "source": [
    "## Generator \n",
    "- Having a consistent way to iterate over sequences, like objects in a list or      lines in a file, is an important Python feature. This is accomplished by      means of the iterator protocol, a generic way      to make objects iterable. For example, iterating over a dict yields the      dict keys:\n",
    "\n",
    "- A generator is a concise way to construct a      new iterable object. Whereas normal functions execute and return a      single result at a time, generators return a sequence of multiple      results lazily, pausing after each one until the next one is requested.      To create a generator, use the yield keyword      instead of return in a      function:"
   ]
  },
  {
   "cell_type": "code",
   "execution_count": 517,
   "id": "eee3d28c",
   "metadata": {},
   "outputs": [
    {
     "name": "stdout",
     "output_type": "stream",
     "text": [
      "a\n",
      "b\n",
      "c\n"
     ]
    }
   ],
   "source": [
    "# iterating over dictionary \n",
    "some_dict = {'a': 1, 'b': 2, 'c': 3}\n",
    "\n",
    "for key in some_dict:\n",
    "    print(key)"
   ]
  },
  {
   "cell_type": "markdown",
   "id": "322215e9",
   "metadata": {},
   "source": [
    "- Yield - generators return a sequence of multiple results lazily, pausing after each one until the next one is requested\n",
    "- return - return one or more final value only once \n",
    "- print - prints wherever it is called "
   ]
  },
  {
   "cell_type": "code",
   "execution_count": 518,
   "id": "ccffe1d0",
   "metadata": {},
   "outputs": [],
   "source": [
    "#+++++++++++++++++++++++++++++++++++++++++++++++++++++++++yeild\n",
    "def squares(n=10):    \n",
    "    print('Generating squares from 1 to {0}'.format(n ** 2))    \n",
    "    for i in range(1, n + 1):        \n",
    "        yield i ** 2"
   ]
  },
  {
   "cell_type": "code",
   "execution_count": 519,
   "id": "14e8b2ad",
   "metadata": {},
   "outputs": [
    {
     "data": {
      "text/plain": [
       "<generator object squares at 0x7fdc669dd820>"
      ]
     },
     "execution_count": 519,
     "metadata": {},
     "output_type": "execute_result"
    }
   ],
   "source": [
    "gen = squares()\n",
    "gen"
   ]
  },
  {
   "cell_type": "code",
   "execution_count": 520,
   "id": "b3f36842",
   "metadata": {},
   "outputs": [
    {
     "name": "stdout",
     "output_type": "stream",
     "text": [
      "Generating squares from 1 to 100\n",
      "1 4 9 16 25 36 49 64 81 100 "
     ]
    }
   ],
   "source": [
    "for x in gen:\n",
    "    print(x, end = ' ')"
   ]
  },
  {
   "cell_type": "code",
   "execution_count": 521,
   "id": "24f8157a",
   "metadata": {},
   "outputs": [
    {
     "name": "stdout",
     "output_type": "stream",
     "text": [
      "Generating squares from 1 to 100\n"
     ]
    },
    {
     "data": {
      "text/plain": [
       "1"
      ]
     },
     "execution_count": 521,
     "metadata": {},
     "output_type": "execute_result"
    }
   ],
   "source": [
    "#+++++++++++++++++++++++++++++++++++++++++++++++++++++++++return \n",
    "def squares1(n=10):    \n",
    "    print('Generating squares from 1 to {0}'.format(n ** 2))    \n",
    "    for i in range(1, n + 1):        \n",
    "        return i ** 2\n",
    "gen1 = squares1()\n",
    "gen1"
   ]
  },
  {
   "cell_type": "code",
   "execution_count": 522,
   "id": "6c11bec1",
   "metadata": {},
   "outputs": [
    {
     "name": "stdout",
     "output_type": "stream",
     "text": [
      "Generating squares from 1 to 100\n",
      "1\n",
      "4\n",
      "9\n",
      "16\n",
      "25\n",
      "36\n",
      "49\n",
      "64\n",
      "81\n",
      "100\n"
     ]
    }
   ],
   "source": [
    "#+++++++++++++++++++++++++++++++++++++++++++++++++++++++++print\n",
    "def squares1(n=10):    \n",
    "    print('Generating squares from 1 to {0}'.format(n ** 2))    \n",
    "    for i in range(1, n + 1):        \n",
    "        print(i ** 2)\n",
    "gen1 = squares1()\n",
    "gen1"
   ]
  },
  {
   "cell_type": "markdown",
   "id": "4413383f",
   "metadata": {},
   "source": [
    "### generator expressions \n",
    "- concise way of wrting generator expression \n",
    "- This is a generator        analogue to list, dict, and set comprehensions;"
   ]
  },
  {
   "cell_type": "code",
   "execution_count": 523,
   "id": "522eb2ff",
   "metadata": {},
   "outputs": [
    {
     "name": "stdout",
     "output_type": "stream",
     "text": [
      "<generator object _make_gen at 0x7fdc66953890>\n",
      "0\n",
      "1\n",
      "4\n",
      "9\n",
      "16\n",
      "25\n",
      "36\n",
      "49\n",
      "64\n",
      "81\n",
      "100\n",
      "121\n",
      "144\n",
      "169\n",
      "196\n",
      "225\n",
      "256\n",
      "289\n",
      "324\n",
      "361\n",
      "400\n",
      "441\n",
      "484\n",
      "529\n",
      "576\n",
      "625\n",
      "676\n",
      "729\n",
      "784\n",
      "841\n",
      "900\n",
      "961\n",
      "1024\n",
      "1089\n",
      "1156\n",
      "1225\n",
      "1296\n",
      "1369\n",
      "1444\n",
      "1521\n",
      "1600\n",
      "1681\n",
      "1764\n",
      "1849\n",
      "1936\n",
      "2025\n",
      "2116\n",
      "2209\n",
      "2304\n",
      "2401\n",
      "2500\n",
      "2601\n",
      "2704\n",
      "2809\n",
      "2916\n",
      "3025\n",
      "3136\n",
      "3249\n",
      "3364\n",
      "3481\n",
      "3600\n",
      "3721\n",
      "3844\n",
      "3969\n",
      "4096\n",
      "4225\n",
      "4356\n",
      "4489\n",
      "4624\n",
      "4761\n",
      "4900\n",
      "5041\n",
      "5184\n",
      "5329\n",
      "5476\n",
      "5625\n",
      "5776\n",
      "5929\n",
      "6084\n",
      "6241\n",
      "6400\n",
      "6561\n",
      "6724\n",
      "6889\n",
      "7056\n",
      "7225\n",
      "7396\n",
      "7569\n",
      "7744\n",
      "7921\n",
      "8100\n",
      "8281\n",
      "8464\n",
      "8649\n",
      "8836\n",
      "9025\n",
      "9216\n",
      "9409\n",
      "9604\n",
      "9801\n"
     ]
    }
   ],
   "source": [
    "#appraoch - 1 line using generator expression pay attention of ()\n",
    "gen = (i ** 2 for i in range (10))\n",
    "\n",
    "#verbose similar function  - 4 lines \n",
    "def _make_gen():    \n",
    "    for x in range(100):        \n",
    "        yield x ** 2\n",
    "gen = _make_gen()\n",
    "\n",
    "print(gen)\n",
    "for x in gen: \n",
    "    print(x)"
   ]
  },
  {
   "cell_type": "code",
   "execution_count": 524,
   "id": "35402c43",
   "metadata": {},
   "outputs": [
    {
     "data": {
      "text/plain": [
       "328350"
      ]
     },
     "execution_count": 524,
     "metadata": {},
     "output_type": "execute_result"
    }
   ],
   "source": [
    "sum(x ** 2 for x in range(100))"
   ]
  },
  {
   "cell_type": "code",
   "execution_count": 525,
   "id": "0f6b060e",
   "metadata": {},
   "outputs": [
    {
     "data": {
      "text/plain": [
       "{0: 0,\n",
       " 1: 1,\n",
       " 2: 4,\n",
       " 3: 9,\n",
       " 4: 16,\n",
       " 5: 25,\n",
       " 6: 36,\n",
       " 7: 49,\n",
       " 8: 64,\n",
       " 9: 81,\n",
       " 10: 100,\n",
       " 11: 121,\n",
       " 12: 144,\n",
       " 13: 169,\n",
       " 14: 196,\n",
       " 15: 225,\n",
       " 16: 256,\n",
       " 17: 289,\n",
       " 18: 324,\n",
       " 19: 361,\n",
       " 20: 400,\n",
       " 21: 441,\n",
       " 22: 484,\n",
       " 23: 529,\n",
       " 24: 576,\n",
       " 25: 625,\n",
       " 26: 676,\n",
       " 27: 729,\n",
       " 28: 784,\n",
       " 29: 841,\n",
       " 30: 900,\n",
       " 31: 961,\n",
       " 32: 1024,\n",
       " 33: 1089,\n",
       " 34: 1156,\n",
       " 35: 1225,\n",
       " 36: 1296,\n",
       " 37: 1369,\n",
       " 38: 1444,\n",
       " 39: 1521,\n",
       " 40: 1600,\n",
       " 41: 1681,\n",
       " 42: 1764,\n",
       " 43: 1849,\n",
       " 44: 1936,\n",
       " 45: 2025,\n",
       " 46: 2116,\n",
       " 47: 2209,\n",
       " 48: 2304,\n",
       " 49: 2401,\n",
       " 50: 2500,\n",
       " 51: 2601,\n",
       " 52: 2704,\n",
       " 53: 2809,\n",
       " 54: 2916,\n",
       " 55: 3025,\n",
       " 56: 3136,\n",
       " 57: 3249,\n",
       " 58: 3364,\n",
       " 59: 3481,\n",
       " 60: 3600,\n",
       " 61: 3721,\n",
       " 62: 3844,\n",
       " 63: 3969,\n",
       " 64: 4096,\n",
       " 65: 4225,\n",
       " 66: 4356,\n",
       " 67: 4489,\n",
       " 68: 4624,\n",
       " 69: 4761,\n",
       " 70: 4900,\n",
       " 71: 5041,\n",
       " 72: 5184,\n",
       " 73: 5329,\n",
       " 74: 5476,\n",
       " 75: 5625,\n",
       " 76: 5776,\n",
       " 77: 5929,\n",
       " 78: 6084,\n",
       " 79: 6241,\n",
       " 80: 6400,\n",
       " 81: 6561,\n",
       " 82: 6724,\n",
       " 83: 6889,\n",
       " 84: 7056,\n",
       " 85: 7225,\n",
       " 86: 7396,\n",
       " 87: 7569,\n",
       " 88: 7744,\n",
       " 89: 7921,\n",
       " 90: 8100,\n",
       " 91: 8281,\n",
       " 92: 8464,\n",
       " 93: 8649,\n",
       " 94: 8836,\n",
       " 95: 9025,\n",
       " 96: 9216,\n",
       " 97: 9409,\n",
       " 98: 9604,\n",
       " 99: 9801}"
      ]
     },
     "execution_count": 525,
     "metadata": {},
     "output_type": "execute_result"
    }
   ],
   "source": [
    "dict((i, i **2) for i in range(100))"
   ]
  },
  {
   "cell_type": "markdown",
   "id": "438599e2",
   "metadata": {},
   "source": [
    "### itertools module \n",
    "- The standard library itertools module has a collection of generators for many common data        algorithms. For example, groupby        takes any sequence and a function, grouping consecutive elements in        the sequence by return value of the function."
   ]
  },
  {
   "cell_type": "code",
   "execution_count": 526,
   "id": "79aeb011",
   "metadata": {},
   "outputs": [],
   "source": [
    "import itertools "
   ]
  },
  {
   "cell_type": "code",
   "execution_count": 527,
   "id": "5266dfde",
   "metadata": {},
   "outputs": [
    {
     "name": "stdout",
     "output_type": "stream",
     "text": [
      "A ['Alan', 'Adam']\n",
      "W ['Wes', 'Will']\n",
      "A ['Albert']\n",
      "S ['Steven']\n"
     ]
    }
   ],
   "source": [
    "first_letter = lambda x : x[0]\n",
    "names = ['Alan', 'Adam', 'Wes', 'Will', 'Albert', 'Steven']\n",
    "\n",
    "for l, n in itertools.groupby(names, first_letter):\n",
    "    print(l, list(n)) #grouping consecutive elements in the sequence"
   ]
  },
  {
   "cell_type": "markdown",
   "id": "7f54cdd6",
   "metadata": {},
   "source": [
    "- 1) combinations(iterable, k) __=__ Generates a sequence of all possible k-tuples of elements in the                iterable, ignoring order and without replacement (see also the                companion function combinations_with_replacement)\n",
    "- 2) permutations(iterable, k) __=__ Generates a sequence of all possible k-tuples of elements in the                iterable, respecting order\n",
    "- 3) groupby(iterable[, keyfunc]) __=__ Generates (key, sub-iterator) for each unique key\n",
    "- 4) product(*iterables, repeat=1)   __=__ Generates the Cartesian product of the input iterables as                tuples, similar to a nested for loop"
   ]
  },
  {
   "cell_type": "code",
   "execution_count": 528,
   "id": "f65731db",
   "metadata": {},
   "outputs": [
    {
     "data": {
      "text/plain": [
       "<itertools.groupby at 0x7fdc65fda770>"
      ]
     },
     "execution_count": 528,
     "metadata": {},
     "output_type": "execute_result"
    }
   ],
   "source": [
    "itertools.groupby(names, first_letter)"
   ]
  },
  {
   "cell_type": "markdown",
   "id": "37166bf9",
   "metadata": {},
   "source": [
    "## Errors and Exception Handling\n",
    "- In data analysis      applications, many functions only work on certain kinds of input. As an      example, Python’s float function is      capable of casting a string to a floating-point number, but fails with ValueError      on improper inputs:"
   ]
  },
  {
   "cell_type": "code",
   "execution_count": 529,
   "id": "d49e170d",
   "metadata": {},
   "outputs": [
    {
     "data": {
      "text/plain": [
       "123.0"
      ]
     },
     "execution_count": 529,
     "metadata": {},
     "output_type": "execute_result"
    }
   ],
   "source": [
    "float ('123')"
   ]
  },
  {
   "cell_type": "code",
   "execution_count": 530,
   "id": "cd5dd82c",
   "metadata": {},
   "outputs": [
    {
     "ename": "ValueError",
     "evalue": "could not convert string to float: 'something'",
     "output_type": "error",
     "traceback": [
      "\u001b[0;31m---------------------------------------------------------------------------\u001b[0m",
      "\u001b[0;31mValueError\u001b[0m                                Traceback (most recent call last)",
      "\u001b[0;32m<ipython-input-530-2649e4ade0e6>\u001b[0m in \u001b[0;36m<module>\u001b[0;34m\u001b[0m\n\u001b[0;32m----> 1\u001b[0;31m \u001b[0mfloat\u001b[0m\u001b[0;34m(\u001b[0m\u001b[0;34m'something'\u001b[0m\u001b[0;34m)\u001b[0m\u001b[0;34m\u001b[0m\u001b[0;34m\u001b[0m\u001b[0m\n\u001b[0m",
      "\u001b[0;31mValueError\u001b[0m: could not convert string to float: 'something'"
     ]
    }
   ],
   "source": [
    "float('something')"
   ]
  },
  {
   "cell_type": "code",
   "execution_count": 531,
   "id": "8ffe7272",
   "metadata": {},
   "outputs": [
    {
     "data": {
      "text/plain": [
       "'something'"
      ]
     },
     "execution_count": 531,
     "metadata": {},
     "output_type": "execute_result"
    }
   ],
   "source": [
    "#Suppose we wanted a version of float that fails gracefully, returning the input argument.\n",
    "\n",
    "def float1 (x):\n",
    "    try: \n",
    "        return float(x)\n",
    "    except:  # suppress all types of errors\n",
    "        return x \n",
    "float1('something')"
   ]
  },
  {
   "cell_type": "code",
   "execution_count": 532,
   "id": "94abd8ff",
   "metadata": {},
   "outputs": [
    {
     "data": {
      "text/plain": [
       "(1, 2)"
      ]
     },
     "execution_count": 532,
     "metadata": {},
     "output_type": "execute_result"
    }
   ],
   "source": [
    "float1 ((1,2))"
   ]
  },
  {
   "cell_type": "code",
   "execution_count": 533,
   "id": "40aa3631",
   "metadata": {},
   "outputs": [
    {
     "data": {
      "text/plain": [
       "'something'"
      ]
     },
     "execution_count": 533,
     "metadata": {},
     "output_type": "execute_result"
    }
   ],
   "source": [
    "#You might want to only suppress ValueError, since a TypeError (the input was not a string or numeric value) \n",
    "#might indicate a legitimate bug in your program.\n",
    "def attempt_float(x):\n",
    "    try:\n",
    "        return float(x)\n",
    "    except ValueError: #suppressing value error only throw typeError \n",
    "        return x\n",
    "    \n",
    "attempt_float('something')"
   ]
  },
  {
   "cell_type": "code",
   "execution_count": 534,
   "id": "07103a16",
   "metadata": {},
   "outputs": [
    {
     "ename": "TypeError",
     "evalue": "float() argument must be a string or a number, not 'tuple'",
     "output_type": "error",
     "traceback": [
      "\u001b[0;31m---------------------------------------------------------------------------\u001b[0m",
      "\u001b[0;31mTypeError\u001b[0m                                 Traceback (most recent call last)",
      "\u001b[0;32m<ipython-input-534-544f79388350>\u001b[0m in \u001b[0;36m<module>\u001b[0;34m\u001b[0m\n\u001b[0;32m----> 1\u001b[0;31m \u001b[0mattempt_float\u001b[0m\u001b[0;34m(\u001b[0m\u001b[0;34m(\u001b[0m\u001b[0;36m1\u001b[0m\u001b[0;34m,\u001b[0m\u001b[0;36m2\u001b[0m\u001b[0;34m)\u001b[0m\u001b[0;34m)\u001b[0m \u001b[0;31m#now it will only throw Typeerror\u001b[0m\u001b[0;34m\u001b[0m\u001b[0;34m\u001b[0m\u001b[0m\n\u001b[0m",
      "\u001b[0;32m<ipython-input-533-8eca19de65f0>\u001b[0m in \u001b[0;36mattempt_float\u001b[0;34m(x)\u001b[0m\n\u001b[1;32m      3\u001b[0m \u001b[0;32mdef\u001b[0m \u001b[0mattempt_float\u001b[0m\u001b[0;34m(\u001b[0m\u001b[0mx\u001b[0m\u001b[0;34m)\u001b[0m\u001b[0;34m:\u001b[0m\u001b[0;34m\u001b[0m\u001b[0;34m\u001b[0m\u001b[0m\n\u001b[1;32m      4\u001b[0m     \u001b[0;32mtry\u001b[0m\u001b[0;34m:\u001b[0m\u001b[0;34m\u001b[0m\u001b[0;34m\u001b[0m\u001b[0m\n\u001b[0;32m----> 5\u001b[0;31m         \u001b[0;32mreturn\u001b[0m \u001b[0mfloat\u001b[0m\u001b[0;34m(\u001b[0m\u001b[0mx\u001b[0m\u001b[0;34m)\u001b[0m\u001b[0;34m\u001b[0m\u001b[0;34m\u001b[0m\u001b[0m\n\u001b[0m\u001b[1;32m      6\u001b[0m     \u001b[0;32mexcept\u001b[0m \u001b[0mValueError\u001b[0m\u001b[0;34m:\u001b[0m \u001b[0;31m#suppressing value error only throw typeError\u001b[0m\u001b[0;34m\u001b[0m\u001b[0;34m\u001b[0m\u001b[0m\n\u001b[1;32m      7\u001b[0m         \u001b[0;32mreturn\u001b[0m \u001b[0mx\u001b[0m\u001b[0;34m\u001b[0m\u001b[0;34m\u001b[0m\u001b[0m\n",
      "\u001b[0;31mTypeError\u001b[0m: float() argument must be a string or a number, not 'tuple'"
     ]
    }
   ],
   "source": [
    "attempt_float((1,2)) #now it will only throw Typeerror "
   ]
  },
  {
   "cell_type": "code",
   "execution_count": 535,
   "id": "dda8bf1b",
   "metadata": {},
   "outputs": [
    {
     "data": {
      "text/plain": [
       "'something'"
      ]
     },
     "execution_count": 535,
     "metadata": {},
     "output_type": "execute_result"
    }
   ],
   "source": [
    "def attempt_float(x):\n",
    "    try:\n",
    "        return float(x)\n",
    "    except (TypeError, ValueError): # handling multiple type of errors \n",
    "        return x\n",
    "attempt_float('something')"
   ]
  },
  {
   "cell_type": "code",
   "execution_count": 536,
   "id": "7d8cefa8",
   "metadata": {},
   "outputs": [
    {
     "data": {
      "text/plain": [
       "(1, 2)"
      ]
     },
     "execution_count": 536,
     "metadata": {},
     "output_type": "execute_result"
    }
   ],
   "source": [
    "attempt_float((1,2))"
   ]
  },
  {
   "cell_type": "markdown",
   "id": "46b94b82",
   "metadata": {},
   "source": [
    "In some cases, you may not want to suppress an exception, but you want some code to be executed regardless of whether the code in the try block succeeds or not. To do this, use finally:"
   ]
  },
  {
   "cell_type": "code",
   "execution_count": 537,
   "id": "8ff6e6e3",
   "metadata": {},
   "outputs": [
    {
     "ename": "NameError",
     "evalue": "name 'write_to_file' is not defined",
     "output_type": "error",
     "traceback": [
      "\u001b[0;31m---------------------------------------------------------------------------\u001b[0m",
      "\u001b[0;31mNameError\u001b[0m                                 Traceback (most recent call last)",
      "\u001b[0;32m<ipython-input-537-af55f1e6114d>\u001b[0m in \u001b[0;36m<module>\u001b[0;34m\u001b[0m\n\u001b[1;32m      2\u001b[0m \u001b[0;34m\u001b[0m\u001b[0m\n\u001b[1;32m      3\u001b[0m \u001b[0;32mtry\u001b[0m\u001b[0;34m:\u001b[0m\u001b[0;34m\u001b[0m\u001b[0;34m\u001b[0m\u001b[0m\n\u001b[0;32m----> 4\u001b[0;31m     \u001b[0mwrite_to_file\u001b[0m\u001b[0;34m(\u001b[0m\u001b[0mf\u001b[0m\u001b[0;34m)\u001b[0m\u001b[0;34m\u001b[0m\u001b[0;34m\u001b[0m\u001b[0m\n\u001b[0m\u001b[1;32m      5\u001b[0m \u001b[0;32mfinally\u001b[0m\u001b[0;34m:\u001b[0m\u001b[0;34m\u001b[0m\u001b[0;34m\u001b[0m\u001b[0m\n\u001b[1;32m      6\u001b[0m     \u001b[0mf\u001b[0m\u001b[0;34m.\u001b[0m\u001b[0mclose\u001b[0m\u001b[0;34m(\u001b[0m\u001b[0;34m)\u001b[0m\u001b[0;34m\u001b[0m\u001b[0;34m\u001b[0m\u001b[0m\n",
      "\u001b[0;31mNameError\u001b[0m: name 'write_to_file' is not defined"
     ]
    }
   ],
   "source": [
    "f = open(path, 'w')\n",
    "\n",
    "try:\n",
    "    write_to_file(f)\n",
    "finally:\n",
    "    f.close()"
   ]
  },
  {
   "cell_type": "code",
   "execution_count": 538,
   "id": "5ae0ea39",
   "metadata": {},
   "outputs": [
    {
     "name": "stdout",
     "output_type": "stream",
     "text": [
      "Failed\n"
     ]
    }
   ],
   "source": [
    "#Here, the file handle f will always get closed. Similarly, you can have code that executes only if the try: block succeeds using else:\n",
    "f = open(path, 'w')\n",
    "\n",
    "try:\n",
    "    write_to_file(f)\n",
    "except:\n",
    "    print('Failed')\n",
    "else:\n",
    "    print('Succeeded')\n",
    "finally:\n",
    "    f.close()"
   ]
  },
  {
   "cell_type": "markdown",
   "id": "7c7ae99a",
   "metadata": {},
   "source": [
    "# 3.3 Files and the Operating System"
   ]
  },
  {
   "cell_type": "code",
   "execution_count": 539,
   "id": "ed4ed5cb",
   "metadata": {},
   "outputs": [],
   "source": [
    "path = '/Users/avinashtripathi/Desktop/segismundo.txt'"
   ]
  },
  {
   "cell_type": "code",
   "execution_count": 540,
   "id": "11b6a222",
   "metadata": {},
   "outputs": [],
   "source": [
    "#To open a file for reading or writing, use the built-in open function\n",
    "f = open(path)"
   ]
  },
  {
   "cell_type": "code",
   "execution_count": 541,
   "id": "367ed950",
   "metadata": {},
   "outputs": [],
   "source": [
    "for line in f:\n",
    "    print(line)"
   ]
  },
  {
   "cell_type": "code",
   "execution_count": 542,
   "id": "e2ee1c0d",
   "metadata": {},
   "outputs": [
    {
     "data": {
      "text/plain": [
       "[]"
      ]
     },
     "execution_count": 542,
     "metadata": {},
     "output_type": "execute_result"
    }
   ],
   "source": [
    "[x.rstrip() for x in open(path)]"
   ]
  },
  {
   "cell_type": "code",
   "execution_count": 543,
   "id": "b8e83310",
   "metadata": {},
   "outputs": [],
   "source": [
    "#When you use open to create file objects, it is important to explicitly close the file \n",
    "with open(path) as f:\n",
    "    lines = [x.rstrip() for x in f]\n",
    "#with - This will automatically close the file f when exiting the with block.    "
   ]
  },
  {
   "cell_type": "code",
   "execution_count": 544,
   "id": "30d18998",
   "metadata": {},
   "outputs": [],
   "source": [
    "#read returns a certain number of characters from the file\n",
    "f = open(path, 'w')"
   ]
  },
  {
   "cell_type": "code",
   "execution_count": 545,
   "id": "21096a3d",
   "metadata": {},
   "outputs": [],
   "source": [
    "f.write('my name is avinash')\n",
    "f.close()"
   ]
  },
  {
   "cell_type": "code",
   "execution_count": 546,
   "id": "73fbf9ca",
   "metadata": {},
   "outputs": [],
   "source": [
    "f = open(path)"
   ]
  },
  {
   "cell_type": "code",
   "execution_count": 547,
   "id": "5458c4c1",
   "metadata": {},
   "outputs": [
    {
     "data": {
      "text/plain": [
       "'my name is avinash'"
      ]
     },
     "execution_count": 547,
     "metadata": {},
     "output_type": "execute_result"
    }
   ],
   "source": [
    "f.read()"
   ]
  },
  {
   "cell_type": "code",
   "execution_count": 548,
   "id": "92ca08bc",
   "metadata": {},
   "outputs": [],
   "source": [
    "for line in f:\n",
    "    print(line)"
   ]
  },
  {
   "cell_type": "code",
   "execution_count": 549,
   "id": "b829be93",
   "metadata": {},
   "outputs": [
    {
     "data": {
      "text/plain": [
       "18"
      ]
     },
     "execution_count": 549,
     "metadata": {},
     "output_type": "execute_result"
    }
   ],
   "source": [
    "#tell gives you the current position:\n",
    "f.tell()"
   ]
  },
  {
   "cell_type": "code",
   "execution_count": 550,
   "id": "8c4d2213",
   "metadata": {},
   "outputs": [
    {
     "data": {
      "text/plain": [
       "'utf-8'"
      ]
     },
     "execution_count": 550,
     "metadata": {},
     "output_type": "execute_result"
    }
   ],
   "source": [
    "#if you want to check the default encoding - to understand how the charcters are taken \n",
    "import sys\n",
    "sys.getdefaultencoding()"
   ]
  },
  {
   "cell_type": "code",
   "execution_count": 551,
   "id": "5a91306b",
   "metadata": {},
   "outputs": [
    {
     "data": {
      "text/plain": [
       "4"
      ]
     },
     "execution_count": 551,
     "metadata": {},
     "output_type": "execute_result"
    }
   ],
   "source": [
    "f.seek(4) #- will set your pointer to a position "
   ]
  },
  {
   "cell_type": "code",
   "execution_count": 552,
   "id": "f713d9b3",
   "metadata": {},
   "outputs": [
    {
     "data": {
      "text/plain": [
       "'ame is'"
      ]
     },
     "execution_count": 552,
     "metadata": {},
     "output_type": "execute_result"
    }
   ],
   "source": [
    "f.read(6) #will read the number of charcters "
   ]
  },
  {
   "cell_type": "code",
   "execution_count": 553,
   "id": "09ebd446",
   "metadata": {},
   "outputs": [
    {
     "name": "stdout",
     "output_type": "stream",
     "text": [
      "Sueña el rico en su riqueza,\n",
      "\n",
      "que más cuidados le ofrece;\n",
      "\n",
      "\n",
      "\n",
      "sueña el pobre que padece\n",
      "\n",
      "su miseria y su pobreza;\n",
      "\n",
      "\n",
      "\n",
      "sueña el que a medrar empieza,\n",
      "\n",
      "sueña el que afana y pretende,\n",
      "\n",
      "sueña el que agravia y ofende,\n",
      "\n",
      "\n",
      "\n",
      "y en el mundo, en conclusión,\n",
      "\n",
      "todos sueñan lo que son,\n",
      "\n",
      "aunque ninguno lo entiende.\n",
      "\n"
     ]
    },
    {
     "data": {
      "text/plain": [
       "['Sueña el rico en su riqueza,',\n",
       " 'que más cuidados le ofrece;',\n",
       " '',\n",
       " 'sueña el pobre que padece',\n",
       " 'su miseria y su pobreza;',\n",
       " '',\n",
       " 'sueña el que a medrar empieza,',\n",
       " 'sueña el que afana y pretende,',\n",
       " 'sueña el que agravia y ofende,',\n",
       " '',\n",
       " 'y en el mundo, en conclusión,',\n",
       " 'todos sueñan lo que son,',\n",
       " 'aunque ninguno lo entiende.']"
      ]
     },
     "execution_count": 553,
     "metadata": {},
     "output_type": "execute_result"
    }
   ],
   "source": [
    "with open(path, 'w') as f:\n",
    "    f.write(\"Sueña el rico en su riqueza,\\nque más cuidados le ofrece;\\n\\nsueña el pobre que padece\\nsu miseria y su pobreza;\\n\\nsueña el que a medrar empieza,\\nsueña el que afana y pretende,\\nsueña el que agravia y ofende,\\n\\ny en el mundo, en conclusión,\\ntodos sueñan lo que son,\\naunque ninguno lo entiende.\\n\")\n",
    "    \n",
    "f = open(path)\n",
    "for lines in f: \n",
    "    print(lines)\n",
    "    \n",
    "[l.rstrip() for l in open(path)]"
   ]
  },
  {
   "cell_type": "code",
   "execution_count": 554,
   "id": "3934c7f7",
   "metadata": {},
   "outputs": [],
   "source": [
    "#Beware using seek when opening files in any mode other than binary. If the file position falls in the middle \n",
    "#of the bytes defining a Unicode character, then subsequent reads will result in an error\n",
    "\n",
    "#encoding option in open command will convert the encoding of file from one to another file. "
   ]
  }
 ],
 "metadata": {
  "kernelspec": {
   "display_name": "Python 3",
   "language": "python",
   "name": "python3"
  },
  "language_info": {
   "codemirror_mode": {
    "name": "ipython",
    "version": 3
   },
   "file_extension": ".py",
   "mimetype": "text/x-python",
   "name": "python",
   "nbconvert_exporter": "python",
   "pygments_lexer": "ipython3",
   "version": "3.8.8"
  }
 },
 "nbformat": 4,
 "nbformat_minor": 5
}
